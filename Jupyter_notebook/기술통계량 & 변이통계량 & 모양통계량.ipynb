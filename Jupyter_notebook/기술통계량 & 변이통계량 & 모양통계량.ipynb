{
 "cells": [
  {
   "cell_type": "code",
   "execution_count": 1,
   "id": "d1ecc0ec",
   "metadata": {},
   "outputs": [],
   "source": [
    "import numpy as np\n",
    "import pandas as pd\n",
    "import math\n",
    "from scipy.stats import *\n",
    "import scipy as sp\n",
    "\n",
    "# Jupyter Notebook의 출력을 소수점 이하 3자리로 제한\n",
    "%precision 3\n",
    "# Dataframe의 출력을 소수점 이하 3자리로 제한\n",
    "pd.set_option('precision', 3)\n"
   ]
  },
  {
   "cell_type": "code",
   "execution_count": 2,
   "id": "c4f480ee",
   "metadata": {},
   "outputs": [],
   "source": [
    "from IPython.core.interactiveshell import InteractiveShell\n",
    "InteractiveShell.ast_node_interactivity=\"all\"\n"
   ]
  },
  {
   "cell_type": "markdown",
   "id": "b315046e",
   "metadata": {},
   "source": [
    "- 참고사이트\n",
    "\n",
    "\n",
    "scipy    stats\n",
    "\n",
    "https://docs.scipy.org/doc/scipy/reference/stats.html\n",
    "\n",
    "stable   statistics\n",
    "\n",
    "https://numpy.org/doc/stable/reference/routines.statistics.html\n",
    "\n",
    "math\n",
    "\n",
    "https://docs.python.org/ko/3/library/math.html#number-theoretic-and-representation-functions\n",
    "\n"
   ]
  },
  {
   "cell_type": "markdown",
   "id": "102c5cf1",
   "metadata": {},
   "source": [
    "# 위치 통계량\n",
    "- 중심경향성\n",
    "\n",
    "## 평균\n",
    "- 가장많이 사용되는 대표값\n",
    "    - 모든 데이터의 합을 데이터의 개수로 나눈값 (산술평균)\n",
    "- 특징\n",
    "    - 계산이 쉽고 수학적으로 활용하기 편리하며 각자료에 유일값을 가짐\n",
    "    - 분산의 계산, 모수추정, 가설 검정등 통계에서 유리한 자료\n",
    "  "
   ]
  },
  {
   "cell_type": "markdown",
   "id": "c392b9e2",
   "metadata": {},
   "source": [
    "### 산술평균"
   ]
  },
  {
   "cell_type": "code",
   "execution_count": 6,
   "id": "d9f8e907",
   "metadata": {},
   "outputs": [
    {
     "data": {
      "text/plain": [
       "3.0"
      ]
     },
     "execution_count": 6,
     "metadata": {},
     "output_type": "execute_result"
    },
    {
     "data": {
      "text/plain": [
       "3.0"
      ]
     },
     "execution_count": 6,
     "metadata": {},
     "output_type": "execute_result"
    },
    {
     "data": {
      "text/plain": [
       "3.000"
      ]
     },
     "execution_count": 6,
     "metadata": {},
     "output_type": "execute_result"
    }
   ],
   "source": [
    "x = [1,2,3,4,5]\n",
    "np.mean(x)\n",
    "np.array(x).mean()\n",
    "pd.Series(x).mean()"
   ]
  },
  {
   "cell_type": "markdown",
   "id": "d687a9aa",
   "metadata": {},
   "source": [
    "- 교제 31쪽 예제"
   ]
  },
  {
   "cell_type": "code",
   "execution_count": 8,
   "id": "1eab452e",
   "metadata": {},
   "outputs": [
    {
     "data": {
      "text/html": [
       "<div>\n",
       "<style scoped>\n",
       "    .dataframe tbody tr th:only-of-type {\n",
       "        vertical-align: middle;\n",
       "    }\n",
       "\n",
       "    .dataframe tbody tr th {\n",
       "        vertical-align: top;\n",
       "    }\n",
       "\n",
       "    .dataframe thead th {\n",
       "        text-align: right;\n",
       "    }\n",
       "</style>\n",
       "<table border=\"1\" class=\"dataframe\">\n",
       "  <thead>\n",
       "    <tr style=\"text-align: right;\">\n",
       "      <th></th>\n",
       "      <th>english</th>\n",
       "      <th>mathematics</th>\n",
       "    </tr>\n",
       "    <tr>\n",
       "      <th>student number</th>\n",
       "      <th></th>\n",
       "      <th></th>\n",
       "    </tr>\n",
       "  </thead>\n",
       "  <tbody>\n",
       "    <tr>\n",
       "      <th>1</th>\n",
       "      <td>42</td>\n",
       "      <td>65</td>\n",
       "    </tr>\n",
       "    <tr>\n",
       "      <th>2</th>\n",
       "      <td>69</td>\n",
       "      <td>80</td>\n",
       "    </tr>\n",
       "    <tr>\n",
       "      <th>3</th>\n",
       "      <td>56</td>\n",
       "      <td>63</td>\n",
       "    </tr>\n",
       "    <tr>\n",
       "      <th>4</th>\n",
       "      <td>41</td>\n",
       "      <td>63</td>\n",
       "    </tr>\n",
       "    <tr>\n",
       "      <th>5</th>\n",
       "      <td>57</td>\n",
       "      <td>76</td>\n",
       "    </tr>\n",
       "  </tbody>\n",
       "</table>\n",
       "</div>"
      ],
      "text/plain": [
       "                english  mathematics\n",
       "student number                      \n",
       "1                    42           65\n",
       "2                    69           80\n",
       "3                    56           63\n",
       "4                    41           63\n",
       "5                    57           76"
      ]
     },
     "execution_count": 8,
     "metadata": {},
     "output_type": "execute_result"
    }
   ],
   "source": [
    "df = pd.read_csv('./csv_File/ch2_scores_em.csv',index_col='student number')\n",
    "df.head()"
   ]
  },
  {
   "cell_type": "code",
   "execution_count": 9,
   "id": "98cf51d4",
   "metadata": {},
   "outputs": [
    {
     "data": {
      "text/plain": [
       "(50, 2)"
      ]
     },
     "execution_count": 9,
     "metadata": {},
     "output_type": "execute_result"
    }
   ],
   "source": [
    "df.shape"
   ]
  },
  {
   "cell_type": "code",
   "execution_count": 10,
   "id": "b8067344",
   "metadata": {},
   "outputs": [
    {
     "data": {
      "text/plain": [
       "58.380"
      ]
     },
     "execution_count": 10,
     "metadata": {},
     "output_type": "execute_result"
    }
   ],
   "source": [
    "# sum(), len() 함수를 이용해서 산술평균 계산\n",
    "# 영어과목의 평균 계산 \n",
    "sum(df['english'])/len(df['english'])"
   ]
  },
  {
   "cell_type": "code",
   "execution_count": 11,
   "id": "c5704bea",
   "metadata": {},
   "outputs": [
    {
     "data": {
      "text/plain": [
       "58.380"
      ]
     },
     "execution_count": 11,
     "metadata": {},
     "output_type": "execute_result"
    }
   ],
   "source": [
    "# numpy 의 mean()으로 계산\n",
    "np.mean(df['english'])"
   ]
  },
  {
   "cell_type": "code",
   "execution_count": 12,
   "id": "fe20ecd8",
   "metadata": {},
   "outputs": [
    {
     "data": {
      "text/plain": [
       "58.380"
      ]
     },
     "execution_count": 12,
     "metadata": {},
     "output_type": "execute_result"
    }
   ],
   "source": [
    "# pandas 의 mean()\n",
    "df['english'].mean()"
   ]
  },
  {
   "cell_type": "code",
   "execution_count": 13,
   "id": "914b95f3",
   "metadata": {},
   "outputs": [
    {
     "name": "stderr",
     "output_type": "stream",
     "text": [
      "<ipython-input-13-224114dae0e2>:2: DeprecationWarning: scipy.mean is deprecated and will be removed in SciPy 2.0.0, use numpy.mean instead\n",
      "  sp.mean(df['english'])\n"
     ]
    },
    {
     "data": {
      "text/plain": [
       "58.380"
      ]
     },
     "execution_count": 13,
     "metadata": {},
     "output_type": "execute_result"
    }
   ],
   "source": [
    "# scipy 의 mean()\n",
    "sp.mean(df['english'])"
   ]
  },
  {
   "cell_type": "markdown",
   "id": "35f6f70d",
   "metadata": {},
   "source": [
    "## 기하 평균\n",
    "- n개의 양수 값을 모두 곱한 것의 제곱근\n",
    "- 성장률의 평균\n",
    "\n"
   ]
  },
  {
   "cell_type": "code",
   "execution_count": 14,
   "id": "5e9f9911",
   "metadata": {},
   "outputs": [],
   "source": [
    "data = [2,8,3]"
   ]
  },
  {
   "cell_type": "code",
   "execution_count": 15,
   "id": "5934de9a",
   "metadata": {},
   "outputs": [
    {
     "data": {
      "text/plain": [
       "4.333333333333333"
      ]
     },
     "execution_count": 15,
     "metadata": {},
     "output_type": "execute_result"
    }
   ],
   "source": [
    "# 산술평균\n",
    "np.mean(data)"
   ]
  },
  {
   "cell_type": "code",
   "execution_count": 17,
   "id": "ef28a560",
   "metadata": {},
   "outputs": [
    {
     "data": {
      "text/plain": [
       "3.634"
      ]
     },
     "execution_count": 17,
     "metadata": {},
     "output_type": "execute_result"
    }
   ],
   "source": [
    "# 기하 평균 \n",
    "math.prod(data)**(1/len(data))"
   ]
  },
  {
   "cell_type": "code",
   "execution_count": 18,
   "id": "0035b9df",
   "metadata": {},
   "outputs": [
    {
     "data": {
      "text/plain": [
       "3.634241185664279"
      ]
     },
     "execution_count": 18,
     "metadata": {},
     "output_type": "execute_result"
    }
   ],
   "source": [
    "# scipy.stats.gmean()\n",
    "gmean(data)"
   ]
  },
  {
   "cell_type": "markdown",
   "id": "686bd790",
   "metadata": {},
   "source": [
    "## 조화평균"
   ]
  },
  {
   "cell_type": "code",
   "execution_count": 21,
   "id": "e30e6c66",
   "metadata": {},
   "outputs": [
    {
     "data": {
      "text/plain": [
       "array([0.013, 0.008])"
      ]
     },
     "execution_count": 21,
     "metadata": {},
     "output_type": "execute_result"
    },
    {
     "data": {
      "text/plain": [
       "95.99999999999999"
      ]
     },
     "execution_count": 21,
     "metadata": {},
     "output_type": "execute_result"
    }
   ],
   "source": [
    "# 조화평균 계산\n",
    "data = np.array([80,120])\n",
    "1/data   # 역수들 \n",
    "len(data)/np.sum(1/data)"
   ]
  },
  {
   "cell_type": "code",
   "execution_count": 20,
   "id": "be017150",
   "metadata": {},
   "outputs": [
    {
     "data": {
      "text/plain": [
       "95.99999999999999"
      ]
     },
     "execution_count": 20,
     "metadata": {},
     "output_type": "execute_result"
    }
   ],
   "source": [
    "# scipy.stat.hmean\n",
    "hmean(data)"
   ]
  },
  {
   "cell_type": "markdown",
   "id": "61c9a73e",
   "metadata": {},
   "source": [
    "## 가중평균\n",
    "- numpy.average(a[,axis,weights,returned]) 이용"
   ]
  },
  {
   "cell_type": "code",
   "execution_count": 23,
   "id": "d84e8489",
   "metadata": {},
   "outputs": [
    {
     "data": {
      "text/plain": [
       "2.5"
      ]
     },
     "execution_count": 23,
     "metadata": {},
     "output_type": "execute_result"
    },
    {
     "data": {
      "text/plain": [
       "4.0"
      ]
     },
     "execution_count": 23,
     "metadata": {},
     "output_type": "execute_result"
    }
   ],
   "source": [
    "np.average(np.arange(1,5))\n",
    "np.average(np.arange(1,11),weights = np.arange(10,0,-1))"
   ]
  },
  {
   "cell_type": "code",
   "execution_count": 24,
   "id": "8b765be3",
   "metadata": {},
   "outputs": [
    {
     "data": {
      "text/plain": [
       "5.5"
      ]
     },
     "execution_count": 24,
     "metadata": {},
     "output_type": "execute_result"
    }
   ],
   "source": [
    "np.mean(np.arange(1,11))"
   ]
  },
  {
   "cell_type": "markdown",
   "id": "6ff906f4",
   "metadata": {},
   "source": [
    "## 중앙값(median)\n",
    "- 중위수 , 중간값\n",
    "- 데이터를 크기 순서대로 나열할 때 가운데 위치하는 숫자\n",
    "- 데이터의 개수가 홀수일 경우 : 가운데 위치하는 유일한 숫자\n",
    "- 데이터의 개수가 짝수일 경우 : 가운데 위치하는 2개의 숫자의 평균값\n",
    "\n",
    "- 특징\n",
    "    - 극단적인 값에 영향을 받지 않는 장점\n",
    "    - 가운데 위치하는 한개 또는 두개의 데이터만으로 계산\n",
    "- 극단적인 값이 포함된 데이터의 대표 값 비교\n",
    "    - 평균 : 모든 데이터를 전부 고려하여 계산한 값 , 무게중심\n",
    "    - 중앙값 :  순서에 따라 가운데에 위치 데이터가 크든 작든 영향을 덜받음 "
   ]
  },
  {
   "cell_type": "code",
   "execution_count": 25,
   "id": "dc5db871",
   "metadata": {},
   "outputs": [
    {
     "data": {
      "text/plain": [
       "array([42, 69, 56, 41, 57, 48, 65, 49, 65, 58, 70, 47, 51, 64, 62, 70, 71,\n",
       "       68, 73, 37, 65, 65, 61, 52, 57, 57, 75, 61, 47, 54, 66, 54, 54, 42,\n",
       "       37, 79, 56, 62, 62, 55, 63, 57, 57, 67, 55, 45, 66, 55, 64, 66],\n",
       "      dtype=int64)"
      ]
     },
     "execution_count": 25,
     "metadata": {},
     "output_type": "execute_result"
    }
   ],
   "source": [
    "# 예제 데이터 \n",
    "scores = np.array(df['english'])\n",
    "scores"
   ]
  },
  {
   "cell_type": "code",
   "execution_count": 26,
   "id": "1c09afe2",
   "metadata": {},
   "outputs": [
    {
     "data": {
      "text/plain": [
       "array([37, 37, 41, 42, 42, 45, 47, 47, 48, 49, 51, 52, 54, 54, 54, 55, 55,\n",
       "       55, 56, 56, 57, 57, 57, 57, 57, 58, 61, 61, 62, 62, 62, 63, 64, 64,\n",
       "       65, 65, 65, 65, 66, 66, 66, 67, 68, 69, 70, 70, 71, 73, 75, 79],\n",
       "      dtype=int64)"
      ]
     },
     "execution_count": 26,
     "metadata": {},
     "output_type": "execute_result"
    }
   ],
   "source": [
    "# 순서 통계량 \n",
    "sorted_scores = np.sort(scores)\n",
    "sorted_scores"
   ]
  },
  {
   "cell_type": "code",
   "execution_count": 27,
   "id": "375fb15f",
   "metadata": {},
   "outputs": [
    {
     "data": {
      "text/plain": [
       "57.5"
      ]
     },
     "execution_count": 27,
     "metadata": {},
     "output_type": "execute_result"
    }
   ],
   "source": [
    "# median 계산식 \n",
    "n = len(sorted_scores)\n",
    "if n%2 == 0:\n",
    "    x1 = sorted_scores[n//2 - 1]\n",
    "    x2 = sorted_scores[n//2]\n",
    "    median = (x1+x2)/2\n",
    "else:\n",
    "    median = sorted_scores[(n+1)//2-1]\n",
    "median"
   ]
  },
  {
   "cell_type": "code",
   "execution_count": 28,
   "id": "f43f7b4d",
   "metadata": {},
   "outputs": [
    {
     "data": {
      "text/plain": [
       "(57, 58)"
      ]
     },
     "execution_count": 28,
     "metadata": {},
     "output_type": "execute_result"
    }
   ],
   "source": [
    "sorted_scores[24],sorted_scores[25]"
   ]
  },
  {
   "cell_type": "code",
   "execution_count": 29,
   "id": "942d1226",
   "metadata": {},
   "outputs": [
    {
     "data": {
      "text/plain": [
       "57.5"
      ]
     },
     "execution_count": 29,
     "metadata": {},
     "output_type": "execute_result"
    }
   ],
   "source": [
    "# numpy median()함수 \n",
    "np.median(scores)"
   ]
  },
  {
   "cell_type": "code",
   "execution_count": 30,
   "id": "492186c0",
   "metadata": {},
   "outputs": [
    {
     "data": {
      "text/plain": [
       "57.500"
      ]
     },
     "execution_count": 30,
     "metadata": {},
     "output_type": "execute_result"
    }
   ],
   "source": [
    "# pandas.DataFrame 의 median()함수 \n",
    "df['english'].median()"
   ]
  },
  {
   "cell_type": "markdown",
   "id": "d37c74cb",
   "metadata": {},
   "source": [
    "## 절사 평균\n",
    "- 평균의 장점과 중앙값의 장점을 갖는 대표값\n",
    "\n",
    "- 절사비율(%)\n",
    "    - 전체 데이터의 개수에 대해 몇% 의 데이터 (상위+하위) 를 배제할 것인가 결정\n",
    "    "
   ]
  },
  {
   "cell_type": "code",
   "execution_count": 32,
   "id": "cdb02e45",
   "metadata": {},
   "outputs": [
    {
     "data": {
      "text/plain": [
       "array([2894314.237, 2218254.925, 2048248.734, 1068253.648, 1861305.899,\n",
       "       1822620.51 , 1958629.259, 1686499.662, 1978090.916, 1761390.985])"
      ]
     },
     "execution_count": 32,
     "metadata": {},
     "output_type": "execute_result"
    }
   ],
   "source": [
    "np.random.seed(3)\n",
    "income = np.random.normal(2000000,500000,100)\n",
    "income[:10]"
   ]
  },
  {
   "cell_type": "code",
   "execution_count": 33,
   "id": "234dd90d",
   "metadata": {},
   "outputs": [
    {
     "data": {
      "text/plain": [
       "1945681.4627969689"
      ]
     },
     "execution_count": 33,
     "metadata": {},
     "output_type": "execute_result"
    }
   ],
   "source": [
    "# 평균 소득\n",
    "np.mean(income)"
   ]
  },
  {
   "cell_type": "code",
   "execution_count": 35,
   "id": "e848c668",
   "metadata": {},
   "outputs": [],
   "source": [
    "# 소득 10억인 사람 추가\n",
    "income = np.append(income,10 ** 9)\n"
   ]
  },
  {
   "cell_type": "code",
   "execution_count": 36,
   "id": "76948f46",
   "metadata": {},
   "outputs": [
    {
     "data": {
      "text/plain": [
       "11711453.296859775"
      ]
     },
     "execution_count": 36,
     "metadata": {},
     "output_type": "execute_result"
    }
   ],
   "source": [
    "np.mean(income)"
   ]
  },
  {
   "cell_type": "code",
   "execution_count": 37,
   "id": "989f91b0",
   "metadata": {},
   "outputs": [
    {
     "data": {
      "text/plain": [
       "1910517.9894137066"
      ]
     },
     "execution_count": 37,
     "metadata": {},
     "output_type": "execute_result"
    }
   ],
   "source": [
    "np.median(income)"
   ]
  },
  {
   "cell_type": "markdown",
   "id": "7a4441a3",
   "metadata": {},
   "source": [
    "- 절사 평균 계산"
   ]
  },
  {
   "cell_type": "code",
   "execution_count": 39,
   "id": "faab2adf",
   "metadata": {},
   "outputs": [
    {
     "data": {
      "text/plain": [
       "1934158.764258797"
      ]
     },
     "execution_count": 39,
     "metadata": {},
     "output_type": "execute_result"
    }
   ],
   "source": [
    "# scipy.stats.\n",
    "trim_mean(income,0.2)"
   ]
  },
  {
   "cell_type": "markdown",
   "id": "313d6a01",
   "metadata": {},
   "source": [
    "## 최빈값(mode)\n",
    "- 자료 중 가장 자주 나타나는(빈도가 가장 많은) 관측치\n",
    "    - 평균,중위수와 달리 자료에 따라 존재하지 않을수도 유일값이 아닐수도 있음\n",
    "    - 질적 변수에도 활용\n",
    "- 중앙값과 최빈값 특징\n",
    "    - 자료 속에 극단적인 이상치가 있는 경우 극단적 관찰치에 덜 민감한 중앙ㄱ밧 사용\n",
    "    - 자료의 분포가 비대칭인 경우 평균의 보조 자료로 활용\n",
    "    - 개방 구간을 갖는 도수분포표의 경우 중앙값 또는 최빈값을 대표값으로 사용\n",
    "    - 명목자료와 서열자료의 경우 최빈값 사용"
   ]
  },
  {
   "cell_type": "code",
   "execution_count": 42,
   "id": "73f9440f",
   "metadata": {},
   "outputs": [
    {
     "data": {
      "text/plain": [
       "array(['C', 'A', 'B', 'A', 'A', 'A', 'B', 'B', 'C', 'B'], dtype='<U1')"
      ]
     },
     "execution_count": 42,
     "metadata": {},
     "output_type": "execute_result"
    },
    {
     "data": {
      "text/plain": [
       "1000"
      ]
     },
     "execution_count": 42,
     "metadata": {},
     "output_type": "execute_result"
    }
   ],
   "source": [
    "np.random.seed(3)\n",
    "data = np.random.choice(['A','B','C'],1000)\n",
    "# A , B, C 라는 요소로 이루어진 데이터\n",
    "data[:10]\n",
    "len(data)"
   ]
  },
  {
   "cell_type": "code",
   "execution_count": 43,
   "id": "17c62a0b",
   "metadata": {},
   "outputs": [
    {
     "data": {
      "text/plain": [
       "ModeResult(mode=array(['A'], dtype='<U1'), count=array([350]))"
      ]
     },
     "execution_count": 43,
     "metadata": {},
     "output_type": "execute_result"
    }
   ],
   "source": [
    "mode(data)"
   ]
  },
  {
   "cell_type": "code",
   "execution_count": 44,
   "id": "a848cc4c",
   "metadata": {},
   "outputs": [
    {
     "data": {
      "text/plain": [
       "array(['A'], dtype='<U1')"
      ]
     },
     "execution_count": 44,
     "metadata": {},
     "output_type": "execute_result"
    }
   ],
   "source": [
    "# 최빈값 \n",
    "mode(data).mode"
   ]
  },
  {
   "cell_type": "code",
   "execution_count": 45,
   "id": "9f980cde",
   "metadata": {},
   "outputs": [
    {
     "data": {
      "text/plain": [
       "array([350])"
      ]
     },
     "execution_count": 45,
     "metadata": {},
     "output_type": "execute_result"
    }
   ],
   "source": [
    "#  최빈값의 빈도\n",
    "mode(data).count"
   ]
  },
  {
   "cell_type": "markdown",
   "id": "7ed65b61",
   "metadata": {},
   "source": [
    "- pandas.Series 의 values_counts 를 이용하여 첫번째 결과가 최빈값"
   ]
  },
  {
   "cell_type": "code",
   "execution_count": 47,
   "id": "3cf7b962",
   "metadata": {},
   "outputs": [
    {
     "data": {
      "text/plain": [
       "A    350\n",
       "B    328\n",
       "C    322\n",
       "dtype: int64"
      ]
     },
     "execution_count": 47,
     "metadata": {},
     "output_type": "execute_result"
    }
   ],
   "source": [
    "pd.Series(data).value_counts()"
   ]
  },
  {
   "cell_type": "code",
   "execution_count": 49,
   "id": "50ea7f74",
   "metadata": {},
   "outputs": [
    {
     "data": {
      "text/plain": [
       "'A'"
      ]
     },
     "execution_count": 49,
     "metadata": {},
     "output_type": "execute_result"
    },
    {
     "data": {
      "text/plain": [
       "350"
      ]
     },
     "execution_count": 49,
     "metadata": {},
     "output_type": "execute_result"
    }
   ],
   "source": [
    "pd.Series(data).value_counts().index[0]   # 최빈값\n",
    "pd.Series(data).value_counts()[0]   # 빈도수"
   ]
  },
  {
   "cell_type": "code",
   "execution_count": 50,
   "id": "9c699e92",
   "metadata": {},
   "outputs": [
    {
     "data": {
      "text/plain": [
       "array([ 78.287, 119.947, 105.66 ,  69.874,  88.428, 133.029,  51.466,\n",
       "        91.422, 125.319,  82.665])"
      ]
     },
     "execution_count": 50,
     "metadata": {},
     "output_type": "execute_result"
    }
   ],
   "source": [
    "np.random.seed(123)\n",
    "data = np.random.normal(100,20,size = 1000)\n",
    "data[:10]"
   ]
  },
  {
   "cell_type": "code",
   "execution_count": 51,
   "id": "7259e0b3",
   "metadata": {},
   "outputs": [
    {
     "data": {
      "text/plain": [
       "(35.37889984161376, 171.43158436052622)"
      ]
     },
     "execution_count": 51,
     "metadata": {},
     "output_type": "execute_result"
    }
   ],
   "source": [
    "sorted(data)[0],sorted(data)[-1]\n",
    "# 최소          #최대"
   ]
  },
  {
   "cell_type": "code",
   "execution_count": 52,
   "id": "a2658228",
   "metadata": {},
   "outputs": [
    {
     "data": {
      "text/plain": [
       "35.37889984161376"
      ]
     },
     "execution_count": 52,
     "metadata": {},
     "output_type": "execute_result"
    },
    {
     "data": {
      "text/plain": [
       "171.43158436052622"
      ]
     },
     "execution_count": 52,
     "metadata": {},
     "output_type": "execute_result"
    }
   ],
   "source": [
    "# numpy 의 min() max()\n",
    "np.min(data)\n",
    "np.max(data)"
   ]
  },
  {
   "cell_type": "markdown",
   "id": "08f26b89",
   "metadata": {},
   "source": [
    "## 사분위수(quartile)\n",
    "- 자료를 크기 순으로 늘어놓은 수 4등분하여 각각의 경계에 있는 수 \n",
    "## 백분위수(percentile)\n",
    "- 크기순으로 나열한 수들을 백등분하여  각각의 경계에 있는 수 "
   ]
  },
  {
   "cell_type": "code",
   "execution_count": 55,
   "id": "38e93085",
   "metadata": {},
   "outputs": [
    {
     "data": {
      "text/plain": [
       "86.30886819268538"
      ]
     },
     "execution_count": 55,
     "metadata": {},
     "output_type": "execute_result"
    }
   ],
   "source": [
    "# 1사분위수( 하사분위수)\n",
    "np.percentile(data,25) # 데이터의 25퍼 --> 사분위수 "
   ]
  },
  {
   "cell_type": "code",
   "execution_count": 56,
   "id": "4e36dbd3",
   "metadata": {},
   "outputs": [
    {
     "data": {
      "text/plain": [
       "113.37731495435875"
      ]
     },
     "execution_count": 56,
     "metadata": {},
     "output_type": "execute_result"
    }
   ],
   "source": [
    "# 3사분위수 (상사분위수)\n",
    "np.percentile(data,75)"
   ]
  },
  {
   "cell_type": "code",
   "execution_count": 57,
   "id": "e71d94c3",
   "metadata": {},
   "outputs": [
    {
     "data": {
      "text/plain": [
       "99.17628889574436"
      ]
     },
     "execution_count": 57,
     "metadata": {},
     "output_type": "execute_result"
    }
   ],
   "source": [
    "# 2사분위수(중위수)\n",
    "np.percentile(data,50)"
   ]
  },
  {
   "cell_type": "markdown",
   "id": "160fbdfc",
   "metadata": {},
   "source": [
    "### 5가 통계량 \n",
    "- 최소값 ,1,중위,3사분위수,최대값\n",
    "- 상자- 수염그림(boxplot)"
   ]
  },
  {
   "cell_type": "code",
   "execution_count": 58,
   "id": "b73ce858",
   "metadata": {},
   "outputs": [
    {
     "data": {
      "text/plain": [
       "{'whiskers': [<matplotlib.lines.Line2D at 0x148bc0645b0>,\n",
       "  <matplotlib.lines.Line2D at 0x148bc064910>],\n",
       " 'caps': [<matplotlib.lines.Line2D at 0x148bc064c70>,\n",
       "  <matplotlib.lines.Line2D at 0x148bc064fd0>],\n",
       " 'boxes': [<matplotlib.lines.Line2D at 0x148bc064250>],\n",
       " 'medians': [<matplotlib.lines.Line2D at 0x148bc076370>],\n",
       " 'fliers': [<matplotlib.lines.Line2D at 0x148bc0766d0>],\n",
       " 'means': []}"
      ]
     },
     "execution_count": 58,
     "metadata": {},
     "output_type": "execute_result"
    },
    {
     "data": {
      "image/png": "[encoded data removed]",
      "text/plain": [
       "<Figure size 432x288 with 1 Axes>"
      ]
     },
     "metadata": {
      "needs_background": "light"
     },
     "output_type": "display_data"
    }
   ],
   "source": [
    "import matplotlib.pyplot as plt\n",
    "\n",
    "plt.boxplot(data)"
   ]
  },
  {
   "cell_type": "markdown",
   "id": "9edd67f6",
   "metadata": {},
   "source": [
    "## 기술통계량 계산 함수 describe("
   ]
  },
  {
   "cell_type": "code",
   "execution_count": 59,
   "id": "04d2a28c",
   "metadata": {},
   "outputs": [
    {
     "data": {
      "text/plain": [
       "DescribeResult(nobs=1000, minmax=(35.37889984161376, 171.43158436052622), mean=99.20871727838417, variance=401.03130940853094, skewness=-0.029040113501245676, kurtosis=-0.02543852877769215)"
      ]
     },
     "execution_count": 59,
     "metadata": {},
     "output_type": "execute_result"
    },
    {
     "data": {
      "text/plain": [
       "DescribeResult(nobs=50, minmax=(37, 79), mean=58.38, variance=96.03632653061224, skewness=-0.31679325324962426, kurtosis=-0.38870454364589113)"
      ]
     },
     "execution_count": 59,
     "metadata": {},
     "output_type": "execute_result"
    }
   ],
   "source": [
    "describe(data)\n",
    "describe(df['english'])  # 표본데이터의 기술통계량"
   ]
  },
  {
   "cell_type": "code",
   "execution_count": 61,
   "id": "226f7b6c",
   "metadata": {},
   "outputs": [
    {
     "data": {
      "text/plain": [
       "count    50.00\n",
       "mean     58.38\n",
       "std       9.80\n",
       "min      37.00\n",
       "25%      54.00\n",
       "50%      57.50\n",
       "75%      65.00\n",
       "max      79.00\n",
       "Name: english, dtype: float64"
      ]
     },
     "execution_count": 61,
     "metadata": {},
     "output_type": "execute_result"
    }
   ],
   "source": [
    "df['english'].describe()  # 4분위값도 같이나옴"
   ]
  },
  {
   "cell_type": "code",
   "execution_count": 113,
   "id": "74d41665",
   "metadata": {},
   "outputs": [
    {
     "data": {
      "text/plain": [
       "DescribeResult(nobs=50, minmax=(37, 79), mean=58.38, variance=94.1156, skewness=-0.31679325324962426, kurtosis=-0.38870454364589113)"
      ]
     },
     "execution_count": 113,
     "metadata": {},
     "output_type": "execute_result"
    }
   ],
   "source": [
    "describe(df['english'],ddof=0) # "
   ]
  },
  {
   "cell_type": "code",
   "execution_count": 62,
   "id": "5476e2ed",
   "metadata": {},
   "outputs": [],
   "source": [
    "import numpy as np\n",
    "# numpy float 출력옵션 변경\n",
    "# np.set_printoptions(precision=3)\n",
    "# np.set_printoptions(precision=20, suppress=True)\n",
    "# pd.options.display.float_format = '{:.2f}'.format\n",
    "np.set_printoptions(formatter={'float_kind': lambda x: \"{0:0.3f}\".format(x)})\n"
   ]
  },
  {
   "cell_type": "markdown",
   "id": "96c76794",
   "metadata": {},
   "source": [
    "# 변이통계량\n",
    "## 범위 "
   ]
  },
  {
   "cell_type": "code",
   "execution_count": 64,
   "id": "e568e6e4",
   "metadata": {},
   "outputs": [
    {
     "data": {
      "text/plain": [
       "array([78.287, 119.947, 105.660, 69.874, 88.428, 133.029, 51.466, 91.422,\n",
       "       125.319, 82.665])"
      ]
     },
     "execution_count": 64,
     "metadata": {},
     "output_type": "execute_result"
    }
   ],
   "source": [
    "np.random.seed(123)\n",
    "data =np.random.normal(100,20,size=1000)\n",
    "data[:10]\n"
   ]
  },
  {
   "cell_type": "code",
   "execution_count": 65,
   "id": "402af7d2",
   "metadata": {},
   "outputs": [
    {
     "data": {
      "text/plain": [
       "(35.37889984161376, 171.43158436052622)"
      ]
     },
     "execution_count": 65,
     "metadata": {},
     "output_type": "execute_result"
    }
   ],
   "source": [
    "np.min(data), np.max(data)"
   ]
  },
  {
   "cell_type": "code",
   "execution_count": 69,
   "id": "8fe8f8fb",
   "metadata": {},
   "outputs": [
    {
     "data": {
      "text/plain": [
       "136.05268451891246"
      ]
     },
     "execution_count": 69,
     "metadata": {},
     "output_type": "execute_result"
    }
   ],
   "source": [
    "# 범위 = 최대값 - 최소값\n",
    "np.max(data) - np.min(data) "
   ]
  },
  {
   "cell_type": "code",
   "execution_count": 67,
   "id": "96b40516",
   "metadata": {},
   "outputs": [
    {
     "data": {
      "text/plain": [
       "136.05268451891246"
      ]
     },
     "execution_count": 67,
     "metadata": {},
     "output_type": "execute_result"
    }
   ],
   "source": [
    "# numpy 의 ptp()\n",
    "np.ptp(data)"
   ]
  },
  {
   "cell_type": "markdown",
   "id": "d9cae7ed",
   "metadata": {},
   "source": [
    "## 중간범위\n",
    "- 최대값과 최소값의 평균"
   ]
  },
  {
   "cell_type": "code",
   "execution_count": 74,
   "id": "da81ba39",
   "metadata": {},
   "outputs": [
    {
     "data": {
      "text/plain": [
       "103.40524210106999"
      ]
     },
     "execution_count": 74,
     "metadata": {},
     "output_type": "execute_result"
    }
   ],
   "source": [
    "(np.max(data) + np.min(data) )/2"
   ]
  },
  {
   "cell_type": "markdown",
   "id": "24c92b34",
   "metadata": {},
   "source": [
    "## 사분위간 범위"
   ]
  },
  {
   "cell_type": "code",
   "execution_count": 70,
   "id": "d0c21f71",
   "metadata": {},
   "outputs": [
    {
     "data": {
      "text/plain": [
       "27.06844676167337"
      ]
     },
     "execution_count": 70,
     "metadata": {},
     "output_type": "execute_result"
    }
   ],
   "source": [
    "np.quantile(data,0.75)  - np.quantile(data,0.25)"
   ]
  },
  {
   "cell_type": "code",
   "execution_count": 71,
   "id": "0dfa0fa8",
   "metadata": {},
   "outputs": [
    {
     "data": {
      "text/plain": [
       "27.06844676167337"
      ]
     },
     "execution_count": 71,
     "metadata": {},
     "output_type": "execute_result"
    }
   ],
   "source": [
    "iqr(data)"
   ]
  },
  {
   "cell_type": "markdown",
   "id": "ac5572f6",
   "metadata": {},
   "source": [
    "## 사분위수 편차\n",
    "- 범위의 문제점을 보완한 척도\n",
    "- 사분위간 범위의 값을 2로 나눈 값으로 사분위 범위의 평균값"
   ]
  },
  {
   "cell_type": "code",
   "execution_count": 72,
   "id": "eeb3f95e",
   "metadata": {},
   "outputs": [
    {
     "data": {
      "text/plain": [
       "13.534223380836686"
      ]
     },
     "execution_count": 72,
     "metadata": {},
     "output_type": "execute_result"
    }
   ],
   "source": [
    "(np.quantile(data,0.75)  - np.quantile(data,0.25))/2"
   ]
  },
  {
   "cell_type": "code",
   "execution_count": 73,
   "id": "b4dfc333",
   "metadata": {},
   "outputs": [
    {
     "data": {
      "text/plain": [
       "13.534223380836686"
      ]
     },
     "execution_count": 73,
     "metadata": {},
     "output_type": "execute_result"
    }
   ],
   "source": [
    "iqr(data)/2"
   ]
  },
  {
   "cell_type": "markdown",
   "id": "ea0a1f65",
   "metadata": {},
   "source": [
    "## 편차(deviation)\n",
    "- 자료값과 평균과의 차이\n",
    "- xi-mean()"
   ]
  },
  {
   "cell_type": "code",
   "execution_count": 76,
   "id": "032d1390",
   "metadata": {
    "scrolled": true
   },
   "outputs": [
    {
     "data": {
      "text/plain": [
       "array([-20.921, 20.738, 6.451, -29.335, -10.781, 33.820, -47.742, -7.787,\n",
       "       26.110, -16.544, -12.786, -1.103, 30.619, -11.987, -8.088, -7.896,\n",
       "       44.910, 44.527, 20.872, 8.515, 15.539, 30.606, -17.925, 24.308,\n",
       "       -24.286, -11.964, 18.933, -27.782, -2.010, -16.444, -4.321,\n",
       "       -55.180, -34.639, -13.206, 19.341, -2.681, 0.848, 14.556, -16.799,\n",
       "       6.464, -15.316, -33.762, -7.027, 12.267, 7.563, 0.555, 48.639,\n",
       "       9.050, 20.366, 45.554, -25.090, -19.984, 35.666, -15.170, 1.385,\n",
       "       22.178, 18.605, 35.889, 30.704, 22.179, -14.663, 16.689, 7.077,\n",
       "       -25.734, 29.137, 16.936, 1.701, -3.871, -23.175, 4.782, 10.160,\n",
       "       -15.832, 24.035, -21.153, -41.671, 21.586, -7.276, -1.729, -15.959,\n",
       "       -31.328, 25.896, -12.986, 34.010, 16.937, -5.504, -20.927, -13.858,\n",
       "       -23.459, 42.534, 4.080, 23.795, -24.556, 4.412, 24.349, -5.909,\n",
       "       21.414, -20.900, -26.478, 8.379, -6.792, 13.632, -38.766, 15.037,\n",
       "       52.757, 0.299, 1.474, 4.382, -36.448, 9.314, -31.317, -7.762,\n",
       "       25.649, -13.913, 10.816, 21.046, 6.366, -26.628, -5.858, 39.980,\n",
       "       -39.710, -4.724, -10.251, 3.206, 15.756, 32.965, -4.613, 17.038,\n",
       "       10.786, 10.278, -10.487, -19.155, -21.210, -14.337, 7.225, 16.010,\n",
       "       7.261, -10.188, 36.911, 31.169, -6.289, -15.677, 3.396, 26.137,\n",
       "       7.447, 11.922, -3.450, 9.917, 31.682, -4.002, 3.657, 5.868, 6.466,\n",
       "       -27.446, -36.746, -19.602, 4.150, 11.868, -9.822, 28.336, -2.072,\n",
       "       1.198, -3.088, 3.472, 14.881, 14.104, -17.177, 31.265, -21.109,\n",
       "       2.376, -4.697, -20.189, -0.711, -14.025, 2.249, 8.853, 30.230,\n",
       "       6.939, -11.433, -7.041, 3.591, 2.660, 29.983, 28.698, -6.387,\n",
       "       -10.182, -50.350, -10.187, -18.770, -6.305, 8.623, 4.335, 0.192,\n",
       "       4.783, -1.731, 4.732, -63.830, -4.595, -1.426, -6.034, -3.568,\n",
       "       14.857, -11.171, 44.805, 14.557, 0.665, -3.342, -0.939, -17.515,\n",
       "       -1.113, 6.365, 12.382, 12.385, -4.706, -27.530, -12.591, 33.035,\n",
       "       18.712, 8.184, -14.435, 0.864, -24.322, -10.247, -4.113, -6.442,\n",
       "       19.923, -27.583, -16.517, -26.702, -23.956, 3.272, -31.218, 15.869,\n",
       "       -4.145, 2.167, 7.243, -7.892, 21.441, -3.096, 12.673, -3.191,\n",
       "       6.609, 6.385, 5.791, -18.695, 9.509, -5.588, 13.401, -42.259,\n",
       "       -28.511, 8.060, 38.050, 17.492, -12.858, -33.050, 15.645, -0.820,\n",
       "       12.605, 3.097, 1.384, 59.964, 0.669, -2.394, -1.638, -10.879,\n",
       "       20.594, -6.284, 13.510, 6.483, 25.171, 9.195, -23.476, -25.738,\n",
       "       28.959, -11.383, -25.621, -12.601, 26.084, -27.613, -16.539,\n",
       "       -12.545, -24.233, -22.895, -29.571, -8.432, -6.307, -12.859,\n",
       "       -32.283, 25.858, -25.790, 6.352, -20.704, 14.158, 19.908, -16.761,\n",
       "       -37.683, 14.707, 38.307, 9.105, 4.002, 17.186, 16.092, -15.788,\n",
       "       -12.392, 13.014, -2.089, 27.123, -13.296, 15.803, 7.644, -1.737,\n",
       "       24.309, 14.393, -19.308, 13.596, 28.291, -1.818, -4.182, -12.602,\n",
       "       0.519, 14.515, -15.562, -26.136, -6.724, -26.803, 11.256, -7.743,\n",
       "       -34.317, -6.181, -3.061, 9.774, -2.116, 38.166, -9.583, -0.457,\n",
       "       -1.267, -4.861, 3.640, 11.616, 27.593, -30.594, -9.416, -8.164,\n",
       "       19.548, -6.342, -37.112, 2.546, 0.117, 4.386, -20.012, 35.172,\n",
       "       -5.686, -2.975, -17.209, -17.829, -23.663, -7.075, -18.360, 41.921,\n",
       "       -36.979, -21.775, -7.237, 14.261, -7.484, 14.311, -18.945, 1.977,\n",
       "       35.672, -18.564, 9.183, 4.930, -44.239, -10.988, 23.414, 3.493,\n",
       "       -23.454, 14.607, -8.791, 7.992, 8.330, -21.583, 16.588, -19.359,\n",
       "       -25.324, -16.865, -6.131, 2.979, -14.660, 15.688, 5.821, -13.105,\n",
       "       18.571, 24.013, -1.182, -3.508, -34.684, -7.359, -5.039, 5.699,\n",
       "       -2.577, 5.672, 31.473, -9.807, -9.028, -25.392, 0.618, 20.328,\n",
       "       -34.230, -12.526, 1.510, 17.793, 8.449, 7.301, -3.695, 10.429,\n",
       "       21.077, -33.389, 15.362, -1.184, -9.808, -48.070, -26.816, 34.752,\n",
       "       -12.980, -20.904, -8.337, -14.112, 3.278, 31.131, -10.941, 3.877,\n",
       "       -22.153, 31.195, 4.572, -20.845, 18.877, 24.791, 4.020, -31.997,\n",
       "       36.495, 6.994, 24.200, -10.227, -7.181, 3.000, 23.059, 3.651,\n",
       "       -24.345, 6.031, 33.382, 2.107, 3.379, -24.460, -27.268, -11.963,\n",
       "       -5.739, 2.872, 4.110, 32.829, 1.965, 22.080, 0.005, 29.769,\n",
       "       -36.617, -11.183, 20.452, -2.641, 19.422, 8.493, 19.709, 13.053,\n",
       "       14.264, 30.640, 20.521, 20.667, 1.200, -10.846, -12.400, 15.810,\n",
       "       -47.978, -25.352, -18.474, -4.161, -51.837, 25.966, 12.795, 40.483,\n",
       "       22.036, 21.399, 45.805, -10.628, -29.278, -3.856, -15.709, -4.346,\n",
       "       -20.213, 12.149, 11.051, 0.253, 7.023, -2.050, 15.832, 2.184,\n",
       "       -4.518, 19.383, 26.008, 27.540, -19.014, -9.898, -33.239, -3.980,\n",
       "       9.114, -1.865, 39.408, -7.326, -20.979, 12.161, 3.790, 11.784,\n",
       "       6.867, 5.667, -41.655, -13.731, -11.015, -6.168, -8.177, 9.048,\n",
       "       12.809, -21.842, 14.527, 12.507, 10.107, -27.567, 9.603, 2.443,\n",
       "       20.009, 36.478, 32.553, 3.044, 0.754, 13.430, -21.510, -28.222,\n",
       "       -8.659, 25.203, -5.831, 30.843, -54.971, -30.953, -1.682, 18.555,\n",
       "       -0.601, -1.122, -1.644, -34.467, 23.953, -12.864, 22.582, -0.619,\n",
       "       22.154, 7.656, -1.342, 5.317, -28.668, 0.912, 35.112, 26.955,\n",
       "       -18.909, 10.905, 5.751, 17.135, 2.674, -3.879, 27.404, 5.119,\n",
       "       25.901, 20.279, -5.698, -2.549, 39.388, 4.621, -14.381, -23.210,\n",
       "       20.274, 3.997, -15.051, 14.283, 3.986, -32.418, 12.565, 27.455,\n",
       "       51.988, 1.489, 5.444, 32.923, 4.166, 6.298, -11.821, -27.096,\n",
       "       19.045, -24.680, 23.604, -14.972, 6.096, -6.654, 24.283, 6.808,\n",
       "       39.973, -20.882, 9.069, 1.738, 6.390, 32.710, 12.498, -22.159,\n",
       "       11.461, -7.521, -8.676, 21.708, -11.256, -6.803, 1.439, 19.715,\n",
       "       12.423, -3.897, -4.652, -22.411, -14.405, -12.296, -2.195, 40.527,\n",
       "       -12.718, -5.125, -40.257, 12.803, -30.758, -17.341, 21.638,\n",
       "       -41.307, 2.710, 16.810, 31.300, -17.611, -11.689, 36.880, 0.290,\n",
       "       -13.934, -13.558, -18.660, -8.002, 22.556, 18.547, -22.694, 5.083,\n",
       "       -7.252, 16.440, -2.336, 8.222, -2.381, -42.950, 1.731, -24.644,\n",
       "       15.734, -12.805, -11.309, 0.613, 12.347, -2.604, 33.635, 33.768,\n",
       "       35.101, -3.895, -28.848, 25.193, -7.536, 1.555, 13.358, -31.297,\n",
       "       33.374, 18.291, 7.837, 18.610, 11.930, 3.128, -5.364, -13.992,\n",
       "       6.536, 8.015, 22.455, 4.804, -16.273, -30.733, -1.760, 0.242,\n",
       "       -1.171, -29.819, 22.281, 22.244, -15.674, 16.911, 19.848, 1.560,\n",
       "       -18.179, 33.059, 8.410, -4.229, 16.248, 33.235, -9.152, 14.620,\n",
       "       39.654, -21.540, -10.194, -11.166, -2.375, -3.408, 6.807, -15.616,\n",
       "       -11.662, 6.817, 3.890, 18.273, 8.978, 16.228, -22.068, -6.877,\n",
       "       37.759, 8.633, 15.739, 6.246, 9.298, -3.827, 72.223, -7.132, 0.025,\n",
       "       -47.705, 22.917, -10.254, -0.425, -9.770, -1.982, -4.894, -0.070,\n",
       "       -0.265, -2.293, -2.566, 26.962, 18.420, 18.540, -13.858, 25.928,\n",
       "       23.424, -10.277, 31.268, -12.873, -36.049, 22.822, -1.599, 20.330,\n",
       "       -14.293, -24.444, 25.429, -27.354, -30.429, -37.720, -55.098,\n",
       "       -19.991, -42.597, 0.079, -43.937, -21.094, 47.433, 7.694, 1.847,\n",
       "       -31.624, -4.121, 1.753, -31.312, 3.315, 24.616, -6.174, -3.153,\n",
       "       -40.051, -27.193, 21.945, -12.440, -17.803, -13.060, -0.358,\n",
       "       -22.377, 3.322, -26.409, 16.271, -20.350, 27.197, 0.591, -16.122,\n",
       "       19.020, -26.699, -10.150, 0.790, -1.632, -39.380, -17.622, 4.156,\n",
       "       -25.607, 26.120, 10.695, -9.494, -3.615, 38.023, 19.511, 8.396,\n",
       "       -27.519, 33.384, 21.839, -2.177, -10.203, -2.967, -23.247, -8.624,\n",
       "       16.054, -35.361, -5.490, 3.066, 2.863, -22.787, -22.852, 22.575,\n",
       "       -23.699, 20.964, -8.856, 22.387, -7.630, -22.538, 17.922, 0.443,\n",
       "       29.763, 18.635, -3.797, -8.202, 1.259, 4.595, -16.844, 17.630,\n",
       "       -7.156, -7.669, -10.022, 5.412, -13.050, 3.491, 56.123, -0.281,\n",
       "       -7.889, -32.563, 1.796, -21.393, -6.720, 3.823, -33.829, 3.941,\n",
       "       6.882, -25.151, -7.055, -35.822, 32.301, 7.403, -2.800, -2.477,\n",
       "       23.420, -1.092, 7.408, 31.164, -6.132, -21.061, -15.699, 29.365,\n",
       "       2.620, -9.255, 20.264, 20.750, -8.722, -18.647, -30.619, -35.086,\n",
       "       -4.508, -17.073, 37.961, 1.962, -38.052, 29.166, 4.025, 14.891,\n",
       "       14.432, 6.722, 11.258, 5.566, -21.336, 8.126, 21.269, -3.410,\n",
       "       11.817, 9.183, 37.104, -4.264, -5.049, -1.547, -1.257, -44.661,\n",
       "       -12.061, 6.789, 0.626, -15.196, -12.504, -6.321, -15.240, -9.470,\n",
       "       -9.997, 18.699, 21.119, 19.463, 9.325, -13.375, 19.988, -5.494,\n",
       "       1.252, 27.556, 2.471, 5.737, -27.464, 10.531, -18.809, 21.030,\n",
       "       -2.901, -43.932, -6.369, -3.769, 10.501, 14.202, -5.764, 21.049,\n",
       "       -62.550, -13.488, -21.456, -24.292, 19.985, 17.375, -14.724,\n",
       "       24.352, 2.821, -7.642, -13.067, -14.774, 10.247, 13.794, 5.561,\n",
       "       -40.213, 6.718, 12.099, -12.593, 1.656, -36.486, -23.808, -5.693,\n",
       "       -5.404, 7.825, -22.947, -6.033, -9.004, 11.351, 29.212, 35.210,\n",
       "       -30.578, -0.169, -21.459, -0.504, 9.250, 2.421, -0.189, 30.452,\n",
       "       15.211, -4.662, 1.276, 18.209, 12.987, -7.710, -34.714, -22.902,\n",
       "       3.711, -34.939, -2.257, -8.280, 20.776, -25.570, -37.844, -7.602,\n",
       "       13.487, 22.190, -17.395, 10.197, -21.437])"
      ]
     },
     "execution_count": 76,
     "metadata": {},
     "output_type": "execute_result"
    }
   ],
   "source": [
    "data-np.mean(data)"
   ]
  },
  {
   "cell_type": "code",
   "execution_count": 77,
   "id": "645e71c3",
   "metadata": {},
   "outputs": [
    {
     "data": {
      "text/plain": [
       "-7.815970093361102e-12"
      ]
     },
     "execution_count": 77,
     "metadata": {},
     "output_type": "execute_result"
    }
   ],
   "source": [
    "# 편차의 합은 항상 0\n",
    "(data-np.mean(data)).sum()"
   ]
  },
  {
   "cell_type": "markdown",
   "id": "74e722d8",
   "metadata": {},
   "source": [
    "## 분산(variaince)\n",
    "- 산포도의 척도로 가장 널리 사용되는 방법\n",
    "- 평균을 중심으로 데이터가 퍼져있는 정도의 측도\n",
    "- 각 데이터와 평균과의 차이를 제곱하여 합한 값의 평균\n",
    "- 각데이터와 평균과의 차이를 제곱하여 합한 값의 평균\n",
    "    - 모분산: n으로 나누어줌\n",
    "    - 표본분산 : n-1로 나누어줌\n",
    "    "
   ]
  },
  {
   "cell_type": "markdown",
   "id": "9ed37db4",
   "metadata": {},
   "source": [
    "### : var(a,ddof=0)\n",
    "- ddof 인수\n",
    "    - 기본값은 0-> 모집단 분산\n",
    "    - 표본 분산의 경우 1로 설정"
   ]
  },
  {
   "cell_type": "code",
   "execution_count": 79,
   "id": "db91ca41",
   "metadata": {},
   "outputs": [
    {
     "data": {
      "text/plain": [
       "2.5"
      ]
     },
     "execution_count": 79,
     "metadata": {},
     "output_type": "execute_result"
    },
    {
     "data": {
      "text/plain": [
       "2.0"
      ]
     },
     "execution_count": 79,
     "metadata": {},
     "output_type": "execute_result"
    },
    {
     "data": {
      "text/plain": [
       "2.0"
      ]
     },
     "execution_count": 79,
     "metadata": {},
     "output_type": "execute_result"
    },
    {
     "data": {
      "text/plain": [
       "2.000"
      ]
     },
     "execution_count": 79,
     "metadata": {},
     "output_type": "execute_result"
    }
   ],
   "source": [
    "x = [1,2,3,4,5]\n",
    "# 표본분산\n",
    "np.var(x,ddof=1) \n",
    "# 모분산\n",
    "np.var(x) \n",
    "# 모분산 \n",
    "np.array(x).var() \n",
    "pd.Series(x).var(ddof=0)"
   ]
  },
  {
   "cell_type": "markdown",
   "id": "b3378c22",
   "metadata": {},
   "source": [
    "## 표준편차 \n",
    "- 모든 데이터가 동일한 값을 갖는다면 분산과 표준편차는 0으로 계산\n",
    "- 모든 데이터에 동일한 값"
   ]
  },
  {
   "cell_type": "markdown",
   "id": "88e9b901",
   "metadata": {},
   "source": [
    "### 표준편차 계산: std(a,ddof=0)\n",
    "- 데이터의 단위와 동일하게 만듬"
   ]
  },
  {
   "cell_type": "code",
   "execution_count": 80,
   "id": "a4a140ac",
   "metadata": {},
   "outputs": [
    {
     "data": {
      "text/plain": [
       "1.5811388300841898"
      ]
     },
     "execution_count": 80,
     "metadata": {},
     "output_type": "execute_result"
    },
    {
     "data": {
      "text/plain": [
       "1.4142135623730951"
      ]
     },
     "execution_count": 80,
     "metadata": {},
     "output_type": "execute_result"
    },
    {
     "data": {
      "text/plain": [
       "1.4142135623730951"
      ]
     },
     "execution_count": 80,
     "metadata": {},
     "output_type": "execute_result"
    },
    {
     "data": {
      "text/plain": [
       "1.414"
      ]
     },
     "execution_count": 80,
     "metadata": {},
     "output_type": "execute_result"
    }
   ],
   "source": [
    "x = [1,2,3,4,5]\n",
    "# 표본편차 (S)\n",
    "np.std(x,ddof=1) \n",
    "# 모표준편차 (sigma)\n",
    "np.std(x) \n",
    "np.array(x).std() \n",
    "pd.Series(x).std(ddof=0)"
   ]
  },
  {
   "cell_type": "markdown",
   "id": "4274ee2d",
   "metadata": {},
   "source": [
    "## 변동계수(CV)\n",
    "- 표본 표준편차를 표본평균으로 나눈 값 또는 그 값에 100을 곱한 값\n",
    "- 상대표준편차\n",
    "- 서로 다른 평균고 ㅏ표준편차를 갖는 여러 데이터의 흩어진 정도를 비교할 때 사용\n",
    "- 변동계수 값이 크다는 것은 데이터의 흩어지 ㄴ정도가 상대적으로 크다는 의미\n",
    "- 표본 변동계수 cv=s/x,모변동 계수 cv=알파/뮤"
   ]
  },
  {
   "cell_type": "markdown",
   "id": "d2626cac",
   "metadata": {},
   "source": [
    "- 변동계수 계산\n",
    "- np.std(x,axis=axis,ddof=ddof/np.mean(x)"
   ]
  },
  {
   "cell_type": "code",
   "execution_count": 86,
   "id": "2316b8e0",
   "metadata": {},
   "outputs": [
    {
     "name": "stdout",
     "output_type": "stream",
     "text": [
      "평균\n"
     ]
    },
    {
     "data": {
      "text/plain": [
       "72.0"
      ]
     },
     "execution_count": 86,
     "metadata": {},
     "output_type": "execute_result"
    },
    {
     "data": {
      "text/plain": [
       "49.0"
      ]
     },
     "execution_count": 86,
     "metadata": {},
     "output_type": "execute_result"
    },
    {
     "name": "stdout",
     "output_type": "stream",
     "text": [
      "표본 표준편차\n"
     ]
    },
    {
     "data": {
      "text/plain": [
       "4.242640687119285"
      ]
     },
     "execution_count": 86,
     "metadata": {},
     "output_type": "execute_result"
    },
    {
     "data": {
      "text/plain": [
       "3.22490309931942"
      ]
     },
     "execution_count": 86,
     "metadata": {},
     "output_type": "execute_result"
    }
   ],
   "source": [
    "men = [72,74,77,68,66,75]\n",
    "women = [45,48,52,53,46,50]\n",
    "\n",
    "print('평균')\n",
    "np.mean(men)\n",
    "np.mean(women)\n",
    "print('표본 표준편차')\n",
    "np.std(men,ddof=1)\n",
    "np.std(women,ddof=1)\n"
   ]
  },
  {
   "cell_type": "code",
   "execution_count": 87,
   "id": "6764196d",
   "metadata": {},
   "outputs": [
    {
     "name": "stdout",
     "output_type": "stream",
     "text": [
      "남자cv:  0.05892556509887895\n",
      "남자cv:  0.06581434896570246\n"
     ]
    }
   ],
   "source": [
    "# np.std(x,axis-axis,ddof=ddof/np.mean(x) 이용\n",
    "print('남자cv: ',np.std(men,ddof=1)/np.mean(men))\n",
    "print('남자cv: ',np.std(women,ddof=1)/np.mean(women))"
   ]
  },
  {
   "cell_type": "code",
   "execution_count": 88,
   "id": "c8bc3351",
   "metadata": {},
   "outputs": [
    {
     "name": "stdout",
     "output_type": "stream",
     "text": [
      "남자cv:  0.053791435363991905\n",
      "남자cv:  0.06008000589338671\n"
     ]
    }
   ],
   "source": [
    "print('남자cv: ',variation(men))\n",
    "print('남자cv: ',variation(women))"
   ]
  },
  {
   "cell_type": "markdown",
   "id": "1d429a7f",
   "metadata": {},
   "source": [
    "## 데이터의 정규화\n",
    "- scaling(표준화)\n",
    "    - 각 값들을 상대적인 값으로 편화시키는 기법\n",
    "1. standard scaling(Z)\n",
    "    - 평균:0 표준편차:1이됨\n",
    "2. min-max scaling\n",
    "    - 0~1 사이의 값으로 변환"
   ]
  },
  {
   "cell_type": "code",
   "execution_count": 91,
   "id": "8d453eeb",
   "metadata": {},
   "outputs": [
    {
     "data": {
      "text/html": [
       "<div>\n",
       "<style scoped>\n",
       "    .dataframe tbody tr th:only-of-type {\n",
       "        vertical-align: middle;\n",
       "    }\n",
       "\n",
       "    .dataframe tbody tr th {\n",
       "        vertical-align: top;\n",
       "    }\n",
       "\n",
       "    .dataframe thead th {\n",
       "        text-align: right;\n",
       "    }\n",
       "</style>\n",
       "<table border=\"1\" class=\"dataframe\">\n",
       "  <thead>\n",
       "    <tr style=\"text-align: right;\">\n",
       "      <th></th>\n",
       "      <th>english</th>\n",
       "      <th>mathematics</th>\n",
       "    </tr>\n",
       "    <tr>\n",
       "      <th>student number</th>\n",
       "      <th></th>\n",
       "      <th></th>\n",
       "    </tr>\n",
       "  </thead>\n",
       "  <tbody>\n",
       "    <tr>\n",
       "      <th>1</th>\n",
       "      <td>42</td>\n",
       "      <td>65</td>\n",
       "    </tr>\n",
       "    <tr>\n",
       "      <th>2</th>\n",
       "      <td>69</td>\n",
       "      <td>80</td>\n",
       "    </tr>\n",
       "    <tr>\n",
       "      <th>3</th>\n",
       "      <td>56</td>\n",
       "      <td>63</td>\n",
       "    </tr>\n",
       "    <tr>\n",
       "      <th>4</th>\n",
       "      <td>41</td>\n",
       "      <td>63</td>\n",
       "    </tr>\n",
       "    <tr>\n",
       "      <th>5</th>\n",
       "      <td>57</td>\n",
       "      <td>76</td>\n",
       "    </tr>\n",
       "  </tbody>\n",
       "</table>\n",
       "</div>"
      ],
      "text/plain": [
       "                english  mathematics\n",
       "student number                      \n",
       "1                    42           65\n",
       "2                    69           80\n",
       "3                    56           63\n",
       "4                    41           63\n",
       "5                    57           76"
      ]
     },
     "execution_count": 91,
     "metadata": {},
     "output_type": "execute_result"
    }
   ],
   "source": [
    "# 표준화 예제 \n",
    "df = pd.read_csv('./csv_File/ch2_scores_em.csv',index_col = 'student number')\n",
    "df.head()"
   ]
  },
  {
   "cell_type": "code",
   "execution_count": 97,
   "id": "714b9cc5",
   "metadata": {},
   "outputs": [
    {
     "data": {
      "text/html": [
       "<div>\n",
       "<style scoped>\n",
       "    .dataframe tbody tr th:only-of-type {\n",
       "        vertical-align: middle;\n",
       "    }\n",
       "\n",
       "    .dataframe tbody tr th {\n",
       "        vertical-align: top;\n",
       "    }\n",
       "\n",
       "    .dataframe thead th {\n",
       "        text-align: right;\n",
       "    }\n",
       "</style>\n",
       "<table border=\"1\" class=\"dataframe\">\n",
       "  <thead>\n",
       "    <tr style=\"text-align: right;\">\n",
       "      <th></th>\n",
       "      <th>english</th>\n",
       "    </tr>\n",
       "  </thead>\n",
       "  <tbody>\n",
       "    <tr>\n",
       "      <th>count</th>\n",
       "      <td>50.00</td>\n",
       "    </tr>\n",
       "    <tr>\n",
       "      <th>mean</th>\n",
       "      <td>58.38</td>\n",
       "    </tr>\n",
       "    <tr>\n",
       "      <th>std</th>\n",
       "      <td>9.80</td>\n",
       "    </tr>\n",
       "    <tr>\n",
       "      <th>min</th>\n",
       "      <td>37.00</td>\n",
       "    </tr>\n",
       "    <tr>\n",
       "      <th>25%</th>\n",
       "      <td>54.00</td>\n",
       "    </tr>\n",
       "    <tr>\n",
       "      <th>50%</th>\n",
       "      <td>57.50</td>\n",
       "    </tr>\n",
       "    <tr>\n",
       "      <th>75%</th>\n",
       "      <td>65.00</td>\n",
       "    </tr>\n",
       "    <tr>\n",
       "      <th>max</th>\n",
       "      <td>79.00</td>\n",
       "    </tr>\n",
       "  </tbody>\n",
       "</table>\n",
       "</div>"
      ],
      "text/plain": [
       "       english\n",
       "count    50.00\n",
       "mean     58.38\n",
       "std       9.80\n",
       "min      37.00\n",
       "25%      54.00\n",
       "50%      57.50\n",
       "75%      65.00\n",
       "max      79.00"
      ]
     },
     "execution_count": 97,
     "metadata": {},
     "output_type": "execute_result"
    }
   ],
   "source": [
    "df[['english']].describe()"
   ]
  },
  {
   "cell_type": "code",
   "execution_count": 98,
   "id": "a69b5012",
   "metadata": {},
   "outputs": [
    {
     "data": {
      "text/plain": [
       "count    50.000\n",
       "mean     78.880\n",
       "std       8.414\n",
       "min      57.000\n",
       "25%      76.000\n",
       "50%      80.000\n",
       "75%      84.000\n",
       "max      94.000\n",
       "Name: mathematics, dtype: float64"
      ]
     },
     "execution_count": 98,
     "metadata": {},
     "output_type": "execute_result"
    }
   ],
   "source": [
    "df['mathematics'].describe()"
   ]
  },
  {
   "cell_type": "markdown",
   "id": "486aa388",
   "metadata": {},
   "source": [
    "### z-scaling"
   ]
  },
  {
   "cell_type": "code",
   "execution_count": 104,
   "id": "bffeec32",
   "metadata": {},
   "outputs": [
    {
     "name": "stdout",
     "output_type": "stream",
     "text": [
      "-2.1816743772942324 2.104121873704727\n",
      "-2.600313324789425 1.796925844187209\n"
     ]
    }
   ],
   "source": [
    "# 평균이 0 표준편차가 1이됨\n",
    "z1 = (df['english'] - df['english'].mean())/df['english'].std()\n",
    "z2 = (df['mathematics'] - df['mathematics'].mean())/df['mathematics'].std()\n",
    "print(z1.min() , z1.max())\n",
    "print(z2.min() , z2.max())\n",
    "# -3~3 사이에 값으로 분포 "
   ]
  },
  {
   "cell_type": "code",
   "execution_count": 103,
   "id": "d53f6088",
   "metadata": {},
   "outputs": [
    {
     "data": {
      "text/plain": [
       "(-0.000, 1.000)"
      ]
     },
     "execution_count": 103,
     "metadata": {},
     "output_type": "execute_result"
    }
   ],
   "source": [
    "z1.mean(), z1.std()"
   ]
  },
  {
   "cell_type": "markdown",
   "id": "631b612e",
   "metadata": {},
   "source": [
    "### min-max scaling"
   ]
  },
  {
   "cell_type": "code",
   "execution_count": 106,
   "id": "15fe383a",
   "metadata": {},
   "outputs": [
    {
     "name": "stdout",
     "output_type": "stream",
     "text": [
      "eng: 0.0 1.0\n",
      "math: 0.0 1.0\n"
     ]
    }
   ],
   "source": [
    "s1 = (df['english'] - df['english'].min())/(df['english'].max() - df['english'].min())\n",
    "s2 = (df['mathematics'] - df['mathematics'].min())/(df['mathematics'].max() - df['mathematics'].min())\n",
    "print('eng:',s1.min(), s1.max())\n",
    "print('math:',s2.min(), s2.max())"
   ]
  },
  {
   "cell_type": "markdown",
   "id": "23ff3ad4",
   "metadata": {},
   "source": [
    "### sklearn.preprocessing.m=MinMaxScaler 를 이용한 스케일링\n",
    "- 머신러닝을 위해 쓰는 경우가 대부분\n",
    "- df의 각열에 대해서 스케일링 하는데 적합함"
   ]
  },
  {
   "cell_type": "code",
   "execution_count": 111,
   "id": "dcdb72ea",
   "metadata": {},
   "outputs": [
    {
     "data": {
      "text/html": [
       "<div>\n",
       "<style scoped>\n",
       "    .dataframe tbody tr th:only-of-type {\n",
       "        vertical-align: middle;\n",
       "    }\n",
       "\n",
       "    .dataframe tbody tr th {\n",
       "        vertical-align: top;\n",
       "    }\n",
       "\n",
       "    .dataframe thead th {\n",
       "        text-align: right;\n",
       "    }\n",
       "</style>\n",
       "<table border=\"1\" class=\"dataframe\">\n",
       "  <thead>\n",
       "    <tr style=\"text-align: right;\">\n",
       "      <th></th>\n",
       "      <th>english</th>\n",
       "      <th>mathematics</th>\n",
       "    </tr>\n",
       "    <tr>\n",
       "      <th>student number</th>\n",
       "      <th></th>\n",
       "      <th></th>\n",
       "    </tr>\n",
       "  </thead>\n",
       "  <tbody>\n",
       "    <tr>\n",
       "      <th>1</th>\n",
       "      <td>42</td>\n",
       "      <td>65</td>\n",
       "    </tr>\n",
       "    <tr>\n",
       "      <th>2</th>\n",
       "      <td>69</td>\n",
       "      <td>80</td>\n",
       "    </tr>\n",
       "    <tr>\n",
       "      <th>3</th>\n",
       "      <td>56</td>\n",
       "      <td>63</td>\n",
       "    </tr>\n",
       "    <tr>\n",
       "      <th>4</th>\n",
       "      <td>41</td>\n",
       "      <td>63</td>\n",
       "    </tr>\n",
       "    <tr>\n",
       "      <th>5</th>\n",
       "      <td>57</td>\n",
       "      <td>76</td>\n",
       "    </tr>\n",
       "  </tbody>\n",
       "</table>\n",
       "</div>"
      ],
      "text/plain": [
       "                english  mathematics\n",
       "student number                      \n",
       "1                    42           65\n",
       "2                    69           80\n",
       "3                    56           63\n",
       "4                    41           63\n",
       "5                    57           76"
      ]
     },
     "execution_count": 111,
     "metadata": {},
     "output_type": "execute_result"
    }
   ],
   "source": [
    "df.head()"
   ]
  },
  {
   "cell_type": "code",
   "execution_count": 110,
   "id": "8ccacefc",
   "metadata": {},
   "outputs": [
    {
     "data": {
      "text/html": [
       "<div>\n",
       "<style scoped>\n",
       "    .dataframe tbody tr th:only-of-type {\n",
       "        vertical-align: middle;\n",
       "    }\n",
       "\n",
       "    .dataframe tbody tr th {\n",
       "        vertical-align: top;\n",
       "    }\n",
       "\n",
       "    .dataframe thead th {\n",
       "        text-align: right;\n",
       "    }\n",
       "</style>\n",
       "<table border=\"1\" class=\"dataframe\">\n",
       "  <thead>\n",
       "    <tr style=\"text-align: right;\">\n",
       "      <th></th>\n",
       "      <th>english</th>\n",
       "      <th>mathematics</th>\n",
       "    </tr>\n",
       "    <tr>\n",
       "      <th>student number</th>\n",
       "      <th></th>\n",
       "      <th></th>\n",
       "    </tr>\n",
       "  </thead>\n",
       "  <tbody>\n",
       "    <tr>\n",
       "      <th>1</th>\n",
       "      <td>0.119</td>\n",
       "      <td>0.216</td>\n",
       "    </tr>\n",
       "    <tr>\n",
       "      <th>2</th>\n",
       "      <td>0.762</td>\n",
       "      <td>0.622</td>\n",
       "    </tr>\n",
       "    <tr>\n",
       "      <th>3</th>\n",
       "      <td>0.452</td>\n",
       "      <td>0.162</td>\n",
       "    </tr>\n",
       "    <tr>\n",
       "      <th>4</th>\n",
       "      <td>0.095</td>\n",
       "      <td>0.162</td>\n",
       "    </tr>\n",
       "    <tr>\n",
       "      <th>5</th>\n",
       "      <td>0.476</td>\n",
       "      <td>0.514</td>\n",
       "    </tr>\n",
       "  </tbody>\n",
       "</table>\n",
       "</div>"
      ],
      "text/plain": [
       "                english  mathematics\n",
       "student number                      \n",
       "1                 0.119        0.216\n",
       "2                 0.762        0.622\n",
       "3                 0.452        0.162\n",
       "4                 0.095        0.162\n",
       "5                 0.476        0.514"
      ]
     },
     "execution_count": 110,
     "metadata": {},
     "output_type": "execute_result"
    }
   ],
   "source": [
    "from sklearn.preprocessing import MinMaxScaler\n",
    "\n",
    "scaler = MinMaxScaler()\n",
    "S = scaler.fit_transform(df)\n",
    "pd.DataFrame(S,columns = df.columns, index = df.index).head()"
   ]
  },
  {
   "cell_type": "markdown",
   "id": "e4b4f5dc",
   "metadata": {},
   "source": [
    "# 모양 통계량\n",
    "- 분포의 모양\n",
    "- 왜도, 첨도"
   ]
  },
  {
   "cell_type": "markdown",
   "id": "75f333c2",
   "metadata": {},
   "source": [
    "## 왜도(skewness)\n",
    "- 데이터의 비대칭도 \n",
    "- 분포 모양이 대표값(예,평균) 을 중심으로 좌우에 모양이 대칭적인가 아닌가를 측정\n",
    "- 데이터가 한쪽 방향으로얼마나 치우쳐져 있는 가를 나타냄 \n",
    "- 특징\n",
    "    - 왜도가 0에 가까운 값을 가지면 분포의 모양은 좌우 대칭\n",
    "    - 왜도가 음수로 나타나면 오른쪽으로 치우친 분포(왼쪽 꼬리분포) 모양"
   ]
  },
  {
   "cell_type": "markdown",
   "id": "8e1ca87d",
   "metadata": {},
   "source": [
    "## 왜도계산\n",
    "- 분포의 비대칭도\n",
    "- 왜도가 0이면 정규분포\n",
    "- 왜도의 절대값이 1.5이상이면 많이 치우쳤다고 봄\n",
    "- scipy.stats.skew(a[,axis,bias,nan_policy])"
   ]
  },
  {
   "cell_type": "code",
   "execution_count": 114,
   "id": "88a4aa1c",
   "metadata": {
    "scrolled": true
   },
   "outputs": [],
   "source": [
    "%matplotlib inline\n",
    "# 오른쪽으로 꼬리가 긴 분포(right skwed, positive)\n",
    "x1 = [1]*30+[2]*20 + [3]*20+ [4]*15 + [5]*15\n",
    "\n",
    "#  좌우대칭 분포\n",
    "x2 = [1]*15+[2]*20 + [3]*30+ [4]*20 + [5]*15\n",
    "\n",
    "# 왼쪽으로  꼬리가 긴 분포(left skwed, negative)\n",
    "x3 = [1]*15+[2]*15 + [3]*20+ [4]*20 + [5]*30"
   ]
  },
  {
   "cell_type": "code",
   "execution_count": 115,
   "id": "867934f7",
   "metadata": {},
   "outputs": [
    {
     "data": {
      "text/plain": [
       "[1, 1, 1, 1, 1, 1, 1, 1, 1, 1]"
      ]
     },
     "execution_count": 115,
     "metadata": {},
     "output_type": "execute_result"
    }
   ],
   "source": [
    "x1[:10]"
   ]
  },
  {
   "cell_type": "code",
   "execution_count": 119,
   "id": "5bfd8937",
   "metadata": {},
   "outputs": [
    {
     "data": {
      "text/plain": [
       "1    30\n",
       "2    20\n",
       "3    20\n",
       "4    15\n",
       "5    15\n",
       "dtype: int64"
      ]
     },
     "execution_count": 119,
     "metadata": {},
     "output_type": "execute_result"
    }
   ],
   "source": [
    "pd.Series(x1).value_counts(sort = False)"
   ]
  },
  {
   "cell_type": "code",
   "execution_count": 120,
   "id": "00485304",
   "metadata": {},
   "outputs": [
    {
     "data": {
      "text/plain": [
       "<AxesSubplot:>"
      ]
     },
     "execution_count": 120,
     "metadata": {},
     "output_type": "execute_result"
    },
    {
     "data": {
      "image/png": "[encoded data removed]",
      "text/plain": [
       "<Figure size 432x288 with 1 Axes>"
      ]
     },
     "metadata": {
      "needs_background": "light"
     },
     "output_type": "display_data"
    }
   ],
   "source": [
    "pd.Series(x1).value_counts(sort = False).plot(kind='bar')"
   ]
  },
  {
   "cell_type": "code",
   "execution_count": 121,
   "id": "737e0a5c",
   "metadata": {},
   "outputs": [
    {
     "data": {
      "text/plain": [
       "<AxesSubplot:>"
      ]
     },
     "execution_count": 121,
     "metadata": {},
     "output_type": "execute_result"
    },
    {
     "data": {
      "image/png": "[encoded data removed]",
      "text/plain": [
       "<Figure size 432x288 with 1 Axes>"
      ]
     },
     "metadata": {
      "needs_background": "light"
     },
     "output_type": "display_data"
    }
   ],
   "source": [
    "pd.Series(x2).value_counts(sort = False).plot(kind='bar')"
   ]
  },
  {
   "cell_type": "code",
   "execution_count": 122,
   "id": "cbff0100",
   "metadata": {},
   "outputs": [
    {
     "data": {
      "text/plain": [
       "<AxesSubplot:>"
      ]
     },
     "execution_count": 122,
     "metadata": {},
     "output_type": "execute_result"
    },
    {
     "data": {
      "image/png": "[encoded data removed]",
      "text/plain": [
       "<Figure size 432x288 with 1 Axes>"
      ]
     },
     "metadata": {
      "needs_background": "light"
     },
     "output_type": "display_data"
    }
   ],
   "source": [
    "pd.Series(x3).value_counts(sort = False).plot(kind='bar')"
   ]
  },
  {
   "cell_type": "code",
   "execution_count": 123,
   "id": "f66b82cb",
   "metadata": {},
   "outputs": [
    {
     "name": "stdout",
     "output_type": "stream",
     "text": [
      "오른쪽으로 꼬리가 긴분포의 왜도 0.3192801008486361\n",
      "좌우대칭 분포 왜도 0.0\n",
      "왼쪽으로 꼬리가 긴분포의 왜도 -0.31928010084863606\n"
     ]
    }
   ],
   "source": [
    "print('오른쪽으로 꼬리가 긴분포의 왜도',skew(x1))\n",
    "print('좌우대칭 분포 왜도',skew(x2))\n",
    "print('왼쪽으로 꼬리가 긴분포의 왜도',skew(x3))"
   ]
  },
  {
   "cell_type": "markdown",
   "id": "9aa363da",
   "metadata": {},
   "source": [
    "## 첨도(kurtosis)\n",
    "- 데이터의 뽀족한 정도\n",
    "- 분포가 대표값을 중심으로 얼마나 모여있는가를 나타내는 척도\n",
    "- 정규분포 (첨도=3) 를 기준으로 비교\n",
    "    - 데이터가 대푯값을 중심으로 상당히 많이 몰려있다면 분포 가운데 모양이 뾰족한모양(첨도>3) 으로 나타남\n",
    "    - 첨도<3 이라면 많이 완만함"
   ]
  },
  {
   "cell_type": "markdown",
   "id": "40ba2a25",
   "metadata": {},
   "source": [
    "### 첨도 계산\n",
    "- 0에 가까울수록 정규분포\n",
    "- 균일 분포에 가까울수록 음수 "
   ]
  },
  {
   "cell_type": "code",
   "execution_count": 124,
   "id": "9aa1f47b",
   "metadata": {},
   "outputs": [],
   "source": [
    "# 균일분포 : 데이터의 빈도가 비슷함 ( uniform dist)\n",
    "x1 = [1]*20+[2]*20 + [3]*20+ [4]*20 + [5]*20\n",
    "\n",
    "#  좌우대칭 분포 ( 정규분포에 가까움)  조금 뾰족 \n",
    "x2 = [1]*10+[2]*20 + [3]*40+ [4]*20 + [5]*10\n",
    "\n",
    "# 뾰족한 분포 \n",
    "x3 = [1]*5+[2]*15 + [3]*60+ [4]*20 + [5]*5"
   ]
  },
  {
   "cell_type": "code",
   "execution_count": 125,
   "id": "4d74e9e2",
   "metadata": {},
   "outputs": [
    {
     "data": {
      "text/plain": [
       "<AxesSubplot:>"
      ]
     },
     "execution_count": 125,
     "metadata": {},
     "output_type": "execute_result"
    },
    {
     "data": {
      "image/png": "[encoded data removed]",
      "text/plain": [
       "<Figure size 432x288 with 1 Axes>"
      ]
     },
     "metadata": {
      "needs_background": "light"
     },
     "output_type": "display_data"
    }
   ],
   "source": [
    "pd.Series(x1).value_counts(sort = False).plot(kind='bar')"
   ]
  },
  {
   "cell_type": "code",
   "execution_count": 126,
   "id": "e6623a47",
   "metadata": {},
   "outputs": [
    {
     "data": {
      "text/plain": [
       "<AxesSubplot:>"
      ]
     },
     "execution_count": 126,
     "metadata": {},
     "output_type": "execute_result"
    },
    {
     "data": {
      "image/png": "[encoded data removed]",
      "text/plain": [
       "<Figure size 432x288 with 1 Axes>"
      ]
     },
     "metadata": {
      "needs_background": "light"
     },
     "output_type": "display_data"
    }
   ],
   "source": [
    "pd.Series(x2).value_counts(sort = False).plot(kind='bar')"
   ]
  },
  {
   "cell_type": "code",
   "execution_count": 127,
   "id": "51094054",
   "metadata": {},
   "outputs": [
    {
     "data": {
      "text/plain": [
       "<AxesSubplot:>"
      ]
     },
     "execution_count": 127,
     "metadata": {},
     "output_type": "execute_result"
    },
    {
     "data": {
      "image/png": "[encoded data removed]",
      "text/plain": [
       "<Figure size 432x288 with 1 Axes>"
      ]
     },
     "metadata": {
      "needs_background": "light"
     },
     "output_type": "display_data"
    }
   ],
   "source": [
    "pd.Series(x3).value_counts(sort = False).plot(kind='bar')"
   ]
  },
  {
   "cell_type": "code",
   "execution_count": 128,
   "id": "aa951821",
   "metadata": {},
   "outputs": [
    {
     "name": "stdout",
     "output_type": "stream",
     "text": [
      "전혀 뾰족하지 않을때 (평평할때 ) 첨도  -1.3\n",
      "조금 뾰족할때 첨도  -0.5\n",
      "매우 뾰족할때 첨도  0.6644691468213724\n"
     ]
    }
   ],
   "source": [
    "print('전혀 뾰족하지 않을때 (평평할때 ) 첨도 ',kurtosis(x1))\n",
    "print('조금 뾰족할때 첨도 ',kurtosis(x2))\n",
    "print('매우 뾰족할때 첨도 ',kurtosis(x3))"
   ]
  },
  {
   "cell_type": "code",
   "execution_count": null,
   "id": "0bdce92b",
   "metadata": {},
   "outputs": [],
   "source": []
  }
 ],
 "metadata": {
  "kernelspec": {
   "display_name": "Python 3",
   "language": "python",
   "name": "python3"
  },
  "language_info": {
   "codemirror_mode": {
    "name": "ipython",
    "version": 3
   },
   "file_extension": ".py",
   "mimetype": "text/x-python",
   "name": "python",
   "nbconvert_exporter": "python",
   "pygments_lexer": "ipython3",
   "version": "3.8.8"
  },
  "toc": {
   "base_numbering": 1,
   "nav_menu": {},
   "number_sections": true,
   "sideBar": true,
   "skip_h1_title": false,
   "title_cell": "Table of Contents",
   "title_sidebar": "Contents",
   "toc_cell": false,
   "toc_position": {
    "height": "calc(100% - 180px)",
    "left": "10px",
    "top": "150px",
    "width": "279.807px"
   },
   "toc_section_display": true,
   "toc_window_display": true
  }
 },
 "nbformat": 4,
 "nbformat_minor": 5
}
