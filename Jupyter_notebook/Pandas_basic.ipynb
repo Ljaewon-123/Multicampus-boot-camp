{
 "cells": [
  {
   "cell_type": "markdown",
   "id": "75b0e8a5",
   "metadata": {},
   "source": [
    "***판다스의 목적***\n",
    "* 서로 다른 유형으 ㅣ데이터를 공통도니 포맷으로 정리하는것\n",
    "* 행과 열로 이루어진 2차우너 데이터 프레임을 처리 할 수있는 함수제공\n",
    "* 실무사용 형태: 데이터 프레임"
   ]
  },
  {
   "cell_type": "code",
   "execution_count": 18,
   "id": "a66e4405",
   "metadata": {},
   "outputs": [],
   "source": [
    "import pandas as pd\n",
    "import numpy as np"
   ]
  },
  {
   "cell_type": "code",
   "execution_count": 3,
   "id": "a82fa7b8",
   "metadata": {},
   "outputs": [
    {
     "data": {
      "text/plain": [
       "'1.2.4'"
      ]
     },
     "execution_count": 3,
     "metadata": {},
     "output_type": "execute_result"
    }
   ],
   "source": [
    "pd.__version__"
   ]
  },
  {
   "cell_type": "markdown",
   "id": "769e9fac",
   "metadata": {},
   "source": [
    "# pandas 의 데이터구조 \n",
    "    1. series 데이터   -> 1차원?\n",
    "    2. 데이터 프레임    -> 2차원?\n",
    "    \n",
    "https://www.kdnuggets.com/2017/01/pandas-cheat-sheet.html\n"
   ]
  },
  {
   "cell_type": "markdown",
   "id": "85e6a82e",
   "metadata": {},
   "source": [
    "# series 데이터\n",
    "* pandas의 기본 객체 중 하나\n",
    "* numpy의 ndarray를 기반으로 인덱싱 기능 추가 1차원 배열 나타냄\n",
    "* index 지정 하지 않을시 기본적으로 ndarry와 같이 기본 인덱스를 0으로 함 지정시 지정값\n",
    "* 같은 타입의 0개 이상의 데이터를 가질수있음 \n",
    "\n",
    "* 시리즈 생성은 Series() 이용 "
   ]
  },
  {
   "cell_type": "markdown",
   "id": "9b50f2e1",
   "metadata": {},
   "source": [
    "Series 생성\n",
    "\n",
    "pd.Series(deq_data) 함수이용\n",
    "* deq_data : 리시트,딕셔너리 ,튜플 데이터 타입\n",
    "* 인덱스는 기본적으로 0으로 자동생성"
   ]
  },
  {
   "cell_type": "code",
   "execution_count": 6,
   "id": "66c72376",
   "metadata": {
    "scrolled": true
   },
   "outputs": [
    {
     "data": {
      "text/plain": [
       "0    1\n",
       "1    2\n",
       "2    3\n",
       "dtype: int64"
      ]
     },
     "execution_count": 6,
     "metadata": {},
     "output_type": "execute_result"
    }
   ],
   "source": [
    "s = pd.Series([1,2,3,])\n",
    "s\n",
    "# 왼쪽이 인덱스 가 되고 오른쪽이 값 파이썬의 em머시기와 비슷함"
   ]
  },
  {
   "cell_type": "code",
   "execution_count": 10,
   "id": "de5ff5b5",
   "metadata": {},
   "outputs": [
    {
     "data": {
      "text/plain": [
       "0    10\n",
       "1    20\n",
       "2    30\n",
       "3    40\n",
       "4    50\n",
       "dtype: int64"
      ]
     },
     "execution_count": 10,
     "metadata": {},
     "output_type": "execute_result"
    }
   ],
   "source": [
    "s1 = pd.Series(range(10,60,10))\n",
    "s1"
   ]
  },
  {
   "cell_type": "code",
   "execution_count": 12,
   "id": "b5db26e4",
   "metadata": {},
   "outputs": [
    {
     "data": {
      "text/plain": [
       "0    A\n",
       "1    B\n",
       "2    C\n",
       "dtype: object"
      ]
     },
     "execution_count": 12,
     "metadata": {},
     "output_type": "execute_result"
    }
   ],
   "source": [
    "# 문자열을 리스트로 시리즈\n",
    "s2 = pd.Series(['A','B','C'])\n",
    "s2"
   ]
  },
  {
   "cell_type": "code",
   "execution_count": 13,
   "id": "df6ce834",
   "metadata": {},
   "outputs": [
    {
     "data": {
      "text/plain": [
       "0    A\n",
       "1    B\n",
       "2    C\n",
       "dtype: object"
      ]
     },
     "execution_count": 13,
     "metadata": {},
     "output_type": "execute_result"
    }
   ],
   "source": [
    "s2 = pd.Series('A B C'.split())\n",
    "s2"
   ]
  },
  {
   "cell_type": "markdown",
   "id": "323e376b",
   "metadata": {},
   "source": [
    "## 범위를 시리즈의 value 생성한느데 사용하기 \n",
    "    * range() / np.arange() 사용  같은 정수 범위지만 데이터 타입이 다름"
   ]
  },
  {
   "cell_type": "code",
   "execution_count": 15,
   "id": "da8908aa",
   "metadata": {},
   "outputs": [
    {
     "data": {
      "text/plain": [
       "0    10\n",
       "1    11\n",
       "2    12\n",
       "3    13\n",
       "dtype: int64"
      ]
     },
     "execution_count": 15,
     "metadata": {},
     "output_type": "execute_result"
    }
   ],
   "source": [
    "s1 = pd.Series(range(10,14))\n",
    "s1"
   ]
  },
  {
   "cell_type": "code",
   "execution_count": 19,
   "id": "51641518",
   "metadata": {
    "scrolled": true
   },
   "outputs": [
    {
     "data": {
      "text/plain": [
       "0        0\n",
       "1        1\n",
       "2        2\n",
       "3        3\n",
       "4        4\n",
       "      ... \n",
       "195    195\n",
       "196    196\n",
       "197    197\n",
       "198    198\n",
       "199    199\n",
       "Length: 200, dtype: int32"
      ]
     },
     "execution_count": 19,
     "metadata": {},
     "output_type": "execute_result"
    }
   ],
   "source": [
    "s = pd.Series(np.arange(200))\n",
    "s"
   ]
  },
  {
   "cell_type": "markdown",
   "id": "e3f1f7af",
   "metadata": {},
   "source": [
    "## 결측값 포함해서 시리즈\n",
    "    * 결측값 NaN-numpy 라는 모듈에서 생성\n",
    "    * 결측ㄱ밧 생성 위해서는 numpy 모듈 import\n"
   ]
  },
  {
   "cell_type": "code",
   "execution_count": 21,
   "id": "0ae23884",
   "metadata": {},
   "outputs": [
    {
     "data": {
      "text/plain": [
       "0    1.0\n",
       "1    2.0\n",
       "2    3.0\n",
       "3    NaN\n",
       "4    6.0\n",
       "5    8.0\n",
       "dtype: float64"
      ]
     },
     "execution_count": 21,
     "metadata": {},
     "output_type": "execute_result"
    }
   ],
   "source": [
    "# nan 포함\n",
    "s = pd.Series([1,2,3,np.nan,6,8])\n",
    "s"
   ]
  },
  {
   "cell_type": "markdown",
   "id": "0fbb464f",
   "metadata": {},
   "source": [
    "## 인덱스 명시해서 시리즈 만들기 \n",
    "* 숫자 인덱스 지정\n",
    "    * s = pd.Series([1,2,3,],index = [1,2,3])"
   ]
  },
  {
   "cell_type": "code",
   "execution_count": 29,
   "id": "7daafbdb",
   "metadata": {},
   "outputs": [
    {
     "data": {
      "text/plain": [
       "1    10\n",
       "2    20\n",
       "3    30\n",
       "dtype: int64"
      ]
     },
     "execution_count": 29,
     "metadata": {},
     "output_type": "execute_result"
    }
   ],
   "source": [
    "# 숫자\n",
    "s1 = pd.Series([10,20,30,],index = [1,2,3])\n",
    "s1"
   ]
  },
  {
   "cell_type": "code",
   "execution_count": 30,
   "id": "35d0456d",
   "metadata": {},
   "outputs": [
    {
     "data": {
      "text/plain": [
       "홍길      95\n",
       "어쩔     100\n",
       "성충향     88\n",
       "dtype: int64"
      ]
     },
     "execution_count": 30,
     "metadata": {},
     "output_type": "execute_result"
    }
   ],
   "source": [
    "# 문자 인덱스 지정\n",
    "s2 = pd.Series([95,100,88],index = ['홍길','어쩔','성충향'])\n",
    "s2\n"
   ]
  },
  {
   "cell_type": "markdown",
   "id": "d994e44f",
   "metadata": {},
   "source": [
    "## 인덱스 활용"
   ]
  },
  {
   "cell_type": "code",
   "execution_count": 31,
   "id": "83cad3e3",
   "metadata": {},
   "outputs": [
    {
     "data": {
      "text/plain": [
       "Int64Index([1, 2, 3], dtype='int64')"
      ]
     },
     "execution_count": 31,
     "metadata": {},
     "output_type": "execute_result"
    }
   ],
   "source": [
    "# 시리즈.index\n",
    "s1.index"
   ]
  },
  {
   "cell_type": "code",
   "execution_count": 32,
   "id": "a22ca819",
   "metadata": {},
   "outputs": [
    {
     "data": {
      "text/plain": [
       "Index(['홍길', '어쩔', '성충향'], dtype='object')"
      ]
     },
     "execution_count": 32,
     "metadata": {},
     "output_type": "execute_result"
    }
   ],
   "source": [
    "s2.index"
   ]
  },
  {
   "cell_type": "code",
   "execution_count": 33,
   "id": "04d3f8a5",
   "metadata": {
    "scrolled": true
   },
   "outputs": [
    {
     "data": {
      "text/plain": [
       "Index(['서울', '부산', '인천', '대구'], dtype='object')"
      ]
     },
     "execution_count": 33,
     "metadata": {},
     "output_type": "execute_result"
    }
   ],
   "source": [
    "s= pd.Series([9904312, 3448737, 289045, 2466052],\n",
    "            index=[\"서울\",\"부산\",\"인천\",\"대구\"])\n",
    "s.index"
   ]
  },
  {
   "cell_type": "markdown",
   "id": "5bc6312e",
   "metadata": {},
   "source": [
    "## 시리즈 index.name 속성\n",
    "    * 시리즈의 인덱스에 이름 붙이기 가능"
   ]
  },
  {
   "cell_type": "code",
   "execution_count": 34,
   "id": "d27ca278",
   "metadata": {},
   "outputs": [
    {
     "data": {
      "text/plain": [
       "서울    9904312\n",
       "부산    3448737\n",
       "인천     289045\n",
       "대구    2466052\n",
       "dtype: int64"
      ]
     },
     "execution_count": 34,
     "metadata": {},
     "output_type": "execute_result"
    }
   ],
   "source": [
    "s.index.name\n",
    "s"
   ]
  },
  {
   "cell_type": "code",
   "execution_count": 35,
   "id": "47557d20",
   "metadata": {},
   "outputs": [
    {
     "data": {
      "text/plain": [
       "도시\n",
       "서울    9904312\n",
       "부산    3448737\n",
       "인천     289045\n",
       "대구    2466052\n",
       "dtype: int64"
      ]
     },
     "execution_count": 35,
     "metadata": {},
     "output_type": "execute_result"
    }
   ],
   "source": [
    "s.index.name = '도시'\n",
    "s"
   ]
  },
  {
   "cell_type": "markdown",
   "id": "bda9e4b1",
   "metadata": {},
   "source": [
    "* 시리즈 값 "
   ]
  },
  {
   "cell_type": "code",
   "execution_count": 37,
   "id": "904a7570",
   "metadata": {},
   "outputs": [
    {
     "data": {
      "text/plain": [
       "array([9904312, 3448737,  289045, 2466052], dtype=int64)"
      ]
     },
     "execution_count": 37,
     "metadata": {},
     "output_type": "execute_result"
    }
   ],
   "source": [
    "# 시리즈 값\n",
    "s.values"
   ]
  },
  {
   "cell_type": "markdown",
   "id": "6c93de90",
   "metadata": {},
   "source": [
    "##  시리즈.name 속성"
   ]
  },
  {
   "cell_type": "code",
   "execution_count": 38,
   "id": "4a08d0f1",
   "metadata": {},
   "outputs": [
    {
     "name": "stdout",
     "output_type": "stream",
     "text": [
      "None\n"
     ]
    }
   ],
   "source": [
    "# 시리즈 네임 속성 출력\n",
    "print(s.name)"
   ]
  },
  {
   "cell_type": "code",
   "execution_count": 41,
   "id": "c82b7481",
   "metadata": {},
   "outputs": [
    {
     "data": {
      "text/plain": [
       "도시\n",
       "서울    9904312\n",
       "부산    3448737\n",
       "인천     289045\n",
       "대구    2466052\n",
       "Name: 인구수, dtype: int64"
      ]
     },
     "execution_count": 41,
     "metadata": {},
     "output_type": "execute_result"
    }
   ],
   "source": [
    "# 시리즈 네임 변경\n",
    "s.name = '인구수'\n",
    "s"
   ]
  },
  {
   "cell_type": "code",
   "execution_count": 42,
   "id": "5bd1977e",
   "metadata": {},
   "outputs": [
    {
     "data": {
      "text/plain": [
       "9904312"
      ]
     },
     "execution_count": 42,
     "metadata": {},
     "output_type": "execute_result"
    }
   ],
   "source": [
    "# 정수형 인덱스 접근\n",
    "s[0]"
   ]
  },
  {
   "cell_type": "code",
   "execution_count": 44,
   "id": "c99893e3",
   "metadata": {},
   "outputs": [
    {
     "data": {
      "text/plain": [
       "9904312"
      ]
     },
     "execution_count": 44,
     "metadata": {},
     "output_type": "execute_result"
    }
   ],
   "source": [
    "# 문자열 인덱스 접근\n",
    "s['서울']\n"
   ]
  },
  {
   "cell_type": "code",
   "execution_count": 46,
   "id": "193b5ff3",
   "metadata": {},
   "outputs": [
    {
     "data": {
      "text/plain": [
       "(289045, 2466052)"
      ]
     },
     "execution_count": 46,
     "metadata": {},
     "output_type": "execute_result"
    }
   ],
   "source": [
    "# 둘다 \n",
    "s[2],s['대구']"
   ]
  },
  {
   "cell_type": "markdown",
   "id": "f8fe2bb2",
   "metadata": {},
   "source": [
    "## 리스트 이용 인덱싱"
   ]
  },
  {
   "cell_type": "code",
   "execution_count": 47,
   "id": "efc06c1a",
   "metadata": {},
   "outputs": [
    {
     "data": {
      "text/plain": [
       "도시\n",
       "부산    3448737\n",
       "인천     289045\n",
       "Name: 인구수, dtype: int64"
      ]
     },
     "execution_count": 47,
     "metadata": {},
     "output_type": "execute_result"
    }
   ],
   "source": [
    "# 여러개 접근\n",
    "s[[1,2]]"
   ]
  },
  {
   "cell_type": "code",
   "execution_count": 49,
   "id": "7667331b",
   "metadata": {},
   "outputs": [
    {
     "data": {
      "text/plain": [
       "도시\n",
       "서울    9904312\n",
       "대구    2466052\n",
       "Name: 인구수, dtype: int64"
      ]
     },
     "execution_count": 49,
     "metadata": {},
     "output_type": "execute_result"
    }
   ],
   "source": [
    "s[['서울','대구']]"
   ]
  },
  {
   "cell_type": "markdown",
   "id": "ce2843e8",
   "metadata": {},
   "source": [
    "## 문자 인덱스를 이용한 인덱싱\n",
    "* .연산자를 이용해 접근가능: 객체명.문자인덱스명 "
   ]
  },
  {
   "cell_type": "code",
   "execution_count": 51,
   "id": "fc74e3b0",
   "metadata": {},
   "outputs": [
    {
     "data": {
      "text/plain": [
       "9904312"
      ]
     },
     "execution_count": 51,
     "metadata": {},
     "output_type": "execute_result"
    }
   ],
   "source": [
    "s.서울"
   ]
  },
  {
   "cell_type": "code",
   "execution_count": 54,
   "id": "b4d2a986",
   "metadata": {},
   "outputs": [
    {
     "data": {
      "text/plain": [
       "a    0\n",
       "b    1\n",
       "c    2\n",
       "dtype: int64"
      ]
     },
     "execution_count": 54,
     "metadata": {},
     "output_type": "execute_result"
    }
   ],
   "source": [
    "s1 = pd.Series(range(3),index = ['a','b','c'])\n",
    "s1"
   ]
  },
  {
   "cell_type": "code",
   "execution_count": 55,
   "id": "77257a11",
   "metadata": {},
   "outputs": [
    {
     "data": {
      "text/plain": [
       "0"
      ]
     },
     "execution_count": 55,
     "metadata": {},
     "output_type": "execute_result"
    }
   ],
   "source": [
    "s1.a"
   ]
  },
  {
   "cell_type": "markdown",
   "id": "10e39a12",
   "metadata": {},
   "source": [
    "## 시리즈 슬라이싱(slicing)\n",
    "* 정수형 위치 인덱스를 사용한 슬라이승\n",
    "    * 시리즈[start:stop+1]  해야 stop까지 나옴\n",
    "* 문자형 위치 슬라이스\n",
    "    * 시리즈[start:end] :표시된 라벨 범위 모두 "
   ]
  },
  {
   "cell_type": "code",
   "execution_count": 56,
   "id": "27e558da",
   "metadata": {},
   "outputs": [
    {
     "data": {
      "text/plain": [
       "도시\n",
       "부산    3448737\n",
       "인천     289045\n",
       "Name: 인구수, dtype: int64"
      ]
     },
     "execution_count": 56,
     "metadata": {},
     "output_type": "execute_result"
    }
   ],
   "source": [
    "# 값 2개 추출\n",
    "s[1:3]"
   ]
  },
  {
   "cell_type": "code",
   "execution_count": 57,
   "id": "174385eb",
   "metadata": {},
   "outputs": [
    {
     "data": {
      "text/plain": [
       "도시\n",
       "부산    3448737\n",
       "인천     289045\n",
       "대구    2466052\n",
       "Name: 인구수, dtype: int64"
      ]
     },
     "execution_count": 57,
     "metadata": {},
     "output_type": "execute_result"
    }
   ],
   "source": [
    "# 문자 인덱스를 이용한 슬라이싱\n",
    "# 2~4번째 값(3개값)\n",
    "s['부산':'대구']"
   ]
  },
  {
   "cell_type": "markdown",
   "id": "d27704c9",
   "metadata": {},
   "source": [
    "## 인덱스를 통한 시리즈 데이터 업데이트"
   ]
  },
  {
   "cell_type": "code",
   "execution_count": 58,
   "id": "c9c80252",
   "metadata": {},
   "outputs": [
    {
     "data": {
      "text/plain": [
       "도시\n",
       "서울    9904312\n",
       "부산    3448737\n",
       "인천     289045\n",
       "대구    2466052\n",
       "Name: 인구수, dtype: int64"
      ]
     },
     "execution_count": 58,
     "metadata": {},
     "output_type": "execute_result"
    }
   ],
   "source": [
    "s"
   ]
  },
  {
   "cell_type": "code",
   "execution_count": 59,
   "id": "a7372a0e",
   "metadata": {},
   "outputs": [
    {
     "data": {
      "text/plain": [
       "도시\n",
       "서울    1000000\n",
       "부산    3448737\n",
       "인천     289045\n",
       "대구    2466052\n",
       "Name: 인구수, dtype: int64"
      ]
     },
     "execution_count": 59,
     "metadata": {},
     "output_type": "execute_result"
    }
   ],
   "source": [
    "# '서울'변경\n",
    "s['서울'] = 1000000   # s.서울 = 100000\n",
    "s"
   ]
  },
  {
   "cell_type": "markdown",
   "id": "0dee4891",
   "metadata": {},
   "source": [
    "## 인덱스 재사용"
   ]
  },
  {
   "cell_type": "code",
   "execution_count": 60,
   "id": "9cf9a523",
   "metadata": {},
   "outputs": [
    {
     "data": {
      "text/plain": [
       "도시\n",
       "서울    0\n",
       "부산    1\n",
       "인천    2\n",
       "대구    3\n",
       "dtype: int32"
      ]
     },
     "execution_count": 60,
     "metadata": {},
     "output_type": "execute_result"
    }
   ],
   "source": [
    "s1 = pd.Series(np.arange(4),s.index)\n",
    "s1"
   ]
  },
  {
   "cell_type": "markdown",
   "id": "b686c183",
   "metadata": {},
   "source": [
    "## 시리즈 연산"
   ]
  },
  {
   "cell_type": "code",
   "execution_count": 61,
   "id": "7d9e47a0",
   "metadata": {},
   "outputs": [
    {
     "data": {
      "text/plain": [
       "0    5\n",
       "1    6\n",
       "2    7\n",
       "dtype: int64"
      ]
     },
     "execution_count": 61,
     "metadata": {},
     "output_type": "execute_result"
    }
   ],
   "source": [
    "# 시리즈와 스칼라의 합\n",
    "pd.Series([1,2,3])+4"
   ]
  },
  {
   "cell_type": "code",
   "execution_count": 62,
   "id": "802bcd61",
   "metadata": {},
   "outputs": [
    {
     "data": {
      "text/plain": [
       "도시\n",
       "서울    1.000000\n",
       "부산    3.448737\n",
       "인천    0.289045\n",
       "대구    2.466052\n",
       "Name: 인구수, dtype: float64"
      ]
     },
     "execution_count": 62,
     "metadata": {},
     "output_type": "execute_result"
    }
   ],
   "source": [
    "# 시리즈의 값을 1/10000 로 변경\n",
    "s/1000000\n",
    "#s 시리즈의 모든 value에 대하여 각각 연산을 진행"
   ]
  },
  {
   "cell_type": "markdown",
   "id": "b9ce980d",
   "metadata": {},
   "source": [
    "벡터화 인덱싱"
   ]
  },
  {
   "cell_type": "code",
   "execution_count": 65,
   "id": "9ed7cb64",
   "metadata": {},
   "outputs": [
    {
     "data": {
      "text/plain": [
       "도시\n",
       "서울    False\n",
       "부산     True\n",
       "인천    False\n",
       "대구    False\n",
       "Name: 인구수, dtype: bool"
      ]
     },
     "execution_count": 65,
     "metadata": {},
     "output_type": "execute_result"
    }
   ],
   "source": [
    "#(s > 2500000) & (s< 5000000)\n",
    "(s > 25e5) & (s< 50e5)  # e5 0 5ro\n",
    "# s[(s > 2500000) & (s< 5000000)]\n"
   ]
  },
  {
   "cell_type": "code",
   "execution_count": 64,
   "id": "eefd3d38",
   "metadata": {},
   "outputs": [
    {
     "data": {
      "text/plain": [
       "1     0\n",
       "2     1\n",
       "3     2\n",
       "4     3\n",
       "5     4\n",
       "6     5\n",
       "7     6\n",
       "8     7\n",
       "9     8\n",
       "10    9\n",
       "dtype: int32"
      ]
     },
     "execution_count": 64,
     "metadata": {},
     "output_type": "execute_result"
    }
   ],
   "source": [
    "s0 = pd.Series(np.arange(10),np.arange(10)+1)\n",
    "s0"
   ]
  },
  {
   "cell_type": "code",
   "execution_count": 66,
   "id": "8884ac10",
   "metadata": {},
   "outputs": [
    {
     "data": {
      "text/plain": [
       "1     False\n",
       "2     False\n",
       "3     False\n",
       "4     False\n",
       "5     False\n",
       "6     False\n",
       "7      True\n",
       "8      True\n",
       "9      True\n",
       "10     True\n",
       "dtype: bool"
      ]
     },
     "execution_count": 66,
     "metadata": {},
     "output_type": "execute_result"
    }
   ],
   "source": [
    "# 5보다 큰가\n",
    "s0 > 5"
   ]
  },
  {
   "cell_type": "code",
   "execution_count": 71,
   "id": "0e4f78bd",
   "metadata": {},
   "outputs": [
    {
     "data": {
      "text/plain": [
       "7     6\n",
       "8     7\n",
       "9     8\n",
       "10    9\n",
       "dtype: int32"
      ]
     },
     "execution_count": 71,
     "metadata": {},
     "output_type": "execute_result"
    }
   ],
   "source": [
    "# 5보다 큰 요소 추출\n",
    "s0[s0>5]"
   ]
  },
  {
   "cell_type": "code",
   "execution_count": 73,
   "id": "288394a7",
   "metadata": {},
   "outputs": [
    {
     "data": {
      "text/plain": [
       "1    0\n",
       "3    2\n",
       "5    4\n",
       "7    6\n",
       "9    8\n",
       "dtype: int32"
      ]
     },
     "execution_count": 73,
     "metadata": {},
     "output_type": "execute_result"
    }
   ],
   "source": [
    "# 짝수 호출\n",
    "s0[s0%2==0]"
   ]
  },
  {
   "cell_type": "code",
   "execution_count": 74,
   "id": "95192dfb",
   "metadata": {},
   "outputs": [
    {
     "data": {
      "text/plain": [
       "array([False, False, False, False, False,  True,  True,  True,  True,\n",
       "        True])"
      ]
     },
     "execution_count": 74,
     "metadata": {},
     "output_type": "execute_result"
    }
   ],
   "source": [
    "# 인덱스가 5보다 큰거\n",
    "s0.index > 5"
   ]
  },
  {
   "cell_type": "code",
   "execution_count": 77,
   "id": "8a5e744f",
   "metadata": {},
   "outputs": [
    {
     "data": {
      "text/plain": [
       "7     6\n",
       "8     7\n",
       "9     8\n",
       "10    9\n",
       "dtype: int32"
      ]
     },
     "execution_count": 77,
     "metadata": {},
     "output_type": "execute_result"
    }
   ],
   "source": [
    "s0[s0>5]   ## ????"
   ]
  },
  {
   "cell_type": "code",
   "execution_count": 76,
   "id": "36c2bec2",
   "metadata": {},
   "outputs": [
    {
     "data": {
      "text/plain": [
       "7    6\n",
       "8    7\n",
       "dtype: int32"
      ]
     },
     "execution_count": 76,
     "metadata": {},
     "output_type": "execute_result"
    }
   ],
   "source": [
    "# 값이 5보다 크고 8보다 작은 요소 추출\n",
    "s0[(s0>5) & (s0<8)]"
   ]
  },
  {
   "cell_type": "code",
   "execution_count": 78,
   "id": "1b49ca69",
   "metadata": {},
   "outputs": [
    {
     "data": {
      "text/plain": [
       "24"
      ]
     },
     "execution_count": 78,
     "metadata": {},
     "output_type": "execute_result"
    }
   ],
   "source": [
    "# 값이 7이상인 수들의 합\n",
    "s0[s0>= 7].sum() "
   ]
  },
  {
   "cell_type": "code",
   "execution_count": 80,
   "id": "84d2dae2",
   "metadata": {},
   "outputs": [
    {
     "data": {
      "text/plain": [
       "3"
      ]
     },
     "execution_count": 80,
     "metadata": {},
     "output_type": "execute_result"
    }
   ],
   "source": [
    "# 조건이 True 인 것들의 갯수\n",
    "(s0>= 7).sum()"
   ]
  },
  {
   "cell_type": "markdown",
   "id": "e931d609",
   "metadata": {},
   "source": [
    "## 두시리즈간의 연산"
   ]
  },
  {
   "cell_type": "code",
   "execution_count": 83,
   "id": "08055f47",
   "metadata": {},
   "outputs": [
    {
     "data": {
      "text/plain": [
       "a    1\n",
       "b    2\n",
       "c    3\n",
       "d    4\n",
       "dtype: int64"
      ]
     },
     "execution_count": 83,
     "metadata": {},
     "output_type": "execute_result"
    }
   ],
   "source": [
    "num_s1 = pd.Series([1,2,3,4],index= ['a','b','c','d'])\n",
    "num_s1"
   ]
  },
  {
   "cell_type": "code",
   "execution_count": 82,
   "id": "ca2ebba9",
   "metadata": {},
   "outputs": [
    {
     "data": {
      "text/plain": [
       "b    5\n",
       "c    6\n",
       "d    7\n",
       "a    8\n",
       "dtype: int64"
      ]
     },
     "execution_count": 82,
     "metadata": {},
     "output_type": "execute_result"
    }
   ],
   "source": [
    "num_s2 = pd.Series([5,6,7,8], index = ['b','c','d','a'])\n",
    "num_s2"
   ]
  },
  {
   "cell_type": "markdown",
   "id": "e5d16584",
   "metadata": {},
   "source": [
    "* 시리즈간의 연산은 같은 인덱스를 찾아 연산을 진행\n",
    "* 동일한 인덱스는 연산을 진행하고 나머지 인덱스는 연산처리가 불가해 nan값 처리\n",
    "\n",
    "* 시리즈 + 시리즈 \n",
    "    * 같은 인덱스를 찾아 + 수행"
   ]
  },
  {
   "cell_type": "code",
   "execution_count": 84,
   "id": "e6640509",
   "metadata": {},
   "outputs": [
    {
     "data": {
      "text/plain": [
       "a     9\n",
       "b     7\n",
       "c     9\n",
       "d    11\n",
       "dtype: int64"
      ]
     },
     "execution_count": 84,
     "metadata": {},
     "output_type": "execute_result"
    }
   ],
   "source": [
    "# 두 시리즈에 대한 + 연산\n",
    "num_s1 + num_s2"
   ]
  },
  {
   "cell_type": "code",
   "execution_count": 85,
   "id": "92cdcc79",
   "metadata": {},
   "outputs": [],
   "source": [
    "num_s3 = pd.Series([5,6,7,8], index = ['e','b','f','g'])\n",
    "num_s4 = pd.Series([1,2,3,4], index = ['a','b','c','d'])"
   ]
  },
  {
   "cell_type": "code",
   "execution_count": 86,
   "id": "52712767",
   "metadata": {},
   "outputs": [
    {
     "data": {
      "text/plain": [
       "a    NaN\n",
       "b    8.0\n",
       "c    NaN\n",
       "d    NaN\n",
       "e    NaN\n",
       "f    NaN\n",
       "g    NaN\n",
       "dtype: float64"
      ]
     },
     "execution_count": 86,
     "metadata": {},
     "output_type": "execute_result"
    }
   ],
   "source": [
    "# 두 시리즈에 대한 + 연산\n",
    "num_s3 + num_s4"
   ]
  },
  {
   "cell_type": "code",
   "execution_count": 87,
   "id": "6b42a1a6",
   "metadata": {},
   "outputs": [
    {
     "data": {
      "text/plain": [
       "a    NaN\n",
       "b    4.0\n",
       "c    NaN\n",
       "d    NaN\n",
       "e    NaN\n",
       "f    NaN\n",
       "g    NaN\n",
       "dtype: float64"
      ]
     },
     "execution_count": 87,
     "metadata": {},
     "output_type": "execute_result"
    }
   ],
   "source": [
    "# 두시리즈의 - 연산\n",
    "num_s3 - num_s4"
   ]
  },
  {
   "cell_type": "code",
   "execution_count": 88,
   "id": "64f1c02c",
   "metadata": {},
   "outputs": [
    {
     "data": {
      "text/plain": [
       "array([4, 4, 4, 4], dtype=int64)"
      ]
     },
     "execution_count": 88,
     "metadata": {},
     "output_type": "execute_result"
    }
   ],
   "source": [
    "# 두시리즈 values 들간의 - 연산 \n",
    "num_s3.values - num_s4.values"
   ]
  },
  {
   "cell_type": "code",
   "execution_count": 89,
   "id": "8ab5f8db",
   "metadata": {},
   "outputs": [
    {
     "data": {
      "text/plain": [
       "array([5, 6, 7, 8], dtype=int64)"
      ]
     },
     "execution_count": 89,
     "metadata": {},
     "output_type": "execute_result"
    }
   ],
   "source": [
    "a = num_s3.values\n",
    "a"
   ]
  },
  {
   "cell_type": "markdown",
   "id": "08b45539",
   "metadata": {},
   "source": [
    "# in 연산자 / for 반복문 사용\n",
    "* 시리즈 객체는 라벨에 의해 인덱싱 가능\n",
    "* 실질적으로는 라벨을 key로 가지는 딕셔너리와 같음\n",
    "* 딕셔너리에서 제공하는 대부분의 연산자 사용가능\n",
    "    * in 연산자: T/F\n",
    "    * for 루프를 통해 각 원소의 key와 values에 접근"
   ]
  },
  {
   "cell_type": "code",
   "execution_count": 90,
   "id": "70f219e0",
   "metadata": {},
   "outputs": [
    {
     "data": {
      "text/plain": [
       "도시\n",
       "서울    1000000\n",
       "부산    3448737\n",
       "인천     289045\n",
       "대구    2466052\n",
       "Name: 인구수, dtype: int64"
      ]
     },
     "execution_count": 90,
     "metadata": {},
     "output_type": "execute_result"
    }
   ],
   "source": [
    "s"
   ]
  },
  {
   "cell_type": "code",
   "execution_count": 91,
   "id": "928841bf",
   "metadata": {},
   "outputs": [
    {
     "data": {
      "text/plain": [
       "True"
      ]
     },
     "execution_count": 91,
     "metadata": {},
     "output_type": "execute_result"
    }
   ],
   "source": [
    "# 인덱스 확인\n",
    "'서울'in s"
   ]
  },
  {
   "cell_type": "code",
   "execution_count": 92,
   "id": "d2ebd814",
   "metadata": {},
   "outputs": [
    {
     "data": {
      "text/plain": [
       "False"
      ]
     },
     "execution_count": 92,
     "metadata": {},
     "output_type": "execute_result"
    }
   ],
   "source": [
    "'울산' in s"
   ]
  },
  {
   "cell_type": "code",
   "execution_count": 93,
   "id": "79d4b550",
   "metadata": {},
   "outputs": [
    {
     "data": {
      "text/plain": [
       "True"
      ]
     },
     "execution_count": 93,
     "metadata": {},
     "output_type": "execute_result"
    }
   ],
   "source": [
    "'대전' not in s"
   ]
  },
  {
   "cell_type": "code",
   "execution_count": 95,
   "id": "b2a13345",
   "metadata": {},
   "outputs": [
    {
     "data": {
      "text/plain": [
       "<zip at 0x22cc85ed0c0>"
      ]
     },
     "execution_count": 95,
     "metadata": {},
     "output_type": "execute_result"
    }
   ],
   "source": [
    "# 딕셔너리의 item() 과 같은 함수가 시리즈에도 있음\n",
    "s.items() # zip 객체"
   ]
  },
  {
   "cell_type": "code",
   "execution_count": 96,
   "id": "4efc841c",
   "metadata": {},
   "outputs": [
    {
     "data": {
      "text/plain": [
       "[('서울', 1000000), ('부산', 3448737), ('인천', 289045), ('대구', 2466052)]"
      ]
     },
     "execution_count": 96,
     "metadata": {},
     "output_type": "execute_result"
    }
   ],
   "source": [
    "# list로 변환 후 확인\n",
    "list(s.items())"
   ]
  },
  {
   "cell_type": "code",
   "execution_count": 97,
   "id": "fa796cae",
   "metadata": {},
   "outputs": [
    {
     "name": "stdout",
     "output_type": "stream",
     "text": [
      "서울 = 1000000\n",
      "부산 = 3448737\n",
      "인천 = 289045\n",
      "대구 = 2466052\n"
     ]
    }
   ],
   "source": [
    "# 시리즈 각 원소 출력\n",
    "for k,v in s.items():\n",
    "    print(f'{k} = {v}')"
   ]
  },
  {
   "cell_type": "markdown",
   "id": "7054fbd1",
   "metadata": {},
   "source": [
    "## 딕셔너리로 만들기"
   ]
  },
  {
   "cell_type": "code",
   "execution_count": 171,
   "id": "6ab8307e",
   "metadata": {},
   "outputs": [
    {
     "data": {
      "text/plain": [
       "홍길     96\n",
       "이몽    100\n",
       "성충     88\n",
       "dtype: int64"
      ]
     },
     "execution_count": 171,
     "metadata": {},
     "output_type": "execute_result"
    }
   ],
   "source": [
    "scores = {'홍길':96,'이몽':100,'성충':88}\n",
    "s = pd.Series(scores)\n",
    "s"
   ]
  },
  {
   "cell_type": "code",
   "execution_count": 100,
   "id": "511b7f0a",
   "metadata": {},
   "outputs": [
    {
     "data": {
      "text/plain": [
       "서울    9904312\n",
       "부산    3448737\n",
       "인천     289045\n",
       "대구    2466052\n",
       "dtype: int64"
      ]
     },
     "execution_count": 100,
     "metadata": {},
     "output_type": "execute_result"
    }
   ],
   "source": [
    "city= pd.Series([9904312, 3448737, 289045, 2466052],\n",
    "            index=[\"서울\",\"부산\",\"인천\",\"대구\"])\n",
    "s = pd.Series(city)\n",
    "s"
   ]
  },
  {
   "cell_type": "markdown",
   "id": "0515cbd8",
   "metadata": {},
   "source": [
    "### 딕셔너리 기반으로 생성한 시리즈 인덱스 설정\n",
    "* 딕셔너리의 원소는 순서를 갖지 않는다 \n",
    "    * 딕셔너리 생성 시리즈 원소도 순서가 보장되지 않는다\n",
    "    * 만약 순서를 보장하고싶으면 인덱스를 리스트로 지정한다"
   ]
  },
  {
   "cell_type": "code",
   "execution_count": 106,
   "id": "007d15c1",
   "metadata": {
    "scrolled": true
   },
   "outputs": [
    {
     "data": {
      "text/plain": [
       "서울    9904312.0\n",
       "부산          NaN\n",
       "인천     289045.0\n",
       "대구    2466052.0\n",
       "dtype: float64"
      ]
     },
     "execution_count": 106,
     "metadata": {},
     "output_type": "execute_result"
    }
   ],
   "source": [
    "# 딕셔너리기반 생성한 시리즈 인덱스 설정\n",
    "s = pd.Series(city,index = [\"서울\",\"부산\",\"인천\",\"대구\"])\n",
    "s"
   ]
  },
  {
   "cell_type": "code",
   "execution_count": 116,
   "id": "f82ccbc3",
   "metadata": {},
   "outputs": [
    {
     "data": {
      "text/plain": [
       "서울    9904312.0\n",
       "인천     289045.0\n",
       "대구    1875000.0\n",
       "부산    1630000.0\n",
       "dtype: float64"
      ]
     },
     "execution_count": 116,
     "metadata": {},
     "output_type": "execute_result"
    }
   ],
   "source": [
    "s['부산'] = 1630000\n",
    "s"
   ]
  },
  {
   "cell_type": "code",
   "execution_count": 117,
   "id": "2212571f",
   "metadata": {
    "scrolled": true
   },
   "outputs": [
    {
     "data": {
      "text/plain": [
       "서울    9904312.0\n",
       "인천     289045.0\n",
       "대구    1875000.0\n",
       "dtype: float64"
      ]
     },
     "execution_count": 117,
     "metadata": {},
     "output_type": "execute_result"
    }
   ],
   "source": [
    "# 데이터 삭제 \n",
    "del s['부산']\n",
    "s"
   ]
  },
  {
   "cell_type": "code",
   "execution_count": 118,
   "id": "45042310",
   "metadata": {},
   "outputs": [
    {
     "data": {
      "text/plain": [
       "서울    9904312.0\n",
       "인천     289045.0\n",
       "대구    1875000.0\n",
       "부산    1875000.0\n",
       "dtype: float64"
      ]
     },
     "execution_count": 118,
     "metadata": {},
     "output_type": "execute_result"
    }
   ],
   "source": [
    "# 새로운 값 추가\n",
    "s['부산'] = 1875000\n",
    "s"
   ]
  },
  {
   "cell_type": "markdown",
   "id": "5a92c849",
   "metadata": {},
   "source": [
    "# Series 함수   ->  몇개 빼먹긴함\n",
    "- size : 시리즈 원소 개수 반환\n",
    "- shape : 튜플형태로 shape 반환\n",
    "- unique(): 유일한 값만 ndarray로 반환\n",
    "- count() : NaN을 제외한 개수를 반환\n",
    "- mean() : NaN을 제외한 평균 \n",
    "- value_counts() : NaN을 제외하고 각 값들의 빈도를 반환 "
   ]
  },
  {
   "cell_type": "code",
   "execution_count": 132,
   "id": "9b6fc693",
   "metadata": {},
   "outputs": [],
   "source": [
    "s1 = pd.Series([1, 1, 2, 1, 2, 2, 2, 1, 1, 3, 3, 4, 5, 5, 7, np.NaN])"
   ]
  },
  {
   "cell_type": "code",
   "execution_count": 133,
   "id": "1172077b",
   "metadata": {},
   "outputs": [
    {
     "data": {
      "text/plain": [
       "16"
      ]
     },
     "execution_count": 133,
     "metadata": {},
     "output_type": "execute_result"
    }
   ],
   "source": [
    "s1.size\n"
   ]
  },
  {
   "cell_type": "code",
   "execution_count": 141,
   "id": "e1bf7568",
   "metadata": {},
   "outputs": [
    {
     "data": {
      "text/plain": [
       "(16,)"
      ]
     },
     "execution_count": 141,
     "metadata": {},
     "output_type": "execute_result"
    }
   ],
   "source": [
    "s1.shape"
   ]
  },
  {
   "cell_type": "code",
   "execution_count": 134,
   "id": "83d149bc",
   "metadata": {},
   "outputs": [
    {
     "data": {
      "text/plain": [
       "16"
      ]
     },
     "execution_count": 134,
     "metadata": {},
     "output_type": "execute_result"
    }
   ],
   "source": [
    "len(s1)"
   ]
  },
  {
   "cell_type": "markdown",
   "id": "2f716de8",
   "metadata": {},
   "source": [
    "* unique()\n",
    "* count()  -> nan은 제외"
   ]
  },
  {
   "cell_type": "markdown",
   "id": "b3d11843",
   "metadata": {},
   "source": [
    "- **unique()** : 시리즈의 유일한 값 반환"
   ]
  },
  {
   "cell_type": "code",
   "execution_count": 135,
   "id": "2cb7ecb2",
   "metadata": {
    "scrolled": true
   },
   "outputs": [
    {
     "data": {
      "text/plain": [
       "array([ 1.,  2.,  3.,  4.,  5.,  7., nan])"
      ]
     },
     "execution_count": 135,
     "metadata": {},
     "output_type": "execute_result"
    }
   ],
   "source": [
    "s1.unique()"
   ]
  },
  {
   "cell_type": "markdown",
   "id": "6311f1eb",
   "metadata": {},
   "source": [
    "**count()** : NaN을 제외한 개수를 반환"
   ]
  },
  {
   "cell_type": "code",
   "execution_count": 136,
   "id": "a7f0d7ef",
   "metadata": {},
   "outputs": [
    {
     "data": {
      "text/plain": [
       "15"
      ]
     },
     "execution_count": 136,
     "metadata": {},
     "output_type": "execute_result"
    }
   ],
   "source": [
    "s1.count()\n"
   ]
  },
  {
   "cell_type": "markdown",
   "id": "484e3181",
   "metadata": {},
   "source": [
    "**mean()** : 데이터의 평균"
   ]
  },
  {
   "cell_type": "code",
   "execution_count": 137,
   "id": "ed89326d",
   "metadata": {},
   "outputs": [
    {
     "data": {
      "text/plain": [
       "2.6666666666666665"
      ]
     },
     "execution_count": 137,
     "metadata": {},
     "output_type": "execute_result"
    }
   ],
   "source": [
    "# mean() 데이터 평균  결측치를 제외하고 구함\n",
    "s1.mean()"
   ]
  },
  {
   "cell_type": "code",
   "execution_count": 138,
   "id": "f8decad3",
   "metadata": {},
   "outputs": [
    {
     "data": {
      "text/plain": [
       "nan"
      ]
     },
     "execution_count": 138,
     "metadata": {},
     "output_type": "execute_result"
    }
   ],
   "source": [
    "# numpy 의 1차원 데이터 생성하고 평균을 계산\n",
    "a = np.array([2,2,2,2,np.NaN])   \n",
    "a.mean()\n"
   ]
  },
  {
   "cell_type": "code",
   "execution_count": 139,
   "id": "cbfbff87",
   "metadata": {},
   "outputs": [
    {
     "data": {
      "text/plain": [
       "2.0"
      ]
     },
     "execution_count": 139,
     "metadata": {},
     "output_type": "execute_result"
    }
   ],
   "source": [
    "# 시리즈의 경우 평균은 nan을 제외하고 계산\n",
    "b = pd.Series(a)  # numpy 데이터를 시리즈로 변경\n",
    "b.mean()   # nan 빼고 계산"
   ]
  },
  {
   "cell_type": "markdown",
   "id": "1337af0f",
   "metadata": {},
   "source": [
    "- **value_counts()** : 그룹핑된 원소별 개수 "
   ]
  },
  {
   "cell_type": "code",
   "execution_count": 140,
   "id": "f53429e5",
   "metadata": {},
   "outputs": [
    {
     "data": {
      "text/plain": [
       "1.0    5\n",
       "2.0    4\n",
       "3.0    2\n",
       "5.0    2\n",
       "7.0    1\n",
       "4.0    1\n",
       "dtype: int64"
      ]
     },
     "execution_count": 140,
     "metadata": {},
     "output_type": "execute_result"
    }
   ],
   "source": [
    "# 각 원소들의 그룹별 빈도개수를 셈  (매핑?)\n",
    "s1.value_counts()"
   ]
  },
  {
   "cell_type": "markdown",
   "id": "bfbc5565",
   "metadata": {},
   "source": [
    "# 날짜 인덱스를 이용하여 시리즈 생성"
   ]
  },
  {
   "cell_type": "code",
   "execution_count": null,
   "id": "af05a618",
   "metadata": {},
   "outputs": [],
   "source": [
    "# 날짜 인덱스를 이용하여 시리즈 만들기\n",
    "# 날짜표기 '년-월-일' 형태의 문자열로 표시\n"
   ]
  },
  {
   "cell_type": "markdown",
   "id": "788b7970",
   "metadata": {},
   "source": [
    "## 날짜 생성 함수 data_range()\n",
    "* 판다스 패키지의 data_range함수(날짜생성)\n",
    "pd.data_range(start=None,end=None,periods=None,freq='D)\n",
    "*(시작날짜,끝날짜,날짜 생성기간,날짜 생성주기 ,기존값은 'D'(Day))\n",
    "    * 끝날짜나 , 날짜 생성기간중 하나 필수 , 시작날짜는 필수 "
   ]
  },
  {
   "cell_type": "markdown",
   "id": "5434cddb",
   "metadata": {},
   "source": [
    "## 243P"
   ]
  },
  {
   "cell_type": "code",
   "execution_count": 144,
   "id": "a1aa2340",
   "metadata": {},
   "outputs": [
    {
     "data": {
      "text/plain": [
       "DatetimeIndex(['2021-10-01', '2021-10-02', '2021-10-03', '2021-10-04',\n",
       "               '2021-10-05', '2021-10-06', '2021-10-07', '2021-10-08',\n",
       "               '2021-10-09', '2021-10-10', '2021-10-11', '2021-10-12',\n",
       "               '2021-10-13', '2021-10-14', '2021-10-15', '2021-10-16',\n",
       "               '2021-10-17', '2021-10-18', '2021-10-19', '2021-10-20'],\n",
       "              dtype='datetime64[ns]', freq='D')"
      ]
     },
     "execution_count": 144,
     "metadata": {},
     "output_type": "execute_result"
    }
   ],
   "source": [
    "date = pd.date_range(start='2021-10-01',end= '2021-10-20')\n",
    "date"
   ]
  },
  {
   "cell_type": "code",
   "execution_count": 145,
   "id": "6a79b61e",
   "metadata": {},
   "outputs": [
    {
     "data": {
      "text/plain": [
       "pandas.core.indexes.datetimes.DatetimeIndex"
      ]
     },
     "execution_count": 145,
     "metadata": {},
     "output_type": "execute_result"
    }
   ],
   "source": [
    "type(date)"
   ]
  },
  {
   "cell_type": "code",
   "execution_count": 151,
   "id": "8ae94680",
   "metadata": {},
   "outputs": [
    {
     "data": {
      "text/plain": [
       "DatetimeIndex(['2021-10-01', '2021-10-04', '2021-10-07', '2021-10-10',\n",
       "               '2021-10-13', '2021-10-16', '2021-10-19'],\n",
       "              dtype='datetime64[ns]', freq='3D')"
      ]
     },
     "execution_count": 151,
     "metadata": {},
     "output_type": "execute_result"
    }
   ],
   "source": [
    "# g3일간격 주기로 1001 에서 1020 으로\n",
    "pd.date_range(start='2021-10-01',end= '2021-10-20',freq = '3D')"
   ]
  },
  {
   "cell_type": "code",
   "execution_count": 155,
   "id": "3744cab6",
   "metadata": {},
   "outputs": [
    {
     "data": {
      "text/plain": [
       "DatetimeIndex(['2021-10-03', '2021-10-10', '2021-10-17'], dtype='datetime64[ns]', freq='W-SUN')"
      ]
     },
     "execution_count": 155,
     "metadata": {},
     "output_type": "execute_result"
    }
   ],
   "source": [
    "# 1일 기준으로 1주일씩 증가하는 4개의 1주 시작일(일요일)\n",
    "# 01은 금요일\n",
    "pd.date_range(start='2021-10-01',end= '2021-10-20',freq = 'W')"
   ]
  },
  {
   "cell_type": "code",
   "execution_count": 156,
   "id": "3618bdb5",
   "metadata": {},
   "outputs": [
    {
     "data": {
      "text/plain": [
       "DatetimeIndex(['2021-10-03', '2021-10-10', '2021-10-17'], dtype='datetime64[ns]', freq='W-SUN')"
      ]
     },
     "execution_count": 156,
     "metadata": {},
     "output_type": "execute_result"
    }
   ],
   "source": [
    "# 위와 같은결과\n",
    "pd.date_range(start='2021-10-01',end= '2021-10-20',freq = 'W-SUN')"
   ]
  },
  {
   "cell_type": "code",
   "execution_count": 157,
   "id": "1292715a",
   "metadata": {},
   "outputs": [
    {
     "data": {
      "text/plain": [
       "DatetimeIndex(['2021-10-04', '2021-10-11', '2021-10-18'], dtype='datetime64[ns]', freq='W-MON')"
      ]
     },
     "execution_count": 157,
     "metadata": {},
     "output_type": "execute_result"
    }
   ],
   "source": [
    "# 월요일 기준\n",
    "pd.date_range(start='2021-10-01',end= '2021-10-20',freq = 'W-MON')"
   ]
  },
  {
   "cell_type": "code",
   "execution_count": 158,
   "id": "c4287253",
   "metadata": {},
   "outputs": [
    {
     "data": {
      "text/plain": [
       "DatetimeIndex(['2021-10-01', '2021-10-08', '2021-10-15'], dtype='datetime64[ns]', freq='W-FRI')"
      ]
     },
     "execution_count": 158,
     "metadata": {},
     "output_type": "execute_result"
    }
   ],
   "source": [
    "# 금요일 기준\n",
    "pd.date_range(start='2021-10-01',end= '2021-10-20',freq = 'W-FRI')"
   ]
  },
  {
   "cell_type": "code",
   "execution_count": 160,
   "id": "f935a1ec",
   "metadata": {},
   "outputs": [
    {
     "data": {
      "text/plain": [
       "DatetimeIndex(['2021-10-11', '2021-10-18', '2021-10-25', '2021-11-01'], dtype='datetime64[ns]', freq='W-MON')"
      ]
     },
     "execution_count": 160,
     "metadata": {},
     "output_type": "execute_result"
    }
   ],
   "source": [
    "# 7일 기준으로 1주일씩 증가하는 4개의 1주 시작일 (월요일)\n",
    "# 7일 이후 부터 월요일 4개  periods 는 주기임\n",
    "pd.date_range(start='2021-10-07',periods=4,freq = 'W-MON')"
   ]
  },
  {
   "cell_type": "code",
   "execution_count": 161,
   "id": "1fe2ea3e",
   "metadata": {},
   "outputs": [
    {
     "data": {
      "text/plain": [
       "DatetimeIndex(['2021-10-31', '2021-11-30', '2021-12-31', '2022-01-31'], dtype='datetime64[ns]', freq='M')"
      ]
     },
     "execution_count": 161,
     "metadata": {},
     "output_type": "execute_result"
    }
   ],
   "source": [
    "# 01일 기준으로 한달 간격의 일자4개 생성 : 월말기준\n",
    "pd.date_range(start='2021-10-01',periods=4,freq = 'M')"
   ]
  },
  {
   "cell_type": "code",
   "execution_count": 162,
   "id": "aa0fedbd",
   "metadata": {},
   "outputs": [
    {
     "data": {
      "text/plain": [
       "DatetimeIndex(['2021-10-01', '2021-11-01', '2021-12-01', '2022-01-01'], dtype='datetime64[ns]', freq='MS')"
      ]
     },
     "execution_count": 162,
     "metadata": {},
     "output_type": "execute_result"
    }
   ],
   "source": [
    "# 월초 기준\n",
    "pd.date_range(start='2021-10-01',periods=4,freq = 'MS')"
   ]
  },
  {
   "cell_type": "code",
   "execution_count": 163,
   "id": "a13490e0",
   "metadata": {},
   "outputs": [
    {
     "data": {
      "text/plain": [
       "DatetimeIndex(['2021-10-01', '2021-11-01', '2021-12-01', '2022-01-01'], dtype='datetime64[ns]', freq='MS')"
      ]
     },
     "execution_count": 163,
     "metadata": {},
     "output_type": "execute_result"
    }
   ],
   "source": [
    "# 01일 기준으로 세달 간격의 일자4개 생성 : 월말기준\n",
    "pd.date_range(start='2021-10-01',periods=4,freq = 'M')"
   ]
  },
  {
   "cell_type": "code",
   "execution_count": 164,
   "id": "47c1b3f0",
   "metadata": {},
   "outputs": [
    {
     "data": {
      "text/plain": [
       "DatetimeIndex(['2021-10-01', '2021-12-01', '2022-02-01', '2022-04-01',\n",
       "               '2022-06-01', '2022-08-01', '2022-10-01', '2022-12-01',\n",
       "               '2023-02-01', '2023-04-01', '2023-06-01', '2023-08-01'],\n",
       "              dtype='datetime64[ns]', freq='2MS')"
      ]
     },
     "execution_count": 164,
     "metadata": {},
     "output_type": "execute_result"
    }
   ],
   "source": [
    "# 2개우러 월초주기로 12개의 월말 날짜 생성\n",
    "pd.date_range(start='2021-10-01',periods=12,freq = '2MS')"
   ]
  },
  {
   "cell_type": "code",
   "execution_count": 165,
   "id": "9e813c8b",
   "metadata": {},
   "outputs": [
    {
     "data": {
      "text/plain": [
       "DatetimeIndex(['2021-10-01', '2022-01-01', '2022-04-01', '2022-07-01'], dtype='datetime64[ns]', freq='QS-JAN')"
      ]
     },
     "execution_count": 165,
     "metadata": {},
     "output_type": "execute_result"
    }
   ],
   "source": [
    "# 분기시작일 기준 4개의 분기 시작일 생성\n",
    "pd.date_range(start='2021-10-01',periods=4,freq = 'QS')"
   ]
  },
  {
   "cell_type": "code",
   "execution_count": 166,
   "id": "35560eab",
   "metadata": {},
   "outputs": [
    {
     "data": {
      "text/plain": [
       "DatetimeIndex(['2023-01-01', '2024-01-01', '2025-01-01', '2026-01-01'], dtype='datetime64[ns]', freq='AS-JAN')"
      ]
     },
     "execution_count": 166,
     "metadata": {},
     "output_type": "execute_result"
    }
   ],
   "source": [
    "# 20일 기준 연초\n",
    "pd.date_range(start='2022-10-20',periods=4,freq = 'AS')"
   ]
  },
  {
   "cell_type": "code",
   "execution_count": 167,
   "id": "6bf395ee",
   "metadata": {},
   "outputs": [
    {
     "data": {
      "text/plain": [
       "DatetimeIndex(['2022-10-07 08:00:00', '2022-10-07 09:00:00',\n",
       "               '2022-10-07 10:00:00', '2022-10-07 11:00:00',\n",
       "               '2022-10-07 12:00:00', '2022-10-07 13:00:00',\n",
       "               '2022-10-07 14:00:00', '2022-10-07 15:00:00',\n",
       "               '2022-10-07 16:00:00', '2022-10-07 17:00:00'],\n",
       "              dtype='datetime64[ns]', freq='H')"
      ]
     },
     "execution_count": 167,
     "metadata": {},
     "output_type": "execute_result"
    }
   ],
   "source": [
    "# 22-01-07 08:00 부터 시간 기준으로 10개의 날짜 생성\n",
    "pd.date_range(start='2022-10-07 08:00',periods=10,freq = 'H')"
   ]
  },
  {
   "cell_type": "code",
   "execution_count": 168,
   "id": "fb39ca18",
   "metadata": {},
   "outputs": [
    {
     "data": {
      "text/plain": [
       "DatetimeIndex(['2022-10-07 09:00:00', '2022-10-07 10:00:00',\n",
       "               '2022-10-07 11:00:00', '2022-10-07 12:00:00',\n",
       "               '2022-10-07 13:00:00', '2022-10-07 14:00:00',\n",
       "               '2022-10-07 15:00:00', '2022-10-07 16:00:00',\n",
       "               '2022-10-10 09:00:00', '2022-10-10 10:00:00'],\n",
       "              dtype='datetime64[ns]', freq='BH')"
      ]
     },
     "execution_count": 168,
     "metadata": {},
     "output_type": "execute_result"
    }
   ],
   "source": [
    "# 업무시간 기준 9 TO 5 로 설정되어있음 \n",
    "pd.date_range(start='2022-10-07 08:00',periods=10,freq = 'BH')"
   ]
  },
  {
   "cell_type": "code",
   "execution_count": 169,
   "id": "e2eb15a2",
   "metadata": {},
   "outputs": [
    {
     "data": {
      "text/plain": [
       "DatetimeIndex(['2022-10-07 08:00:00', '2022-10-07 08:30:00',\n",
       "               '2022-10-07 09:00:00', '2022-10-07 09:30:00',\n",
       "               '2022-10-07 10:00:00', '2022-10-07 10:30:00',\n",
       "               '2022-10-07 11:00:00', '2022-10-07 11:30:00',\n",
       "               '2022-10-07 12:00:00', '2022-10-07 12:30:00'],\n",
       "              dtype='datetime64[ns]', freq='30T')"
      ]
     },
     "execution_count": 169,
     "metadata": {},
     "output_type": "execute_result"
    }
   ],
   "source": [
    "# 30분 단위 가능\n",
    "pd.date_range(start='2022-10-07 08:00',periods=10,freq = '30min')"
   ]
  },
  {
   "cell_type": "code",
   "execution_count": 170,
   "id": "508e983b",
   "metadata": {},
   "outputs": [
    {
     "data": {
      "text/plain": [
       "DatetimeIndex(['2022-10-07 08:00:00', '2022-10-07 08:00:10',\n",
       "               '2022-10-07 08:00:20', '2022-10-07 08:00:30',\n",
       "               '2022-10-07 08:00:40', '2022-10-07 08:00:50',\n",
       "               '2022-10-07 08:01:00', '2022-10-07 08:01:10',\n",
       "               '2022-10-07 08:01:20', '2022-10-07 08:01:30'],\n",
       "              dtype='datetime64[ns]', freq='10S')"
      ]
     },
     "execution_count": 170,
     "metadata": {},
     "output_type": "execute_result"
    }
   ],
   "source": [
    "# 10 초 단위\n",
    "pd.date_range(start='2022-10-07 08:00',periods=10,freq = '10s')"
   ]
  },
  {
   "cell_type": "markdown",
   "id": "4055af40",
   "metadata": {},
   "source": [
    "#  Series 끝"
   ]
  }
 ],
 "metadata": {
  "kernelspec": {
   "display_name": "Python 3",
   "language": "python",
   "name": "python3"
  },
  "language_info": {
   "codemirror_mode": {
    "name": "ipython",
    "version": 3
   },
   "file_extension": ".py",
   "mimetype": "text/x-python",
   "name": "python",
   "nbconvert_exporter": "python",
   "pygments_lexer": "ipython3",
   "version": "3.8.8"
  },
  "toc": {
   "base_numbering": 1,
   "nav_menu": {},
   "number_sections": true,
   "sideBar": true,
   "skip_h1_title": false,
   "title_cell": "Table of Contents",
   "title_sidebar": "Contents",
   "toc_cell": false,
   "toc_position": {
    "height": "calc(100% - 180px)",
    "left": "10px",
    "top": "150px",
    "width": "365.714px"
   },
   "toc_section_display": true,
   "toc_window_display": true
  }
 },
 "nbformat": 4,
 "nbformat_minor": 5
}
