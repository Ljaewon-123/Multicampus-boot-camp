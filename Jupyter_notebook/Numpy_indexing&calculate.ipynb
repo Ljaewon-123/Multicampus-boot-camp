{
 "cells": [
  {
   "cell_type": "code",
   "execution_count": 3,
   "id": "1a85b5e9",
   "metadata": {},
   "outputs": [],
   "source": [
    "import numpy as np"
   ]
  },
  {
   "cell_type": "markdown",
   "id": "55539c95",
   "metadata": {},
   "source": [
    "# 통계를 위한 연산"
   ]
  },
  {
   "cell_type": "code",
   "execution_count": 6,
   "id": "03f3a19a",
   "metadata": {
    "scrolled": true
   },
   "outputs": [
    {
     "data": {
      "text/plain": [
       "array([0, 1, 2, 3, 4])"
      ]
     },
     "execution_count": 6,
     "metadata": {},
     "output_type": "execute_result"
    }
   ],
   "source": [
    "arr1 = np.arange(5)\n",
    "arr1"
   ]
  },
  {
   "cell_type": "code",
   "execution_count": 7,
   "id": "2f4b0ac4",
   "metadata": {},
   "outputs": [
    {
     "data": {
      "text/plain": [
       "[10, 2.0]"
      ]
     },
     "execution_count": 7,
     "metadata": {},
     "output_type": "execute_result"
    }
   ],
   "source": [
    "# 합과 (산술)평균 :sum() , mean()\n",
    "[arr1.sum(),arr1.mean()]\n"
   ]
  },
  {
   "cell_type": "code",
   "execution_count": 9,
   "id": "508754b8",
   "metadata": {},
   "outputs": [
    {
     "data": {
      "text/plain": [
       "[1.4142135623730951, 2.0]"
      ]
     },
     "execution_count": 9,
     "metadata": {},
     "output_type": "execute_result"
    }
   ],
   "source": [
    "# 표준편차와 분산: 얼마나 데이터들이 떨어져있는지 확인  : std()  ,    var()\n",
    "[arr1.std() , arr1.var()]"
   ]
  },
  {
   "cell_type": "code",
   "execution_count": 11,
   "id": "8bd9f3ca",
   "metadata": {},
   "outputs": [
    {
     "data": {
      "text/plain": [
       "[4, 0]"
      ]
     },
     "execution_count": 11,
     "metadata": {},
     "output_type": "execute_result"
    }
   ],
   "source": [
    "# 최소값과 최대값 max(),  min()\n",
    "[arr1.max() , arr1.min()]"
   ]
  },
  {
   "cell_type": "code",
   "execution_count": 13,
   "id": "22109b81",
   "metadata": {},
   "outputs": [
    {
     "data": {
      "text/plain": [
       "array([1, 2, 3, 4])"
      ]
     },
     "execution_count": 13,
     "metadata": {},
     "output_type": "execute_result"
    }
   ],
   "source": [
    "# 누적합과 누적곱 : cumsum(), cumprod()\n",
    "arr2 = np.arange(1,5)\n",
    "arr2"
   ]
  },
  {
   "cell_type": "code",
   "execution_count": 14,
   "id": "b5b30e7d",
   "metadata": {},
   "outputs": [
    {
     "data": {
      "text/plain": [
       "array([ 1,  3,  6, 10], dtype=int32)"
      ]
     },
     "execution_count": 14,
     "metadata": {},
     "output_type": "execute_result"
    }
   ],
   "source": [
    "# 누적합\n",
    "arr2.cumsum()"
   ]
  },
  {
   "cell_type": "code",
   "execution_count": 15,
   "id": "27be4fec",
   "metadata": {},
   "outputs": [
    {
     "data": {
      "text/plain": [
       "array([ 1,  2,  6, 24], dtype=int32)"
      ]
     },
     "execution_count": 15,
     "metadata": {},
     "output_type": "execute_result"
    }
   ],
   "source": [
    "# 누적곱\n",
    "arr2.cumprod()"
   ]
  },
  {
   "cell_type": "markdown",
   "id": "81d748ac",
   "metadata": {},
   "source": [
    "# 행렬 연산\n",
    "* 행렬곱     \n",
    "    * a.dot(B) or np.dot(a,b)\n",
    "*전치행렬    \n",
    "    * a.transpose() or np.transpose(a)\n",
    "*역행렬       \n",
    "    * np.linalg.inv(a)\n",
    "*행렬식      \n",
    "    * np.linalg.det(a)\n"
   ]
  },
  {
   "cell_type": "code",
   "execution_count": 18,
   "id": "d6c8bc92",
   "metadata": {},
   "outputs": [
    {
     "data": {
      "text/plain": [
       "array([[1, 2],\n",
       "       [3, 4]])"
      ]
     },
     "execution_count": 18,
     "metadata": {},
     "output_type": "execute_result"
    }
   ],
   "source": [
    "A = np.arange(1,5).reshape(2,2)\n",
    "# np.array([[1,2],[3,4]])\n",
    "A"
   ]
  },
  {
   "cell_type": "code",
   "execution_count": 20,
   "id": "ada8b3e3",
   "metadata": {},
   "outputs": [
    {
     "data": {
      "text/plain": [
       "array([[3, 2],\n",
       "       [0, 1]])"
      ]
     },
     "execution_count": 20,
     "metadata": {},
     "output_type": "execute_result"
    }
   ],
   "source": [
    "B = np.array([3,2,0,1]).reshape(2,2)\n",
    "B\n"
   ]
  },
  {
   "cell_type": "markdown",
   "id": "65d8d5a6",
   "metadata": {},
   "source": [
    "## 행렬의 곱"
   ]
  },
  {
   "cell_type": "code",
   "execution_count": 22,
   "id": "0242d89e",
   "metadata": {},
   "outputs": [
    {
     "data": {
      "text/plain": [
       "array([[ 3,  4],\n",
       "       [ 9, 10]])"
      ]
     },
     "execution_count": 22,
     "metadata": {},
     "output_type": "execute_result"
    }
   ],
   "source": [
    "# 행렬곱\n",
    "np.dot(A,B)"
   ]
  },
  {
   "cell_type": "code",
   "execution_count": 23,
   "id": "2068b5c3",
   "metadata": {},
   "outputs": [
    {
     "data": {
      "text/plain": [
       "array([[ 3,  4],\n",
       "       [ 9, 10]])"
      ]
     },
     "execution_count": 23,
     "metadata": {},
     "output_type": "execute_result"
    }
   ],
   "source": [
    "A.dot(B)"
   ]
  },
  {
   "cell_type": "markdown",
   "id": "fd03fdaf",
   "metadata": {},
   "source": [
    "## 전치행렬"
   ]
  },
  {
   "cell_type": "code",
   "execution_count": 24,
   "id": "637f7b3f",
   "metadata": {},
   "outputs": [
    {
     "data": {
      "text/plain": [
       "array([[1, 3],\n",
       "       [2, 4]])"
      ]
     },
     "execution_count": 24,
     "metadata": {},
     "output_type": "execute_result"
    }
   ],
   "source": [
    "# 전치행렬\n",
    "A.transpose()"
   ]
  },
  {
   "cell_type": "code",
   "execution_count": 25,
   "id": "cca93d75",
   "metadata": {},
   "outputs": [
    {
     "data": {
      "text/plain": [
       "array([[1, 3],\n",
       "       [2, 4]])"
      ]
     },
     "execution_count": 25,
     "metadata": {},
     "output_type": "execute_result"
    }
   ],
   "source": [
    "np.transpose(A)"
   ]
  },
  {
   "cell_type": "markdown",
   "id": "a0f849e1",
   "metadata": {},
   "source": [
    "## 역행렬"
   ]
  },
  {
   "cell_type": "code",
   "execution_count": 27,
   "id": "b9518ab2",
   "metadata": {},
   "outputs": [
    {
     "data": {
      "text/plain": [
       "array([[-2. ,  1. ],\n",
       "       [ 1.5, -0.5]])"
      ]
     },
     "execution_count": 27,
     "metadata": {},
     "output_type": "execute_result"
    }
   ],
   "source": [
    "# 역행렬(inverse)\n",
    "np.linalg.inv(A)"
   ]
  },
  {
   "cell_type": "code",
   "execution_count": 28,
   "id": "a5650850",
   "metadata": {},
   "outputs": [
    {
     "data": {
      "text/plain": [
       "-2.0000000000000004"
      ]
     },
     "execution_count": 28,
     "metadata": {},
     "output_type": "execute_result"
    }
   ],
   "source": [
    "# 행렬식 (determinant)\n",
    "np.linalg.det(A)"
   ]
  },
  {
   "cell_type": "code",
   "execution_count": 29,
   "id": "0a50d227",
   "metadata": {},
   "outputs": [
    {
     "data": {
      "text/plain": [
       "array([[1.00000000e+00, 1.11022302e-16],\n",
       "       [0.00000000e+00, 1.00000000e+00]])"
      ]
     },
     "execution_count": 29,
     "metadata": {},
     "output_type": "execute_result"
    }
   ],
   "source": [
    "# 행렬 A * inv(A) = 단위행렬이 나옴\n",
    "np.dot(A, np.linalg.inv(A))"
   ]
  },
  {
   "cell_type": "markdown",
   "id": "cc941adf",
   "metadata": {},
   "source": [
    "# array 인덱싱과 슬라이싱\n",
    "* 인덱싱 : 배열의 위치나 조건을 지정해 배열의 원소를 선택하는것\n",
    "* 슬라이싱 : 범위를 지정해 배열의 원소를 선택하는 것\n",
    "\n",
    "## 1차원 배열의 인엑싱\n",
    "### 배열명[위치]\n",
    "* 파이썬의 인덱싱과 동일\n",
    "* 0번째로 시작함"
   ]
  },
  {
   "cell_type": "code",
   "execution_count": 31,
   "id": "541960a6",
   "metadata": {},
   "outputs": [
    {
     "data": {
      "text/plain": [
       "array([0, 1, 2, 3, 4, 5, 6, 7, 8, 9])"
      ]
     },
     "execution_count": 31,
     "metadata": {},
     "output_type": "execute_result"
    }
   ],
   "source": [
    "arr1 = np.arange(10)\n",
    "arr1"
   ]
  },
  {
   "cell_type": "code",
   "execution_count": 32,
   "id": "f9d6a4ee",
   "metadata": {},
   "outputs": [
    {
     "data": {
      "text/plain": [
       "0"
      ]
     },
     "execution_count": 32,
     "metadata": {},
     "output_type": "execute_result"
    }
   ],
   "source": [
    "# 0번째 요소\n",
    "arr1[0]"
   ]
  },
  {
   "cell_type": "code",
   "execution_count": 33,
   "id": "7ddb8c7a",
   "metadata": {},
   "outputs": [
    {
     "data": {
      "text/plain": [
       "2"
      ]
     },
     "execution_count": 33,
     "metadata": {},
     "output_type": "execute_result"
    }
   ],
   "source": [
    "# 3번째 요소\n",
    "arr1[2]"
   ]
  },
  {
   "cell_type": "markdown",
   "id": "cc3d3512",
   "metadata": {},
   "source": [
    "배열명.[[위치,위치2,위치n]]"
   ]
  },
  {
   "cell_type": "code",
   "execution_count": 1,
   "id": "1e69e75d",
   "metadata": {},
   "outputs": [
    {
     "ename": "NameError",
     "evalue": "name 'arr1' is not defined",
     "output_type": "error",
     "traceback": [
      "\u001b[1;31m---------------------------------------------------------------------------\u001b[0m",
      "\u001b[1;31mNameError\u001b[0m                                 Traceback (most recent call last)",
      "\u001b[1;32m<ipython-input-1-6dc7403b3d3d>\u001b[0m in \u001b[0;36m<module>\u001b[1;34m\u001b[0m\n\u001b[0;32m      3\u001b[0m \u001b[1;31m# 여러 인덱스 요소를 지정 : 리스트로 주어야한다\u001b[0m\u001b[1;33m\u001b[0m\u001b[1;33m\u001b[0m\u001b[1;33m\u001b[0m\u001b[0m\n\u001b[0;32m      4\u001b[0m \u001b[1;31m# arr1[1,2,3]  -> 3차원\u001b[0m\u001b[1;33m\u001b[0m\u001b[1;33m\u001b[0m\u001b[1;33m\u001b[0m\u001b[0m\n\u001b[1;32m----> 5\u001b[1;33m \u001b[0marr1\u001b[0m\u001b[1;33m[\u001b[0m\u001b[1;33m[\u001b[0m\u001b[1;36m1\u001b[0m\u001b[1;33m,\u001b[0m\u001b[1;36m3\u001b[0m\u001b[1;33m,\u001b[0m\u001b[1;36m4\u001b[0m\u001b[1;33m]\u001b[0m\u001b[1;33m]\u001b[0m\u001b[1;33m\u001b[0m\u001b[1;33m\u001b[0m\u001b[0m\n\u001b[0m",
      "\u001b[1;31mNameError\u001b[0m: name 'arr1' is not defined"
     ]
    }
   ],
   "source": [
    "# 1,2,3,4, 위치 :shape -> (m,n,p)  => 3차원\n",
    "# 대괄호[] 인덱스 지정은 [m] -> 1차원 [m,n] -> 2차원 [m,n,p] -> 3차원\n",
    "# 여러 인덱스 요소를 지정 : 리스트로 주어야한다\n",
    "# arr1[1,2,3]  -> 3차원\n",
    "arr1[[1,3,4]]  #  -> 이거느 ㄴ돼는거임"
   ]
  },
  {
   "cell_type": "markdown",
   "id": "40dfcd95",
   "metadata": {},
   "source": [
    "## 2차원의 인덱싱"
   ]
  },
  {
   "cell_type": "code",
   "execution_count": 36,
   "id": "be288d91",
   "metadata": {},
   "outputs": [
    {
     "data": {
      "text/plain": [
       "array([[ 1,  2,  3,  4],\n",
       "       [ 5,  6,  7,  8],\n",
       "       [ 9, 10, 11, 12]])"
      ]
     },
     "execution_count": 36,
     "metadata": {},
     "output_type": "execute_result"
    }
   ],
   "source": [
    "arr2 = np.arange(1,13).reshape(3,4)\n",
    "arr2"
   ]
  },
  {
   "cell_type": "code",
   "execution_count": 38,
   "id": "21e86fc2",
   "metadata": {},
   "outputs": [
    {
     "data": {
      "text/plain": [
       "12"
      ]
     },
     "execution_count": 38,
     "metadata": {},
     "output_type": "execute_result"
    }
   ],
   "source": [
    "# 2차원의 array에서 인덱싱을 하기 위해서 2개의 인자를 입력해야한다\n",
    "# arr2[3,2] 안됨 0,1,2 라서\n",
    "arr2[2,3]"
   ]
  },
  {
   "cell_type": "code",
   "execution_count": 39,
   "id": "542289bb",
   "metadata": {},
   "outputs": [
    {
     "data": {
      "text/plain": [
       "array([[90,  2,  3,  4],\n",
       "       [ 5,  6,  7,  8],\n",
       "       [ 9, 10, 11, 12]])"
      ]
     },
     "execution_count": 39,
     "metadata": {},
     "output_type": "execute_result"
    }
   ],
   "source": [
    "# 0행 0열 값 변경\n",
    "arr2[0,0] = 90\n",
    "arr2"
   ]
  },
  {
   "cell_type": "markdown",
   "id": "49a673f4",
   "metadata": {},
   "source": [
    "### 2차원배열명[행위치]\n",
    "* 2차원 배열에서 지정한 행 전체가 선택됨"
   ]
  },
  {
   "cell_type": "code",
   "execution_count": 41,
   "id": "08b556c2",
   "metadata": {},
   "outputs": [
    {
     "data": {
      "text/plain": [
       "array([5, 6, 7, 8])"
      ]
     },
     "execution_count": 41,
     "metadata": {},
     "output_type": "execute_result"
    }
   ],
   "source": [
    "# 두번째 행(1행) 선택\n",
    "arr2[1]"
   ]
  },
  {
   "cell_type": "markdown",
   "id": "46478276",
   "metadata": {},
   "source": [
    "### 2차원배열명[:,열위치]\n",
    "* 2차원 배열에서 열전체"
   ]
  },
  {
   "cell_type": "code",
   "execution_count": 50,
   "id": "50abbcc3",
   "metadata": {},
   "outputs": [
    {
     "data": {
      "text/plain": [
       "array([ 2,  6, 10])"
      ]
     },
     "execution_count": 50,
     "metadata": {},
     "output_type": "execute_result"
    }
   ],
   "source": [
    "# 1열을 선택 :\n",
    "arr2[:,1]"
   ]
  },
  {
   "cell_type": "code",
   "execution_count": 57,
   "id": "c52912e3",
   "metadata": {},
   "outputs": [
    {
     "data": {
      "text/plain": [
       "array([[90,  2,  3,  4],\n",
       "       [-5,  1, 10,  9],\n",
       "       [ 9, 10, 11, 12]])"
      ]
     },
     "execution_count": 57,
     "metadata": {},
     "output_type": "execute_result"
    }
   ],
   "source": [
    "# 두번째 행 변경\n",
    "arr2[1] = np.array([-5,1,10,9])   # 행의 크기가 같아야함\n",
    "arr2"
   ]
  },
  {
   "cell_type": "markdown",
   "id": "c130e45f",
   "metadata": {},
   "source": [
    "### 배열명[[행위치1,....행위치n],[열위치1,...열위치n]]"
   ]
  },
  {
   "cell_type": "code",
   "execution_count": 53,
   "id": "71d86a1f",
   "metadata": {
    "scrolled": true
   },
   "outputs": [
    {
     "data": {
      "text/plain": [
       "array([90, 10])"
      ]
     },
     "execution_count": 53,
     "metadata": {},
     "output_type": "execute_result"
    }
   ],
   "source": [
    "arr2[[0,2],[0,1]]  # 대각선 인듯의 원소 가져옴"
   ]
  },
  {
   "cell_type": "markdown",
   "id": "c26a1b60",
   "metadata": {},
   "source": [
    "## 배열명[조건]"
   ]
  },
  {
   "cell_type": "code",
   "execution_count": 54,
   "id": "6a230f42",
   "metadata": {},
   "outputs": [
    {
     "data": {
      "text/plain": [
       "array([[ True, False, False, False],\n",
       "       [False, False, False, False],\n",
       "       [False, False,  True,  True]])"
      ]
     },
     "execution_count": 54,
     "metadata": {},
     "output_type": "execute_result"
    }
   ],
   "source": [
    "# 10이상만 선택\n",
    "arr2 > 10"
   ]
  },
  {
   "cell_type": "code",
   "execution_count": 55,
   "id": "ad47134a",
   "metadata": {},
   "outputs": [
    {
     "data": {
      "text/plain": [
       "array([90, 11, 12])"
      ]
     },
     "execution_count": 55,
     "metadata": {},
     "output_type": "execute_result"
    }
   ],
   "source": [
    "# 비교연산 결과를 인덱스로 지정\n",
    "arr2[arr2 > 10]"
   ]
  },
  {
   "cell_type": "code",
   "execution_count": 62,
   "id": "d3eaa0a8",
   "metadata": {},
   "outputs": [
    {
     "data": {
      "text/plain": [
       "array([90,  2,  4, 10, 10, 12])"
      ]
     },
     "execution_count": 62,
     "metadata": {},
     "output_type": "execute_result"
    }
   ],
   "source": [
    "# 짝수는 원소 선택\n",
    "arr2[arr2 % 2 ==0]"
   ]
  },
  {
   "cell_type": "markdown",
   "id": "4b1a46b4",
   "metadata": {},
   "source": [
    "# 1차원 배열의 슬라이스(Slicing)\n",
    "## 배열[시작위치:끝위치]\n",
    "### : 시작위치에서 끝위치-1 에 해당하는 배열의 원소를 반환"
   ]
  },
  {
   "cell_type": "code",
   "execution_count": 63,
   "id": "bd0dba5c",
   "metadata": {},
   "outputs": [
    {
     "data": {
      "text/plain": [
       "array([0, 1, 2, 3, 4, 5, 6, 7, 8, 9])"
      ]
     },
     "execution_count": 63,
     "metadata": {},
     "output_type": "execute_result"
    }
   ],
   "source": [
    "arr1"
   ]
  },
  {
   "cell_type": "code",
   "execution_count": 65,
   "id": "cb37b494",
   "metadata": {},
   "outputs": [
    {
     "data": {
      "text/plain": [
       "array([3, 4, 5, 6, 7, 8])"
      ]
     },
     "execution_count": 65,
     "metadata": {},
     "output_type": "execute_result"
    }
   ],
   "source": [
    "# 3번째 요소부터 8번째\n",
    "arr1[3:9]   # ':'콜론으로 범위지정  "
   ]
  },
  {
   "cell_type": "code",
   "execution_count": 69,
   "id": "97a90cfc",
   "metadata": {},
   "outputs": [
    {
     "data": {
      "text/plain": [
       "array([3, 5, 7])"
      ]
     },
     "execution_count": 69,
     "metadata": {},
     "output_type": "execute_result"
    }
   ],
   "source": [
    "# 배열명[start:end+1::step]  start에서 end 범위까지의 자료중 step간격으로 인덱싱 \n",
    "arr1[3:9:2]  # 3번째에서 9번째 에 2칸씩 "
   ]
  },
  {
   "cell_type": "code",
   "execution_count": 70,
   "id": "754b835c",
   "metadata": {},
   "outputs": [
    {
     "data": {
      "text/plain": [
       "array([0, 2, 4, 6, 8])"
      ]
     },
     "execution_count": 70,
     "metadata": {},
     "output_type": "execute_result"
    }
   ],
   "source": [
    "arr1[:9:2] # 처음부터 8까지 2씩 인덱싱"
   ]
  },
  {
   "cell_type": "code",
   "execution_count": 73,
   "id": "7fc35602",
   "metadata": {},
   "outputs": [
    {
     "data": {
      "text/plain": [
       "array([3, 5, 7, 9])"
      ]
     },
     "execution_count": 73,
     "metadata": {},
     "output_type": "execute_result"
    }
   ],
   "source": [
    "arr1[3::2]  # 3부터 끝까지 2칸씩"
   ]
  },
  {
   "cell_type": "code",
   "execution_count": 75,
   "id": "3ebad194",
   "metadata": {},
   "outputs": [
    {
     "data": {
      "text/plain": [
       "array([0, 3, 6, 9])"
      ]
     },
     "execution_count": 75,
     "metadata": {},
     "output_type": "execute_result"
    }
   ],
   "source": [
    "arr1[::3] # all 3씩 슬라"
   ]
  },
  {
   "cell_type": "code",
   "execution_count": 76,
   "id": "bb36faba",
   "metadata": {},
   "outputs": [
    {
     "data": {
      "text/plain": [
       "array([9, 8, 7, 6, 5, 4, 3, 2, 1, 0])"
      ]
     },
     "execution_count": 76,
     "metadata": {},
     "output_type": "execute_result"
    }
   ],
   "source": [
    "arr1[::-1]  # 거꾸로 출력"
   ]
  },
  {
   "cell_type": "code",
   "execution_count": 77,
   "id": "ffe18692",
   "metadata": {},
   "outputs": [
    {
     "data": {
      "text/plain": [
       "array([9, 7, 5, 3, 1])"
      ]
     },
     "execution_count": 77,
     "metadata": {},
     "output_type": "execute_result"
    }
   ],
   "source": [
    "arr1[::-2]  # 거꾸로 -2씩"
   ]
  },
  {
   "cell_type": "markdown",
   "id": "637eb632",
   "metadata": {},
   "source": [
    "## 배열[:끝]   처음부터 끝위치-1 까지 반환"
   ]
  },
  {
   "cell_type": "code",
   "execution_count": 78,
   "id": "b27f211b",
   "metadata": {},
   "outputs": [
    {
     "data": {
      "text/plain": [
       "array([0, 1, 2])"
      ]
     },
     "execution_count": 78,
     "metadata": {},
     "output_type": "execute_result"
    }
   ],
   "source": [
    "arr1[:3]"
   ]
  },
  {
   "cell_type": "markdown",
   "id": "add863f5",
   "metadata": {},
   "source": [
    "## 배열[시작위치:]"
   ]
  },
  {
   "cell_type": "code",
   "execution_count": 79,
   "id": "edac477a",
   "metadata": {},
   "outputs": [
    {
     "data": {
      "text/plain": [
       "array([5, 6, 7, 8, 9])"
      ]
     },
     "execution_count": 79,
     "metadata": {},
     "output_type": "execute_result"
    }
   ],
   "source": [
    "arr1[5:]"
   ]
  },
  {
   "cell_type": "code",
   "execution_count": 81,
   "id": "d22506f2",
   "metadata": {},
   "outputs": [
    {
     "data": {
      "text/plain": [
       "array([0, 1, 2, 3, 4, 5, 6, 7, 8, 9])"
      ]
     },
     "execution_count": 81,
     "metadata": {},
     "output_type": "execute_result"
    }
   ],
   "source": [
    "arr1[:]   # 모든 위치"
   ]
  },
  {
   "cell_type": "markdown",
   "id": "a00cf286",
   "metadata": {},
   "source": [
    "# 2차원 배열  인덱싱"
   ]
  },
  {
   "cell_type": "code",
   "execution_count": 82,
   "id": "90b64c42",
   "metadata": {},
   "outputs": [
    {
     "data": {
      "text/plain": [
       "array([[90,  2,  3,  4],\n",
       "       [-5,  1, 10,  9],\n",
       "       [ 9, 10, 11, 12]])"
      ]
     },
     "execution_count": 82,
     "metadata": {},
     "output_type": "execute_result"
    }
   ],
   "source": [
    "arr2"
   ]
  },
  {
   "cell_type": "code",
   "execution_count": 83,
   "id": "76f7aff4",
   "metadata": {},
   "outputs": [
    {
     "data": {
      "text/plain": [
       "array([ 9, 10, 11, 12])"
      ]
     },
     "execution_count": 83,
     "metadata": {},
     "output_type": "execute_result"
    }
   ],
   "source": [
    "# 2행 모든 요소 꺼내기\n",
    "arr2[2,:]"
   ]
  },
  {
   "cell_type": "code",
   "execution_count": 84,
   "id": "d92fc84e",
   "metadata": {},
   "outputs": [
    {
     "data": {
      "text/plain": [
       "array([ 9, 10, 11, 12])"
      ]
     },
     "execution_count": 84,
     "metadata": {},
     "output_type": "execute_result"
    }
   ],
   "source": [
    "arr2[2]"
   ]
  },
  {
   "cell_type": "code",
   "execution_count": 85,
   "id": "8ac9c8e1",
   "metadata": {},
   "outputs": [
    {
     "data": {
      "text/plain": [
       "array([ 4,  9, 12])"
      ]
     },
     "execution_count": 85,
     "metadata": {},
     "output_type": "execute_result"
    }
   ],
   "source": [
    "# 모든 열으 ㅣ3번째 요소 꺼내기\n",
    "arr2[:,2]"
   ]
  },
  {
   "cell_type": "code",
   "execution_count": 87,
   "id": "2eebf4ae",
   "metadata": {},
   "outputs": [
    {
     "data": {
      "text/plain": [
       "array([[ 1, 10],\n",
       "       [10, 11]])"
      ]
     },
     "execution_count": 87,
     "metadata": {},
     "output_type": "execute_result"
    }
   ],
   "source": [
    "# 1~2행 1~2열 요소 \n",
    "arr2[1:3,1:3]"
   ]
  },
  {
   "cell_type": "markdown",
   "id": "2b84cf4d",
   "metadata": {},
   "source": [
    "## 특정행 선택 후 열 슬라이싱 배열[행위치][열시작:열끝]"
   ]
  },
  {
   "cell_type": "code",
   "execution_count": 89,
   "id": "759e494b",
   "metadata": {},
   "outputs": [
    {
     "data": {
      "text/plain": [
       "array([[10, 20, 30],\n",
       "       [40, 50, 60],\n",
       "       [70, 80, 90]])"
      ]
     },
     "execution_count": 89,
     "metadata": {},
     "output_type": "execute_result"
    }
   ],
   "source": [
    "arr3 = np.arange(10,100,10).reshape(3,3)\n",
    "arr3"
   ]
  },
  {
   "cell_type": "code",
   "execution_count": 92,
   "id": "b71ad49c",
   "metadata": {},
   "outputs": [
    {
     "data": {
      "text/plain": [
       "array([40, 50])"
      ]
     },
     "execution_count": 92,
     "metadata": {},
     "output_type": "execute_result"
    }
   ],
   "source": [
    "# 1행의 0열과 1열 요소선택\n",
    "# arr3[1,:2]\n",
    "arr3[1][:2]"
   ]
  },
  {
   "cell_type": "code",
   "execution_count": 93,
   "id": "3c8929b3",
   "metadata": {},
   "outputs": [
    {
     "data": {
      "text/plain": [
       "80"
      ]
     },
     "execution_count": 93,
     "metadata": {},
     "output_type": "execute_result"
    }
   ],
   "source": [
    "# 참고 인덱싱의 예\n",
    "arr3[2][1]"
   ]
  },
  {
   "cell_type": "code",
   "execution_count": 100,
   "id": "0385228d",
   "metadata": {},
   "outputs": [
    {
     "data": {
      "text/plain": [
       "array([[10,  1,  3],\n",
       "       [40,  4,  1],\n",
       "       [70, 80, 90]])"
      ]
     },
     "execution_count": 100,
     "metadata": {},
     "output_type": "execute_result"
    }
   ],
   "source": [
    "# 0~1행 1~2열의 요소변경\n",
    "arr3[0:2,1:3] = np.array([[1,3],[4,1]])\n",
    "arr3"
   ]
  },
  {
   "cell_type": "markdown",
   "id": "36410055",
   "metadata": {},
   "source": [
    "# array boolean 인덱싱(mask)\n",
    "* 다차원의 인덱싱을 응용하여 boolean인덱싱\n",
    "* boolean인덱싱을 통해 만들어냉 array를 통해 원하는 행또는 열의 값만 뽑아냄\n",
    "* 가리고싶은 부분은 가리고,원하는 요소만 꺼냄"
   ]
  },
  {
   "cell_type": "code",
   "execution_count": 102,
   "id": "ac4ec85b",
   "metadata": {},
   "outputs": [
    {
     "data": {
      "text/plain": [
       "array(['Beomwoo', 'Beomwoo', 'Kim', 'Joan', 'Lee', 'Beomwoo', 'Park',\n",
       "       'Beomwoo'], dtype='<U7')"
      ]
     },
     "execution_count": 102,
     "metadata": {},
     "output_type": "execute_result"
    }
   ],
   "source": [
    "names = np.array(['Beomwoo','Beomwoo','Kim','Joan','Lee','Beomwoo',\n",
    "                  'Park','Beomwoo'])\n",
    "names"
   ]
  },
  {
   "cell_type": "code",
   "execution_count": 103,
   "id": "8c8b228a",
   "metadata": {},
   "outputs": [
    {
     "data": {
      "text/plain": [
       "(8,)"
      ]
     },
     "execution_count": 103,
     "metadata": {},
     "output_type": "execute_result"
    }
   ],
   "source": [
    "# names 크기확인\n",
    "names.shape"
   ]
  },
  {
   "cell_type": "code",
   "execution_count": 106,
   "id": "11ba2c51",
   "metadata": {},
   "outputs": [
    {
     "data": {
      "text/plain": [
       "array([[-1.08615578, -1.38942812,  1.86804066,  1.19335062],\n",
       "       [ 0.25198122, -0.01533798, -0.84859451, -0.573424  ],\n",
       "       [ 0.40160011, -2.55879215, -0.08957113, -1.61205825],\n",
       "       [ 0.66375651,  1.587772  ,  0.91801621,  0.20487275],\n",
       "       [-0.67748865,  0.36328161,  0.09043518, -0.8346159 ],\n",
       "       [-0.19348487,  1.74380184, -0.4036438 ,  0.69872378],\n",
       "       [-0.80000883, -0.09898927, -0.16829716, -1.40678057],\n",
       "       [ 0.80208752,  1.36957481, -2.04690295,  1.6700336 ]])"
      ]
     },
     "execution_count": 106,
     "metadata": {},
     "output_type": "execute_result"
    }
   ],
   "source": [
    "# 8행 4열의 실수 난수 배열 생성\n",
    "data = np.random.randn(8,4)   # randn 실수 난수 ?????????\n",
    "data"
   ]
  },
  {
   "cell_type": "code",
   "execution_count": 107,
   "id": "cb8b49c3",
   "metadata": {},
   "outputs": [
    {
     "data": {
      "text/plain": [
       "(8, 4)"
      ]
     },
     "execution_count": 107,
     "metadata": {},
     "output_type": "execute_result"
    }
   ],
   "source": [
    "data.shape"
   ]
  },
  {
   "cell_type": "code",
   "execution_count": 109,
   "id": "e012de00",
   "metadata": {},
   "outputs": [
    {
     "data": {
      "text/plain": [
       "array([ True,  True, False, False, False,  True, False,  True])"
      ]
     },
     "execution_count": 109,
     "metadata": {},
     "output_type": "execute_result"
    }
   ],
   "source": [
    "# 요소가 Beomwoo 인 항목에 대한 mask 생성\n",
    "names_mask = (names == 'Beomwoo')\n",
    "names_mask"
   ]
  },
  {
   "cell_type": "code",
   "execution_count": 114,
   "id": "0a160f26",
   "metadata": {},
   "outputs": [
    {
     "data": {
      "text/plain": [
       "array([[-1.08615578, -1.38942812,  1.86804066,  1.19335062],\n",
       "       [ 0.25198122, -0.01533798, -0.84859451, -0.573424  ],\n",
       "       [-0.19348487,  1.74380184, -0.4036438 ,  0.69872378],\n",
       "       [ 0.80208752,  1.36957481, -2.04690295,  1.6700336 ]])"
      ]
     },
     "execution_count": 114,
     "metadata": {},
     "output_type": "execute_result"
    }
   ],
   "source": [
    "# 요소가 Beomwoo 인 항목에 위치와 같은 행의 자료 가져오기\n",
    "# data[names_mask,:]   # True에 해당하는 것만 가져옴  아래와 결과는 같아\n",
    "data[names_mask] "
   ]
  },
  {
   "cell_type": "code",
   "execution_count": 116,
   "id": "1f9ce4bd",
   "metadata": {
    "scrolled": true
   },
   "outputs": [
    {
     "data": {
      "text/plain": [
       "array([[ 0.40160011, -2.55879215, -0.08957113, -1.61205825]])"
      ]
     },
     "execution_count": 116,
     "metadata": {},
     "output_type": "execute_result"
    }
   ],
   "source": [
    "# 요소가 kim인 행의 데이터만 꺼내기\n",
    "# names_mask_kim = (names == 'Kim')\n",
    "# data[names_mask_kim]\n",
    "# data[names=='Kim']\n",
    "data[names=='Kim',:]"
   ]
  },
  {
   "cell_type": "code",
   "execution_count": 120,
   "id": "c95fb65b",
   "metadata": {},
   "outputs": [
    {
     "data": {
      "text/plain": [
       "array([[ 0.40160011, -2.55879215, -0.08957113, -1.61205825],\n",
       "       [-0.80000883, -0.09898927, -0.16829716, -1.40678057]])"
      ]
     },
     "execution_count": 120,
     "metadata": {},
     "output_type": "execute_result"
    }
   ],
   "source": [
    "# 논리 연산을 응용하여 , 요소가 kim 또는 park인 행의 데이터만 꺼내기\n",
    "# names_mask_kp = (names == 'kim' or names == 'Park')\n",
    "# data[names_mask_kp]\n",
    "data[(names == 'Kim') | (names == 'Park'),:]"
   ]
  },
  {
   "cell_type": "markdown",
   "id": "7e0fa536",
   "metadata": {},
   "source": [
    "## 0번째 열이 0보다 작은행"
   ]
  },
  {
   "cell_type": "code",
   "execution_count": 122,
   "id": "282653c5",
   "metadata": {},
   "outputs": [
    {
     "data": {
      "text/plain": [
       "array([ True, False, False, False,  True,  True,  True, False])"
      ]
     },
     "execution_count": 122,
     "metadata": {},
     "output_type": "execute_result"
    }
   ],
   "source": [
    "data[:,0] < 0"
   ]
  },
  {
   "cell_type": "code",
   "execution_count": 123,
   "id": "c6072eb6",
   "metadata": {},
   "outputs": [
    {
     "data": {
      "text/plain": [
       "array([[-1.08615578, -1.38942812,  1.86804066,  1.19335062],\n",
       "       [-0.67748865,  0.36328161,  0.09043518, -0.8346159 ],\n",
       "       [-0.19348487,  1.74380184, -0.4036438 ,  0.69872378],\n",
       "       [-0.80000883, -0.09898927, -0.16829716, -1.40678057]])"
      ]
     },
     "execution_count": 123,
     "metadata": {},
     "output_type": "execute_result"
    }
   ],
   "source": [
    "# 생성도니 마스크로 0번째 열의 값이 0보다 작은 행을 구함\n",
    "data[data[:,0]<0]  # 행만쭉 가져옴"
   ]
  },
  {
   "cell_type": "markdown",
   "id": "3156f422",
   "metadata": {},
   "source": [
    "* 0번째 열이 0보다 작은 행의 2,3번째 열 데이터 가져오기"
   ]
  },
  {
   "cell_type": "code",
   "execution_count": 128,
   "id": "176adcfd",
   "metadata": {},
   "outputs": [
    {
     "data": {
      "text/plain": [
       "array([[ 1.86804066,  1.19335062],\n",
       "       [ 0.09043518, -0.8346159 ],\n",
       "       [-0.4036438 ,  0.69872378],\n",
       "       [-0.16829716, -1.40678057]])"
      ]
     },
     "execution_count": 128,
     "metadata": {},
     "output_type": "execute_result"
    }
   ],
   "source": [
    "data[data[:,0] < 0][:,2:4]\n",
    "data[data[:,0]<0,2:4]"
   ]
  },
  {
   "cell_type": "markdown",
   "id": "79e0a50b",
   "metadata": {},
   "source": [
    "# array에 적용되는 다양한 함수"
   ]
  },
  {
   "cell_type": "code",
   "execution_count": 131,
   "id": "9df881ed",
   "metadata": {},
   "outputs": [
    {
     "data": {
      "text/plain": [
       "array([[ 0.4030212 , -0.87450267,  0.92345977],\n",
       "       [-1.38161372, -0.84227701,  2.34481184],\n",
       "       [-1.2627782 ,  0.09745509, -0.93638859],\n",
       "       [ 0.33374251, -0.24076858,  1.10362517],\n",
       "       [ 0.41930848,  1.82302625, -1.54614854]])"
      ]
     },
     "execution_count": 131,
     "metadata": {},
     "output_type": "execute_result"
    }
   ],
   "source": [
    "# 5행 3열의 실수난수 배열 생성\n",
    "np.random.randn(5,3)"
   ]
  },
  {
   "cell_type": "markdown",
   "id": "3b1b7a6c",
   "metadata": {},
   "source": [
    "## 수학 관련 함수\n",
    "* 제곰급,절대값 ,삼각,지수로그,반올림함수 등등\n"
   ]
  },
  {
   "cell_type": "code",
   "execution_count": 132,
   "id": "fc9a4a33",
   "metadata": {},
   "outputs": [
    {
     "data": {
      "text/plain": [
       "array([[0.72210832, 1.82737755, 1.11438604],\n",
       "       [0.18720547, 1.86799541, 1.29646688],\n",
       "       [1.75223407, 1.20086173, 0.7472144 ],\n",
       "       [1.64888349, 0.01319665, 0.64972718],\n",
       "       [0.30660951, 0.16044283, 1.3227811 ]])"
      ]
     },
     "execution_count": 132,
     "metadata": {},
     "output_type": "execute_result"
    }
   ],
   "source": [
    "# 각성분의 절대값 계산\n",
    "data = np.random.randn(5,3)\n",
    "np.abs(data)"
   ]
  },
  {
   "cell_type": "markdown",
   "id": "28baff6f",
   "metadata": {},
   "source": [
    "* 수학 함수  https://numpy.org/doc/stable/reference/routines.math.html\n",
    "* 랜덤 함수 관련 https://numpy.org/doc/stable/reference/random/legacy.html\n",
    "* 통계를 위한 함수 https://numpy.org/doc/stable/reference/routines.statistics.html\n"
   ]
  },
  {
   "cell_type": "code",
   "execution_count": 133,
   "id": "e349a494",
   "metadata": {},
   "outputs": [
    {
     "name": "stderr",
     "output_type": "stream",
     "text": [
      "<ipython-input-133-67f3faf92c7c>:2: RuntimeWarning: invalid value encountered in sqrt\n",
      "  np.sqrt(data)\n"
     ]
    },
    {
     "data": {
      "text/plain": [
       "array([[0.84976957, 1.35180529, 1.05564485],\n",
       "       [       nan,        nan,        nan],\n",
       "       [       nan,        nan,        nan],\n",
       "       [       nan,        nan,        nan],\n",
       "       [       nan, 0.40055316,        nan]])"
      ]
     },
     "execution_count": 133,
     "metadata": {},
     "output_type": "execute_result"
    }
   ],
   "source": [
    "# 각 성분의 제곱근 (== data**0.5) 가능 잘안됨\n",
    "np.sqrt(data)"
   ]
  },
  {
   "cell_type": "markdown",
   "id": "43a1668d",
   "metadata": {},
   "source": [
    "* 지수함수"
   ]
  },
  {
   "cell_type": "code",
   "execution_count": 134,
   "id": "488234c5",
   "metadata": {},
   "outputs": [
    {
     "data": {
      "text/plain": [
       "array([[2.05876918, 6.21756001, 3.04769645],\n",
       "       [0.82927333, 0.15443293, 0.27349638],\n",
       "       [0.17338615, 0.30093478, 0.47368421],\n",
       "       [0.19226445, 0.98689004, 0.52218822],\n",
       "       [0.73593792, 1.17403066, 0.2663934 ]])"
      ]
     },
     "execution_count": 134,
     "metadata": {},
     "output_type": "execute_result"
    }
   ],
   "source": [
    "# 각 성분을 무리수e의 지수로 삼은 값을 계산하기  e^x\n",
    "np.exp(data)"
   ]
  },
  {
   "cell_type": "markdown",
   "id": "d74058e5",
   "metadata": {},
   "source": [
    "**로그함수**\n",
    "* 자연로그 log()\n",
    "* 상용로그  log10()\n",
    "* 밑이2인로그 log2()"
   ]
  },
  {
   "cell_type": "code",
   "execution_count": 135,
   "id": "a45de42a",
   "metadata": {},
   "outputs": [
    {
     "data": {
      "text/plain": [
       "array([[-0.32558012,  0.60288191,  0.10830362],\n",
       "       [-1.67554852,  0.62486588,  0.25964278],\n",
       "       [ 0.56089159,  0.1830394 , -0.29140312],\n",
       "       [ 0.50009839, -4.32779234, -0.43120272],\n",
       "       [-1.18218029, -1.82981757,  0.27973641]])"
      ]
     },
     "execution_count": 135,
     "metadata": {},
     "output_type": "execute_result"
    }
   ],
   "source": [
    "# 자연로그\n",
    "np.log(abs(data))"
   ]
  },
  {
   "cell_type": "code",
   "execution_count": 136,
   "id": "471c0ec6",
   "metadata": {},
   "outputs": [
    {
     "data": {
      "text/plain": [
       "array([[-0.14139765,  0.26182828,  0.04703566],\n",
       "       [-0.72768148,  0.2713758 ,  0.11276143],\n",
       "       [ 0.24359212,  0.079493  , -0.12655477],\n",
       "       [ 0.21718997, -1.87953633, -0.18726896],\n",
       "       [-0.51341438, -0.79467967,  0.12148798]])"
      ]
     },
     "execution_count": 136,
     "metadata": {},
     "output_type": "execute_result"
    }
   ],
   "source": [
    "# 상용로그\n",
    "np.log10(abs(data))"
   ]
  },
  {
   "cell_type": "code",
   "execution_count": 137,
   "id": "433ec6cb",
   "metadata": {},
   "outputs": [
    {
     "data": {
      "text/plain": [
       "array([[-0.46971283,  0.86977473,  0.1562491 ],\n",
       "       [-2.41730554,  0.90149091,  0.37458535],\n",
       "       [ 0.80919551,  0.26407004, -0.42040584],\n",
       "       [ 0.72148946, -6.24368454, -0.62209403],\n",
       "       [-1.70552564, -2.63986873,  0.40357434]])"
      ]
     },
     "execution_count": 137,
     "metadata": {},
     "output_type": "execute_result"
    }
   ],
   "source": [
    "# 밑이2인 로그\n",
    "np.log2(abs(data))"
   ]
  },
  {
   "cell_type": "markdown",
   "id": "4a1bde9d",
   "metadata": {},
   "source": [
    "## 반올림함수"
   ]
  },
  {
   "cell_type": "code",
   "execution_count": 138,
   "id": "bacb1d8b",
   "metadata": {},
   "outputs": [
    {
     "data": {
      "text/plain": [
       "array([[ 0.72210832,  1.82737755,  1.11438604],\n",
       "       [-0.18720547, -1.86799541, -1.29646688],\n",
       "       [-1.75223407, -1.20086173, -0.7472144 ],\n",
       "       [-1.64888349, -0.01319665, -0.64972718],\n",
       "       [-0.30660951,  0.16044283, -1.3227811 ]])"
      ]
     },
     "execution_count": 138,
     "metadata": {},
     "output_type": "execute_result"
    }
   ],
   "source": [
    "data"
   ]
  },
  {
   "cell_type": "code",
   "execution_count": 139,
   "id": "a5da7210",
   "metadata": {},
   "outputs": [
    {
     "data": {
      "text/plain": [
       "array([[ 0.,  1.,  1.],\n",
       "       [-1., -2., -2.],\n",
       "       [-2., -2., -1.],\n",
       "       [-2., -1., -1.],\n",
       "       [-1.,  0., -2.]])"
      ]
     },
     "execution_count": 139,
     "metadata": {},
     "output_type": "execute_result"
    }
   ],
   "source": [
    "# 각 성분의 소수 첫 자리 내림\n",
    "np.floor(data)"
   ]
  },
  {
   "cell_type": "markdown",
   "id": "acee11ab",
   "metadata": {},
   "source": [
    "## NaN 여부확인"
   ]
  },
  {
   "cell_type": "code",
   "execution_count": 140,
   "id": "54b828e9",
   "metadata": {},
   "outputs": [
    {
     "data": {
      "text/plain": [
       "array([[False, False, False],\n",
       "       [False, False, False],\n",
       "       [False, False, False],\n",
       "       [False, False, False],\n",
       "       [False, False, False]])"
      ]
     },
     "execution_count": 140,
     "metadata": {},
     "output_type": "execute_result"
    }
   ],
   "source": [
    "# 각 성분이 nan인 경우 True를 아닌경우 False를 반환하기\n",
    "np.isnan(data)"
   ]
  },
  {
   "cell_type": "code",
   "execution_count": 143,
   "id": "cffab741",
   "metadata": {},
   "outputs": [
    {
     "name": "stderr",
     "output_type": "stream",
     "text": [
      "<ipython-input-143-2fd9a5d30609>:2: RuntimeWarning: invalid value encountered in log\n",
      "  np.isnan(np.log(data))\n"
     ]
    },
    {
     "data": {
      "text/plain": [
       "array([[False, False, False],\n",
       "       [ True,  True,  True],\n",
       "       [ True,  True,  True],\n",
       "       [ True,  True,  True],\n",
       "       [ True, False,  True]])"
      ]
     },
     "execution_count": 143,
     "metadata": {},
     "output_type": "execute_result"
    }
   ],
   "source": [
    "# 로그변환한 배열중 nan 확인\n",
    "np.isnan(np.log(data))"
   ]
  },
  {
   "cell_type": "markdown",
   "id": "fc2164d9",
   "metadata": {},
   "source": [
    "## 무한대 (inf) 확인"
   ]
  },
  {
   "cell_type": "code",
   "execution_count": null,
   "id": "5f43c4d7",
   "metadata": {},
   "outputs": [],
   "source": [
    "# 각 성분이 무한대인 경우\n"
   ]
  },
  {
   "cell_type": "code",
   "execution_count": null,
   "id": "f4c1e87a",
   "metadata": {},
   "outputs": [],
   "source": []
  },
  {
   "cell_type": "markdown",
   "id": "4c815fc3",
   "metadata": {},
   "source": [
    "## 삼각함수"
   ]
  },
  {
   "cell_type": "code",
   "execution_count": 145,
   "id": "ea69b19f",
   "metadata": {},
   "outputs": [
    {
     "data": {
      "text/plain": [
       "array([[ 0.75041386, -0.25377518,  0.44072868],\n",
       "       [ 0.98252817, -0.29284323,  0.27090152],\n",
       "       [-0.18044391,  0.36155446,  0.7335848 ],\n",
       "       [-0.07800783,  0.99991293,  0.79624887],\n",
       "       [ 0.95336239,  0.98715663,  0.2454804 ]])"
      ]
     },
     "execution_count": 145,
     "metadata": {},
     "output_type": "execute_result"
    }
   ],
   "source": [
    "#cos\n",
    "np.cos(data)"
   ]
  },
  {
   "cell_type": "code",
   "execution_count": 146,
   "id": "a5657aa0",
   "metadata": {},
   "outputs": [
    {
     "data": {
      "text/plain": [
       "array([[ 0.66096825,  0.96726323,  0.89764037],\n",
       "       [-0.18611392, -0.95616047, -0.96260707],\n",
       "       [-0.98358528, -0.93235099, -0.67959792],\n",
       "       [-0.99695275, -0.01319627, -0.6049692 ],\n",
       "       [-0.30182801,  0.15975537, -0.96940155]])"
      ]
     },
     "execution_count": 146,
     "metadata": {},
     "output_type": "execute_result"
    }
   ],
   "source": [
    "np.sin(data)"
   ]
  },
  {
   "cell_type": "code",
   "execution_count": 147,
   "id": "dbc0da0b",
   "metadata": {},
   "outputs": [
    {
     "data": {
      "text/plain": [
       "array([[ 0.88080496, -3.81149654,  2.03671876],\n",
       "       [-0.18942349,  3.2650933 , -3.55334686],\n",
       "       [ 5.45091992, -2.57872907, -0.92640676],\n",
       "       [12.78016265, -0.01319742, -0.75977401],\n",
       "       [-0.31659316,  0.16183386, -3.94899775]])"
      ]
     },
     "execution_count": 147,
     "metadata": {},
     "output_type": "execute_result"
    }
   ],
   "source": [
    "np.tan(data)"
   ]
  },
  {
   "cell_type": "markdown",
   "id": "25d09b91",
   "metadata": {},
   "source": [
    "## sum,productsmdifferences"
   ]
  },
  {
   "cell_type": "code",
   "execution_count": 148,
   "id": "0227d1c3",
   "metadata": {},
   "outputs": [
    {
     "data": {
      "text/plain": [
       "array([[ 0.72210832,  1.82737755,  1.11438604],\n",
       "       [-0.18720547, -1.86799541, -1.29646688],\n",
       "       [-1.75223407, -1.20086173, -0.7472144 ],\n",
       "       [-1.64888349, -0.01319665, -0.64972718],\n",
       "       [-0.30660951,  0.16044283, -1.3227811 ]])"
      ]
     },
     "execution_count": 148,
     "metadata": {},
     "output_type": "execute_result"
    }
   ],
   "source": [
    "data"
   ]
  },
  {
   "cell_type": "code",
   "execution_count": 150,
   "id": "e4b6bf04",
   "metadata": {},
   "outputs": [
    {
     "data": {
      "text/plain": [
       "-7.168861131561547"
      ]
     },
     "execution_count": 150,
     "metadata": {},
     "output_type": "execute_result"
    }
   ],
   "source": [
    "# 전체 성분 계산\n",
    "np.sum(data)"
   ]
  },
  {
   "cell_type": "code",
   "execution_count": 151,
   "id": "121314b5",
   "metadata": {},
   "outputs": [
    {
     "data": {
      "text/plain": [
       "array([ 3.66387191, -3.35166775, -3.7003102 , -2.31180732, -1.46894778])"
      ]
     },
     "execution_count": 151,
     "metadata": {},
     "output_type": "execute_result"
    }
   ],
   "source": [
    "# 열간의 합을 계산\n",
    "# 같은 열 이나 합의 요소들을 합한 결과\n",
    "# axis 는 같은열 axis = 0 열의 합 axis = 1 행의 합\n",
    "np.sum(data,axis=1)"
   ]
  },
  {
   "cell_type": "code",
   "execution_count": 152,
   "id": "cb8da743",
   "metadata": {},
   "outputs": [
    {
     "data": {
      "text/plain": [
       "array([-3.17282422, -1.0942334 , -2.90180351])"
      ]
     },
     "execution_count": 152,
     "metadata": {},
     "output_type": "execute_result"
    }
   ],
   "source": [
    "np.sum(data,axis=0)"
   ]
  },
  {
   "cell_type": "code",
   "execution_count": 154,
   "id": "0b5928cf",
   "metadata": {},
   "outputs": [
    {
     "data": {
      "text/plain": [
       "-0.4779240754374365"
      ]
     },
     "execution_count": 154,
     "metadata": {},
     "output_type": "execute_result"
    }
   ],
   "source": [
    "# 전체 성분의 평균\n",
    "np.mean(data)"
   ]
  },
  {
   "cell_type": "code",
   "execution_count": 156,
   "id": "cf815cc5",
   "metadata": {},
   "outputs": [
    {
     "data": {
      "text/plain": [
       "array([-0.63456484, -0.21884668, -0.5803607 ])"
      ]
     },
     "execution_count": 156,
     "metadata": {},
     "output_type": "execute_result"
    }
   ],
   "source": [
    "# 행별 평균 계산\n",
    "np.mean(data,axis=1)\n",
    "# 열별 평균\n",
    "np.mean(data,axis=0)"
   ]
  },
  {
   "cell_type": "code",
   "execution_count": 157,
   "id": "1c0ed5ba",
   "metadata": {},
   "outputs": [
    {
     "data": {
      "text/plain": [
       "array([0.45751245, 0.69778702, 0.41094362, 0.67321417, 0.61920162])"
      ]
     },
     "execution_count": 157,
     "metadata": {},
     "output_type": "execute_result"
    }
   ],
   "source": [
    "# 전체 성분의 표준편차 계산\n",
    "np.std(data)\n",
    "# 전체의 열\n",
    "np.std(data,axis=0)\n",
    "# 전체의 행 표준편차\n",
    "np.std(data,axis=1)"
   ]
  },
  {
   "cell_type": "code",
   "execution_count": 158,
   "id": "3336b031",
   "metadata": {},
   "outputs": [
    {
     "data": {
      "text/plain": [
       "array([-1.75223407, -1.86799541, -1.3227811 ])"
      ]
     },
     "execution_count": 158,
     "metadata": {},
     "output_type": "execute_result"
    }
   ],
   "source": [
    "# 열방향에서 최소값 \n",
    "np.min(data,axis =0)"
   ]
  },
  {
   "cell_type": "markdown",
   "id": "65f741f8",
   "metadata": {},
   "source": [
    "**최대값 최소값 위치 인덱스 argmax(),argmin()***"
   ]
  },
  {
   "cell_type": "code",
   "execution_count": 159,
   "id": "3d0141e3",
   "metadata": {},
   "outputs": [
    {
     "data": {
      "text/plain": [
       "array([[ 0.72210832,  1.82737755,  1.11438604],\n",
       "       [-0.18720547, -1.86799541, -1.29646688],\n",
       "       [-1.75223407, -1.20086173, -0.7472144 ],\n",
       "       [-1.64888349, -0.01319665, -0.64972718],\n",
       "       [-0.30660951,  0.16044283, -1.3227811 ]])"
      ]
     },
     "execution_count": 159,
     "metadata": {},
     "output_type": "execute_result"
    }
   ],
   "source": [
    "data"
   ]
  },
  {
   "cell_type": "code",
   "execution_count": 167,
   "id": "20879540",
   "metadata": {},
   "outputs": [
    {
     "data": {
      "text/plain": [
       "[1, 4]"
      ]
     },
     "execution_count": 167,
     "metadata": {},
     "output_type": "execute_result"
    }
   ],
   "source": [
    "# 전체 성분의 최소값 , 최대값이 위치한 인덱스를 반환\n",
    "[np.argmax(data),np.argmin(data)]  # 전체 에서 가장 큰데이터의 위치\n",
    "# [np.max(data),np.argmin(data)]"
   ]
  },
  {
   "cell_type": "code",
   "execution_count": 168,
   "id": "6f59ed67",
   "metadata": {},
   "outputs": [
    {
     "data": {
      "text/plain": [
       "array([1, 0, 2, 1, 1], dtype=int64)"
      ]
     },
     "execution_count": 168,
     "metadata": {},
     "output_type": "execute_result"
    }
   ],
   "source": [
    "# 행방향으로 최대값이 위치한 인덱스 반환\n",
    "np.argmax(data,axis=1)"
   ]
  },
  {
   "cell_type": "markdown",
   "id": "a402ce9c",
   "metadata": {},
   "source": [
    "### 누적합 cumsum 누적곱 cumprod"
   ]
  },
  {
   "cell_type": "code",
   "execution_count": 169,
   "id": "21b6c741",
   "metadata": {},
   "outputs": [
    {
     "data": {
      "text/plain": [
       "array([ 0.72210832,  2.54948587,  3.66387191,  3.47666645,  1.60867104,\n",
       "        0.31220416, -1.44002991, -2.64089164, -3.38810603, -5.03698952,\n",
       "       -5.05018617, -5.69991335, -6.00652287, -5.84608003, -7.16886113])"
      ]
     },
     "execution_count": 169,
     "metadata": {},
     "output_type": "execute_result"
    }
   ],
   "source": [
    "# 맨처음 성분부터 각 성분까지의 누적ㅎ삽 또ㅓ는 누적곱 계산\n",
    "np.cumsum(data)"
   ]
  },
  {
   "cell_type": "code",
   "execution_count": 170,
   "id": "c6dbae38",
   "metadata": {},
   "outputs": [
    {
     "data": {
      "text/plain": [
       "array([[ 0.72210832,  1.82737755,  1.11438604],\n",
       "       [ 0.53490286, -0.04061786, -0.18208083],\n",
       "       [-1.21733122, -1.24147959, -0.92929523],\n",
       "       [-2.86621471, -1.25467623, -1.57902241],\n",
       "       [-3.17282422, -1.0942334 , -2.90180351]])"
      ]
     },
     "execution_count": 170,
     "metadata": {},
     "output_type": "execute_result"
    }
   ],
   "source": [
    "# 열기분 누적합\n",
    "np.cumsum(data,axis=0)"
   ]
  },
  {
   "cell_type": "code",
   "execution_count": 171,
   "id": "d0ee6dd4",
   "metadata": {},
   "outputs": [
    {
     "data": {
      "text/plain": [
       "array([ 7.22108321e-01,  1.31956453e+00,  1.47050430e+00, -2.75286442e-01,\n",
       "        5.14233809e-01, -6.66687101e-01,  1.16819185e+00, -1.40283689e+00,\n",
       "        1.04821992e+00, -1.72839252e+00,  2.28089896e-02, -1.48196205e-02,\n",
       "        4.54383661e-03,  7.29026028e-04, -9.64341851e-04])"
      ]
     },
     "execution_count": 171,
     "metadata": {},
     "output_type": "execute_result"
    }
   ],
   "source": [
    "# 누적곱\n",
    "np.cumprod(data)"
   ]
  },
  {
   "cell_type": "code",
   "execution_count": 172,
   "id": "1c9140c0",
   "metadata": {},
   "outputs": [
    {
     "data": {
      "text/plain": [
       "array([[ 0.72210832,  1.31956453,  1.4705043 ],\n",
       "       [-0.18720547,  0.34969895, -0.45337311],\n",
       "       [-1.75223407,  2.10419083, -1.57228168],\n",
       "       [-1.64888349,  0.02175974, -0.01413789],\n",
       "       [-0.30660951, -0.0491933 ,  0.06507197]])"
      ]
     },
     "execution_count": 172,
     "metadata": {},
     "output_type": "execute_result"
    }
   ],
   "source": [
    "np.cumprod(data,axis=1)"
   ]
  },
  {
   "cell_type": "code",
   "execution_count": 173,
   "id": "d215f6b9",
   "metadata": {},
   "outputs": [
    {
     "data": {
      "text/plain": [
       "array([[ 0.72210832,  1.11438604,  1.82737755],\n",
       "       [-1.86799541, -1.29646688, -0.18720547],\n",
       "       [-1.75223407, -1.20086173, -0.7472144 ],\n",
       "       [-1.64888349, -0.64972718, -0.01319665],\n",
       "       [-1.3227811 , -0.30660951,  0.16044283]])"
      ]
     },
     "execution_count": 173,
     "metadata": {},
     "output_type": "execute_result"
    }
   ],
   "source": [
    "# 전체 성분에 대해서 오름차순으로 정렬\n",
    "np.sort(data)"
   ]
  },
  {
   "cell_type": "markdown",
   "id": "bda2e6ac",
   "metadata": {},
   "source": [
    "sord(data,axis,order = None)\n",
    "\n",
    "에서 order를 이용해서 내림차순 가능"
   ]
  },
  {
   "cell_type": "code",
   "execution_count": 174,
   "id": "333e936a",
   "metadata": {},
   "outputs": [
    {
     "data": {
      "text/plain": [
       "array([[-1.3227811 , -0.30660951,  0.16044283],\n",
       "       [-1.64888349, -0.64972718, -0.01319665],\n",
       "       [-1.75223407, -1.20086173, -0.7472144 ],\n",
       "       [-1.86799541, -1.29646688, -0.18720547],\n",
       "       [ 0.72210832,  1.11438604,  1.82737755]])"
      ]
     },
     "execution_count": 174,
     "metadata": {},
     "output_type": "execute_result"
    }
   ],
   "source": [
    "# 전체 성분에 대해서 내림차순으로 정렬 [::-1] 를적용 : 마지막 행부터 정렬\n",
    "np.sort(data)[::-1]   "
   ]
  },
  {
   "cell_type": "code",
   "execution_count": 176,
   "id": "e76a0dee",
   "metadata": {
    "scrolled": false
   },
   "outputs": [
    {
     "data": {
      "text/plain": [
       "array([[-1.75223407, -1.86799541, -1.3227811 ],\n",
       "       [-1.64888349, -1.20086173, -1.29646688],\n",
       "       [-0.30660951, -0.01319665, -0.7472144 ],\n",
       "       [-0.18720547,  0.16044283, -0.64972718],\n",
       "       [ 0.72210832,  1.82737755,  1.11438604]])"
      ]
     },
     "execution_count": 176,
     "metadata": {},
     "output_type": "execute_result"
    }
   ],
   "source": [
    "# 열방향으로 오름차순 정렬\n",
    "np.sort(data,axis = 0)"
   ]
  },
  {
   "cell_type": "markdown",
   "id": "f4bd199e",
   "metadata": {},
   "source": [
    "## 2개의 array에 적용되는함수\n"
   ]
  },
  {
   "cell_type": "code",
   "execution_count": 180,
   "id": "d8c5e290",
   "metadata": {},
   "outputs": [],
   "source": [
    "data1 =  np.random.randn(5,3)\n",
    "data2 = np.random.rand(5,3)"
   ]
  },
  {
   "cell_type": "markdown",
   "id": "ef1d3b1b",
   "metadata": {},
   "source": [
    "***두개의 array에 대해 동일한 위치성분끼리 연산***"
   ]
  },
  {
   "cell_type": "code",
   "execution_count": 181,
   "id": "88d24283",
   "metadata": {},
   "outputs": [
    {
     "data": {
      "text/plain": [
       "array([[ 1.44321694,  0.44588261,  0.78447551],\n",
       "       [ 2.77778452, -0.68120822,  1.08999819],\n",
       "       [ 0.32485193,  0.61785969,  0.76193341],\n",
       "       [ 0.65575066, -0.53959853,  0.10831973],\n",
       "       [-0.28621727,  0.06702751,  1.61880744]])"
      ]
     },
     "execution_count": 181,
     "metadata": {},
     "output_type": "execute_result"
    }
   ],
   "source": [
    "# 두 배열의 함\n",
    "np.add(data1,data2)"
   ]
  },
  {
   "cell_type": "code",
   "execution_count": 183,
   "id": "513b858f",
   "metadata": {},
   "outputs": [
    {
     "data": {
      "text/plain": [
       "array([[ 1.22878695, -0.52555953, -0.53997839],\n",
       "       [ 2.16242166, -2.619578  , -0.00912669],\n",
       "       [-0.5096754 ,  0.18803567, -0.35070146],\n",
       "       [ 0.58492048, -1.14195271, -1.19070957],\n",
       "       [-0.64510077, -1.06993765,  0.47813651]])"
      ]
     },
     "execution_count": 183,
     "metadata": {},
     "output_type": "execute_result"
    }
   ],
   "source": [
    "# 두배열의 차\n",
    "np.subtract(data1,data2)"
   ]
  },
  {
   "cell_type": "code",
   "execution_count": 184,
   "id": "141f4953",
   "metadata": {},
   "outputs": [
    {
     "data": {
      "text/plain": [
       "array([[ 0.14323944, -0.01935038,  0.08095629],\n",
       "       [ 0.76000486, -1.59953606,  0.29700319],\n",
       "       [-0.03856006,  0.0865983 ,  0.11438775],\n",
       "       [ 0.02196924, -0.25322236, -0.35151403],\n",
       "       [-0.08355867, -0.28506847,  0.59798075]])"
      ]
     },
     "execution_count": 184,
     "metadata": {},
     "output_type": "execute_result"
    }
   ],
   "source": [
    "# 두배열의 곱\n",
    "np.multiply(data1,data2)"
   ]
  },
  {
   "cell_type": "code",
   "execution_count": 185,
   "id": "fbe3810a",
   "metadata": {},
   "outputs": [
    {
     "data": {
      "text/plain": [
       "array([[12.46096185, -0.08201922,  0.18460221],\n",
       "       [ 8.02811876, -1.70286715,  0.9833928 ],\n",
       "       [-0.22147084,  1.87494257,  0.36960189],\n",
       "       [17.51613647, -2.79163205, -0.83322974],\n",
       "       [-2.59504275, -0.882094  ,  1.83834259]])"
      ]
     },
     "execution_count": 185,
     "metadata": {},
     "output_type": "execute_result"
    }
   ],
   "source": [
    "# 두배열의 나누기\n",
    "np.divide(data1,data2)"
   ]
  },
  {
   "cell_type": "markdown",
   "id": "8345d8b1",
   "metadata": {},
   "source": [
    "* 최대값 또는 최소값"
   ]
  },
  {
   "cell_type": "code",
   "execution_count": 186,
   "id": "f0f96d2e",
   "metadata": {},
   "outputs": [
    {
     "data": {
      "text/plain": [
       "array([[1.33600194, 0.48572107, 0.66222695],\n",
       "       [2.47010309, 0.96918489, 0.54956244],\n",
       "       [0.41726366, 0.40294768, 0.55631743],\n",
       "       [0.62033557, 0.30117709, 0.64951465],\n",
       "       [0.17944175, 0.56848258, 1.04847197]])"
      ]
     },
     "execution_count": 186,
     "metadata": {},
     "output_type": "execute_result"
    }
   ],
   "source": [
    "# 두개의 array에 대해 동일한 위치의 성분끼리 비교\n",
    "# 최대 혹은 최소값\n",
    "np.maximum(data1,data2)"
   ]
  },
  {
   "cell_type": "code",
   "execution_count": 187,
   "id": "4551a317",
   "metadata": {},
   "outputs": [
    {
     "data": {
      "text/plain": [
       "array([[ 0.10721499, -0.03983846,  0.12224856],\n",
       "       [ 0.30768143, -1.65039311,  0.54043575],\n",
       "       [-0.09241174,  0.21491201,  0.20561598],\n",
       "       [ 0.03541509, -0.84077562, -0.54119492],\n",
       "       [-0.46565902, -0.50145507,  0.57033546]])"
      ]
     },
     "execution_count": 187,
     "metadata": {},
     "output_type": "execute_result"
    }
   ],
   "source": [
    "np.minimum(data1,data2)"
   ]
  },
  {
   "cell_type": "markdown",
   "id": "f2b2ac33",
   "metadata": {},
   "source": [
    "***numpy는 수치계산을 위해 사용한다***"
   ]
  }
 ],
 "metadata": {
  "kernelspec": {
   "display_name": "Python 3",
   "language": "python",
   "name": "python3"
  },
  "language_info": {
   "codemirror_mode": {
    "name": "ipython",
    "version": 3
   },
   "file_extension": ".py",
   "mimetype": "text/x-python",
   "name": "python",
   "nbconvert_exporter": "python",
   "pygments_lexer": "ipython3",
   "version": "3.8.8"
  },
  "toc": {
   "base_numbering": 1,
   "nav_menu": {},
   "number_sections": true,
   "sideBar": true,
   "skip_h1_title": false,
   "title_cell": "Table of Contents",
   "title_sidebar": "Contents",
   "toc_cell": false,
   "toc_position": {
    "height": "calc(100% - 180px)",
    "left": "10px",
    "top": "150px",
    "width": "365.714px"
   },
   "toc_section_display": true,
   "toc_window_display": false
  }
 },
 "nbformat": 4,
 "nbformat_minor": 5
}
