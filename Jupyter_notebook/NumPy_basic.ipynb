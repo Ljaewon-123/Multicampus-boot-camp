{
 "cells": [
  {
   "cell_type": "markdown",
   "id": "d4868726",
   "metadata": {},
   "source": [
    "numpy 임포트 -> 주피터는 기본으로 넘파이를 가지고있어 다운이 불필요\n",
    "numpy.org -> 공식 홈페이지"
   ]
  },
  {
   "cell_type": "code",
   "execution_count": 1,
   "id": "b8f0d4b6",
   "metadata": {},
   "outputs": [],
   "source": [
    "import numpy as np"
   ]
  },
  {
   "cell_type": "code",
   "execution_count": 3,
   "id": "c4a7c98b",
   "metadata": {},
   "outputs": [
    {
     "data": {
      "text/plain": [
       "'1.20.1'"
      ]
     },
     "execution_count": 3,
     "metadata": {},
     "output_type": "execute_result"
    }
   ],
   "source": [
    "np.__version__"
   ]
  },
  {
   "cell_type": "markdown",
   "id": "68696350",
   "metadata": {},
   "source": [
    "# Array 정의 및 사용\n",
    "* 리스트 튜플 시퀸스 데이터 가져옴 -> 그냥 배열\n",
    "* 형식 : arr_obj = np.array(seq_data)"
   ]
  },
  {
   "cell_type": "code",
   "execution_count": 5,
   "id": "762aa4cf",
   "metadata": {},
   "outputs": [
    {
     "data": {
      "text/plain": [
       "[1, 2, 3]"
      ]
     },
     "execution_count": 5,
     "metadata": {},
     "output_type": "execute_result"
    }
   ],
   "source": [
    "data1 = [1,2,3]\n",
    "data1"
   ]
  },
  {
   "cell_type": "code",
   "execution_count": 6,
   "id": "05e46be9",
   "metadata": {
    "scrolled": true
   },
   "outputs": [
    {
     "data": {
      "text/plain": [
       "[1, 2, 3, 3.5, 5]"
      ]
     },
     "execution_count": 6,
     "metadata": {},
     "output_type": "execute_result"
    }
   ],
   "source": [
    "data2 = [1,2,3,3.5,5]\n",
    "data2"
   ]
  },
  {
   "cell_type": "code",
   "execution_count": 15,
   "id": "7b10fba2",
   "metadata": {},
   "outputs": [
    {
     "data": {
      "text/plain": [
       "array([1, 2, 3])"
      ]
     },
     "execution_count": 15,
     "metadata": {},
     "output_type": "execute_result"
    }
   ],
   "source": [
    "# 리스트 객체를 이용하여 array 생성\n",
    "arr1 = np.array(data1)\n",
    "arr1"
   ]
  },
  {
   "cell_type": "code",
   "execution_count": 9,
   "id": "168e23ff",
   "metadata": {},
   "outputs": [
    {
     "data": {
      "text/plain": [
       "(3,)"
      ]
     },
     "execution_count": 9,
     "metadata": {},
     "output_type": "execute_result"
    }
   ],
   "source": [
    "# array 크기확인\n",
    "arr1.shape"
   ]
  },
  {
   "cell_type": "code",
   "execution_count": 14,
   "id": "941cdd8d",
   "metadata": {},
   "outputs": [
    {
     "data": {
      "text/plain": [
       "array([1, 2, 3, 4, 5])"
      ]
     },
     "execution_count": 14,
     "metadata": {},
     "output_type": "execute_result"
    }
   ],
   "source": [
    "# 리스트 직접 입력하여 array 생성\n",
    "arr2 = np.array([1,2,3,4,5])\n",
    "arr2\n",
    "# arr2.shape"
   ]
  },
  {
   "cell_type": "code",
   "execution_count": 16,
   "id": "d5797841",
   "metadata": {
    "scrolled": true
   },
   "outputs": [
    {
     "data": {
      "text/plain": [
       "dtype('int32')"
      ]
     },
     "execution_count": 16,
     "metadata": {},
     "output_type": "execute_result"
    }
   ],
   "source": [
    "# array 자료형 확인 \n",
    "arr2.dtype"
   ]
  },
  {
   "cell_type": "code",
   "execution_count": 17,
   "id": "6be3ede9",
   "metadata": {},
   "outputs": [
    {
     "data": {
      "text/plain": [
       "array([1. , 2. , 3. , 4.4, 5. ])"
      ]
     },
     "execution_count": 17,
     "metadata": {},
     "output_type": "execute_result"
    }
   ],
   "source": [
    "arr3 = np.array([1,2,3,4.4,5])   #  -> array 변환시 전부 실수로 변경됨 np를 사용해서 이렇게됨\n",
    "arr3"
   ]
  },
  {
   "cell_type": "code",
   "execution_count": 18,
   "id": "d8bb3ccd",
   "metadata": {},
   "outputs": [
    {
     "data": {
      "text/plain": [
       "dtype('float64')"
      ]
     },
     "execution_count": 18,
     "metadata": {},
     "output_type": "execute_result"
    }
   ],
   "source": [
    "arr3.dtype"
   ]
  },
  {
   "cell_type": "code",
   "execution_count": 22,
   "id": "de1842ef",
   "metadata": {},
   "outputs": [
    {
     "data": {
      "text/plain": [
       "(5,)"
      ]
     },
     "execution_count": 22,
     "metadata": {},
     "output_type": "execute_result"
    }
   ],
   "source": [
    "arr3.shape"
   ]
  },
  {
   "cell_type": "code",
   "execution_count": 19,
   "id": "14091469",
   "metadata": {},
   "outputs": [
    {
     "data": {
      "text/plain": [
       "array([[1, 2, 3],\n",
       "       [4, 5, 6],\n",
       "       [7, 8, 9]])"
      ]
     },
     "execution_count": 19,
     "metadata": {},
     "output_type": "execute_result"
    }
   ],
   "source": [
    "arr4 = np.array([[1,2,3,],[4,5,6],[7,8,9]])\n",
    "arr4"
   ]
  },
  {
   "cell_type": "code",
   "execution_count": 20,
   "id": "8b8e97f2",
   "metadata": {},
   "outputs": [
    {
     "data": {
      "text/plain": [
       "(3, 3)"
      ]
     },
     "execution_count": 20,
     "metadata": {},
     "output_type": "execute_result"
    }
   ],
   "source": [
    "arr4.shape"
   ]
  },
  {
   "cell_type": "code",
   "execution_count": 21,
   "id": "3e39bf58",
   "metadata": {},
   "outputs": [
    {
     "data": {
      "text/plain": [
       "dtype('int32')"
      ]
     },
     "execution_count": 21,
     "metadata": {},
     "output_type": "execute_result"
    }
   ],
   "source": [
    "arr4.dtype"
   ]
  },
  {
   "cell_type": "markdown",
   "id": "58a6da9e",
   "metadata": {},
   "source": [
    "# 범위를 지정해 배열 생성(1) : np.arange() 함수\n",
    "## 형식 : arr_obj =  np.arange([start,]stop[,step])"
   ]
  },
  {
   "cell_type": "code",
   "execution_count": 23,
   "id": "c1ca3d65",
   "metadata": {},
   "outputs": [
    {
     "data": {
      "text/plain": [
       "array([0, 1, 2, 3, 4, 5, 6, 7, 8, 9])"
      ]
     },
     "execution_count": 23,
     "metadata": {},
     "output_type": "execute_result"
    }
   ],
   "source": [
    "np.arange(10)   # -> array 형태의 range"
   ]
  },
  {
   "cell_type": "code",
   "execution_count": 24,
   "id": "a927d9ac",
   "metadata": {},
   "outputs": [
    {
     "data": {
      "text/plain": [
       "array([1, 2, 3, 4])"
      ]
     },
     "execution_count": 24,
     "metadata": {},
     "output_type": "execute_result"
    }
   ],
   "source": [
    "np.arange(1,5)"
   ]
  },
  {
   "cell_type": "code",
   "execution_count": 26,
   "id": "1a2299a3",
   "metadata": {
    "scrolled": true
   },
   "outputs": [
    {
     "data": {
      "text/plain": [
       "array([1, 3, 5, 7, 9])"
      ]
     },
     "execution_count": 26,
     "metadata": {},
     "output_type": "execute_result"
    }
   ],
   "source": [
    "np.arange(1,10,2)    # -> 파이썬 이라 기본 문법은 비슷하다(같다?)"
   ]
  },
  {
   "cell_type": "markdown",
   "id": "651e7268",
   "metadata": {},
   "source": [
    "### 내용.reshape(2,2) -> 1차원을 2행2열로 만듬"
   ]
  },
  {
   "cell_type": "code",
   "execution_count": 27,
   "id": "78b86cd8",
   "metadata": {},
   "outputs": [
    {
     "data": {
      "text/plain": [
       "array([[ 0,  1,  2,  3],\n",
       "       [ 4,  5,  6,  7],\n",
       "       [ 8,  9, 10, 11]])"
      ]
     },
     "execution_count": 27,
     "metadata": {},
     "output_type": "execute_result"
    }
   ],
   "source": [
    "np.arange(12).reshape(3,4)"
   ]
  },
  {
   "cell_type": "code",
   "execution_count": 29,
   "id": "7d07d117",
   "metadata": {},
   "outputs": [
    {
     "data": {
      "text/plain": [
       "(3, 4)"
      ]
     },
     "execution_count": 29,
     "metadata": {},
     "output_type": "execute_result"
    }
   ],
   "source": [
    "b1 = np.arange(12).reshape(3,4)\n",
    "b1.shape"
   ]
  },
  {
   "cell_type": "code",
   "execution_count": 31,
   "id": "da0d575e",
   "metadata": {},
   "outputs": [
    {
     "ename": "ValueError",
     "evalue": "cannot reshape array of size 7 into shape (3,3)",
     "output_type": "error",
     "traceback": [
      "\u001b[1;31m---------------------------------------------------------------------------\u001b[0m",
      "\u001b[1;31mValueError\u001b[0m                                Traceback (most recent call last)",
      "\u001b[1;32m<ipython-input-31-f1316ca6e305>\u001b[0m in \u001b[0;36m<module>\u001b[1;34m\u001b[0m\n\u001b[1;32m----> 1\u001b[1;33m \u001b[0mb2\u001b[0m \u001b[1;33m=\u001b[0m \u001b[0mnp\u001b[0m\u001b[1;33m.\u001b[0m\u001b[0marange\u001b[0m\u001b[1;33m(\u001b[0m\u001b[1;36m7\u001b[0m\u001b[1;33m)\u001b[0m\u001b[1;33m.\u001b[0m\u001b[0mreshape\u001b[0m\u001b[1;33m(\u001b[0m\u001b[1;36m3\u001b[0m\u001b[1;33m,\u001b[0m\u001b[1;36m3\u001b[0m\u001b[1;33m)\u001b[0m  \u001b[1;31m# -> 행렬로 바꾸려는 원소 객수가 일치해야함 인덱스에러와 비슷\u001b[0m\u001b[1;33m\u001b[0m\u001b[1;33m\u001b[0m\u001b[0m\n\u001b[0m",
      "\u001b[1;31mValueError\u001b[0m: cannot reshape array of size 7 into shape (3,3)"
     ]
    }
   ],
   "source": [
    "b2 = np.arange(7).reshape(3,3)  # -> 행렬로 바꾸려는 원소 객수가 일치해야함 인덱스에러와 비슷"
   ]
  },
  {
   "cell_type": "code",
   "execution_count": 33,
   "id": "2e49f2db",
   "metadata": {},
   "outputs": [
    {
     "data": {
      "text/plain": [
       "array([[ 0,  1,  2],\n",
       "       [ 3,  4,  5],\n",
       "       [ 6,  7,  8],\n",
       "       [ 9, 10, 11]])"
      ]
     },
     "execution_count": 33,
     "metadata": {},
     "output_type": "execute_result"
    }
   ],
   "source": [
    "b3 = b1.reshape(4,3)   # -> 원소 갯수만 맞다면 어떤 행열 로 바꿔도 상관없음\n",
    "b3"
   ]
  },
  {
   "cell_type": "markdown",
   "id": "015d9dfc",
   "metadata": {},
   "source": [
    "# 범위를 지정해 배열 생성(2) linspace() 함수\n",
    "## 형식 arr_obj = np.linspace(start,stop[, nu. = 50]) 기본이 50값"
   ]
  },
  {
   "cell_type": "markdown",
   "id": "4bf90d41",
   "metadata": {},
   "source": [
    "### arange  는 정수값 \n",
    "### linspace 는실수라고 생각"
   ]
  },
  {
   "cell_type": "code",
   "execution_count": 34,
   "id": "3126b784",
   "metadata": {},
   "outputs": [
    {
     "data": {
      "text/plain": [
       "array([ 1.,  2.,  3.,  4.,  5.,  6.,  7.,  8.,  9., 10.])"
      ]
     },
     "execution_count": 34,
     "metadata": {},
     "output_type": "execute_result"
    }
   ],
   "source": [
    "np.linspace(1,10,10)    # (시작,끝,나타낼범위) 1부터 10까지 10개를 나타냄 "
   ]
  },
  {
   "cell_type": "code",
   "execution_count": 35,
   "id": "68cc25df",
   "metadata": {},
   "outputs": [
    {
     "data": {
      "text/plain": [
       "array([0.        , 0.06411414, 0.12822827, 0.19234241, 0.25645654,\n",
       "       0.32057068, 0.38468481, 0.44879895, 0.51291309, 0.57702722,\n",
       "       0.64114136, 0.70525549, 0.76936963, 0.83348377, 0.8975979 ,\n",
       "       0.96171204, 1.02582617, 1.08994031, 1.15405444, 1.21816858,\n",
       "       1.28228272, 1.34639685, 1.41051099, 1.47462512, 1.53873926,\n",
       "       1.60285339, 1.66696753, 1.73108167, 1.7951958 , 1.85930994,\n",
       "       1.92342407, 1.98753821, 2.05165235, 2.11576648, 2.17988062,\n",
       "       2.24399475, 2.30810889, 2.37222302, 2.43633716, 2.5004513 ,\n",
       "       2.56456543, 2.62867957, 2.6927937 , 2.75690784, 2.82102197,\n",
       "       2.88513611, 2.94925025, 3.01336438, 3.07747852, 3.14159265])"
      ]
     },
     "execution_count": 35,
     "metadata": {},
     "output_type": "execute_result"
    }
   ],
   "source": [
    "np.linspace(0,np.pi)"
   ]
  },
  {
   "cell_type": "code",
   "execution_count": 40,
   "id": "e0f3edf4",
   "metadata": {},
   "outputs": [
    {
     "data": {
      "text/plain": [
       "(50,)"
      ]
     },
     "execution_count": 40,
     "metadata": {},
     "output_type": "execute_result"
    }
   ],
   "source": [
    "np.linspace(1,10).shape"
   ]
  },
  {
   "cell_type": "markdown",
   "id": "d0ced010",
   "metadata": {},
   "source": [
    "# 특별한 형태의 배열생성\n",
    "## np.zeros(), np.ones(), np.eye()\n",
    "### 모든 요소가 0인 배열 생성\n",
    "### 디폴트는 실수인 float"
   ]
  },
  {
   "cell_type": "code",
   "execution_count": 42,
   "id": "39a3131d",
   "metadata": {},
   "outputs": [
    {
     "data": {
      "text/plain": [
       "array([0, 0, 0, 0, 0, 0, 0, 0, 0, 0])"
      ]
     },
     "execution_count": 42,
     "metadata": {},
     "output_type": "execute_result"
    }
   ],
   "source": [
    "np.zeros(10,dtype= int)"
   ]
  },
  {
   "cell_type": "code",
   "execution_count": 43,
   "id": "bad3b2fe",
   "metadata": {},
   "outputs": [
    {
     "data": {
      "text/plain": [
       "array([[0., 0., 0., 0., 0.],\n",
       "       [0., 0., 0., 0., 0.],\n",
       "       [0., 0., 0., 0., 0.]])"
      ]
     },
     "execution_count": 43,
     "metadata": {},
     "output_type": "execute_result"
    }
   ],
   "source": [
    "np.zeros((3,5))"
   ]
  },
  {
   "cell_type": "code",
   "execution_count": 44,
   "id": "16308fee",
   "metadata": {},
   "outputs": [
    {
     "data": {
      "text/plain": [
       "array([[0., 0., 0.],\n",
       "       [0., 0., 0.],\n",
       "       [0., 0., 0.],\n",
       "       [0., 0., 0.],\n",
       "       [0., 0., 0.]])"
      ]
     },
     "execution_count": 44,
     "metadata": {},
     "output_type": "execute_result"
    }
   ],
   "source": [
    "np.zeros((3,5)).reshape(5,3)"
   ]
  },
  {
   "cell_type": "markdown",
   "id": "235d69fc",
   "metadata": {},
   "source": [
    "## 모든 요소가 1인 배열"
   ]
  },
  {
   "cell_type": "code",
   "execution_count": 45,
   "id": "3465f407",
   "metadata": {},
   "outputs": [
    {
     "data": {
      "text/plain": [
       "array([1., 1., 1., 1., 1., 1., 1., 1., 1., 1.])"
      ]
     },
     "execution_count": 45,
     "metadata": {},
     "output_type": "execute_result"
    }
   ],
   "source": [
    "np.ones(10)"
   ]
  },
  {
   "cell_type": "code",
   "execution_count": 47,
   "id": "228e7804",
   "metadata": {},
   "outputs": [
    {
     "data": {
      "text/plain": [
       "array([[1, 1, 1, 1, 1],\n",
       "       [1, 1, 1, 1, 1],\n",
       "       [1, 1, 1, 1, 1]])"
      ]
     },
     "execution_count": 47,
     "metadata": {},
     "output_type": "execute_result"
    }
   ],
   "source": [
    "np.ones((3,5),dtype = int)"
   ]
  },
  {
   "cell_type": "markdown",
   "id": "d85a33da",
   "metadata": {},
   "source": [
    "## 대각요소가 1인 배열생성"
   ]
  },
  {
   "cell_type": "code",
   "execution_count": 48,
   "id": "4516a70b",
   "metadata": {},
   "outputs": [
    {
     "data": {
      "text/plain": [
       "array([[1., 0., 0.],\n",
       "       [0., 1., 0.],\n",
       "       [0., 0., 1.]])"
      ]
     },
     "execution_count": 48,
     "metadata": {},
     "output_type": "execute_result"
    }
   ],
   "source": [
    "# 3으로 하면 3행 3열의 대각요소가 1인 배열 \n",
    "np.eye(3)"
   ]
  },
  {
   "cell_type": "code",
   "execution_count": 49,
   "id": "e81397b1",
   "metadata": {},
   "outputs": [
    {
     "data": {
      "text/plain": [
       "array([[1., 0., 0., 0.],\n",
       "       [0., 1., 0., 0.],\n",
       "       [0., 0., 1., 0.]])"
      ]
     },
     "execution_count": 49,
     "metadata": {},
     "output_type": "execute_result"
    }
   ],
   "source": [
    "np.eye(3,4)  # -> 기본값은 float"
   ]
  },
  {
   "cell_type": "code",
   "execution_count": 51,
   "id": "ff00b602",
   "metadata": {},
   "outputs": [
    {
     "data": {
      "text/plain": [
       "array([[1, 0, 0],\n",
       "       [0, 1, 0],\n",
       "       [0, 0, 1],\n",
       "       [0, 0, 0]])"
      ]
     },
     "execution_count": 51,
     "metadata": {},
     "output_type": "execute_result"
    }
   ],
   "source": [
    "np.eye(4,3,dtype = int)"
   ]
  },
  {
   "cell_type": "code",
   "execution_count": 52,
   "id": "a3cdf3e0",
   "metadata": {},
   "outputs": [
    {
     "data": {
      "text/plain": [
       "array([[0., 0., 1., 0.],\n",
       "       [0., 0., 0., 1.],\n",
       "       [0., 0., 0., 0.]])"
      ]
     },
     "execution_count": 52,
     "metadata": {},
     "output_type": "execute_result"
    }
   ],
   "source": [
    "np.eye(3,4,k =2)"
   ]
  },
  {
   "cell_type": "code",
   "execution_count": 53,
   "id": "a3400f5e",
   "metadata": {},
   "outputs": [
    {
     "data": {
      "text/plain": [
       "array([[0, 1, 0, 0],\n",
       "       [0, 0, 1, 0],\n",
       "       [0, 0, 0, 1]])"
      ]
     },
     "execution_count": 53,
     "metadata": {},
     "output_type": "execute_result"
    }
   ],
   "source": [
    "np.eye(3,4,k =1 , dtype = int)  # -> k는 하나씩 밀어줌"
   ]
  },
  {
   "cell_type": "code",
   "execution_count": 55,
   "id": "103ed4fa",
   "metadata": {},
   "outputs": [
    {
     "data": {
      "text/plain": [
       "array([[0, 0, 0, 0],\n",
       "       [1, 0, 0, 0],\n",
       "       [0, 1, 0, 0]])"
      ]
     },
     "execution_count": 55,
     "metadata": {},
     "output_type": "execute_result"
    }
   ],
   "source": [
    "np.eye(3,4,k = -1 , dtype = int)  # -> k = 1은 오른쪽 -1 은 왼쪽"
   ]
  },
  {
   "cell_type": "markdown",
   "id": "40f1a1cf",
   "metadata": {},
   "source": [
    "## 정방행렬  대각 요소가 1\n",
    "### 대각요소만 1인것을 단위 행렬\n",
    "### 단위 행렬 생성 np.identity(n,dtype = 자료형)"
   ]
  },
  {
   "cell_type": "code",
   "execution_count": 56,
   "id": "66b419c8",
   "metadata": {},
   "outputs": [
    {
     "data": {
      "text/plain": [
       "array([[1, 0, 0, 0, 0],\n",
       "       [0, 1, 0, 0, 0],\n",
       "       [0, 0, 1, 0, 0],\n",
       "       [0, 0, 0, 1, 0],\n",
       "       [0, 0, 0, 0, 1]])"
      ]
     },
     "execution_count": 56,
     "metadata": {},
     "output_type": "execute_result"
    }
   ],
   "source": [
    "# n*n 크기위 단위행렬 생성\n",
    "np.identity(5,dtype = int)"
   ]
  },
  {
   "cell_type": "markdown",
   "id": "0e330bdf",
   "metadata": {},
   "source": [
    "## 초기화 되지 않은 배열 생성 : np.empty(shape,dtype = float)"
   ]
  },
  {
   "cell_type": "code",
   "execution_count": 57,
   "id": "bca61c53",
   "metadata": {},
   "outputs": [
    {
     "data": {
      "text/plain": [
       "array([4.18767318e-062, 1.47915151e-071, 1.04917089e-142, 2.38195485e+190])"
      ]
     },
     "execution_count": 57,
     "metadata": {},
     "output_type": "execute_result"
    }
   ],
   "source": [
    "# 초기화 되지 않은 배열 생성\n",
    "np.empty(4)"
   ]
  },
  {
   "cell_type": "markdown",
   "id": "9a9c7bc8",
   "metadata": {},
   "source": [
    "## 배열의 데이터 타입 변환 astype()\n",
    "### num_arr = str_srr.astype(dtype)\n",
    "#### dtype = int, float, str"
   ]
  },
  {
   "cell_type": "code",
   "execution_count": 58,
   "id": "989801d6",
   "metadata": {},
   "outputs": [
    {
     "data": {
      "text/plain": [
       "array(['1.5', '0.62', '2', '3.14', '3.142345'], dtype='<U8')"
      ]
     },
     "execution_count": 58,
     "metadata": {},
     "output_type": "execute_result"
    }
   ],
   "source": [
    "np.array(['1.5','0.62','2','3.14','3.142345'])"
   ]
  },
  {
   "cell_type": "code",
   "execution_count": 70,
   "id": "4d2d837d",
   "metadata": {},
   "outputs": [
    {
     "data": {
      "text/plain": [
       "array([1.5     , 0.62    , 2.      , 3.14    , 3.142345])"
      ]
     },
     "execution_count": 70,
     "metadata": {},
     "output_type": "execute_result"
    }
   ],
   "source": [
    "str_a1 = np.array(['1.5','0.62','2','3.14','3.142345'])  # 문자열이라도 실수가 있으면 float로 해줘야함\n",
    "num_a1 = str_a1.astype('float32')\n",
    "num_a1 = str_a1.astype(float)      # 위처럼 하면 float32 비트 가 나옴\n",
    "num_a1"
   ]
  },
  {
   "cell_type": "code",
   "execution_count": 66,
   "id": "2ffa1215",
   "metadata": {},
   "outputs": [
    {
     "data": {
      "text/plain": [
       "dtype('<U8')"
      ]
     },
     "execution_count": 66,
     "metadata": {},
     "output_type": "execute_result"
    }
   ],
   "source": [
    "str_a1.dtype"
   ]
  },
  {
   "cell_type": "code",
   "execution_count": 68,
   "id": "e357162a",
   "metadata": {},
   "outputs": [
    {
     "data": {
      "text/plain": [
       "dtype('float64')"
      ]
     },
     "execution_count": 68,
     "metadata": {},
     "output_type": "execute_result"
    }
   ],
   "source": [
    "num_a1.dtype"
   ]
  },
  {
   "cell_type": "code",
   "execution_count": 75,
   "id": "6b995ba5",
   "metadata": {},
   "outputs": [
    {
     "data": {
      "text/plain": [
       "array([1, 3, 5, 6, 8])"
      ]
     },
     "execution_count": 75,
     "metadata": {},
     "output_type": "execute_result"
    }
   ],
   "source": [
    "str_a2 = np.array(['1','3','5','6','8'])   \n",
    "num_a2 = str_a2.astype(int)\n",
    "num_a2"
   ]
  },
  {
   "cell_type": "code",
   "execution_count": 76,
   "id": "624ac7c0",
   "metadata": {},
   "outputs": [
    {
     "data": {
      "text/plain": [
       "array([1, 3, 5, 6, 8])"
      ]
     },
     "execution_count": 76,
     "metadata": {},
     "output_type": "execute_result"
    }
   ],
   "source": [
    "num_a3 = str_a2.astype(int)\n",
    "num_a3"
   ]
  },
  {
   "cell_type": "markdown",
   "id": "4858cf85",
   "metadata": {},
   "source": [
    "## 실수형 배열을 정수형 배여롤 변환\n",
    "### 아예 정수로 반환 "
   ]
  },
  {
   "cell_type": "code",
   "execution_count": 78,
   "id": "dd61a142",
   "metadata": {},
   "outputs": [
    {
     "data": {
      "text/plain": [
       "array([10.   , 21.   ,  0.549,  4.75 ,  5.89 ])"
      ]
     },
     "execution_count": 78,
     "metadata": {},
     "output_type": "execute_result"
    }
   ],
   "source": [
    "num_f1 = np.array([10,21,0.549,4.75,5.89])\n",
    "num_f1"
   ]
  },
  {
   "cell_type": "code",
   "execution_count": 84,
   "id": "12fa8470",
   "metadata": {},
   "outputs": [
    {
     "data": {
      "text/plain": [
       "array([10, 21,  0,  4,  5])"
      ]
     },
     "execution_count": 84,
     "metadata": {},
     "output_type": "execute_result"
    }
   ],
   "source": [
    "num_i1 = num_f1.astype(int)    # 문자가 아니라 숫자라서 가능한듯\n",
    "num_i1"
   ]
  },
  {
   "cell_type": "code",
   "execution_count": 82,
   "id": "12eff59a",
   "metadata": {},
   "outputs": [
    {
     "data": {
      "text/plain": [
       "dtype('float64')"
      ]
     },
     "execution_count": 82,
     "metadata": {},
     "output_type": "execute_result"
    }
   ],
   "source": [
    "num_f1.dtype"
   ]
  },
  {
   "cell_type": "code",
   "execution_count": 83,
   "id": "94084a81",
   "metadata": {},
   "outputs": [
    {
     "data": {
      "text/plain": [
       "dtype('int32')"
      ]
     },
     "execution_count": 83,
     "metadata": {},
     "output_type": "execute_result"
    }
   ],
   "source": [
    "num_i1.dtype"
   ]
  },
  {
   "cell_type": "markdown",
   "id": "7f966094",
   "metadata": {},
   "source": [
    "## 숫자형 배열을 문자열  배열로 변환"
   ]
  },
  {
   "cell_type": "code",
   "execution_count": 85,
   "id": "9c8dcc73",
   "metadata": {},
   "outputs": [
    {
     "data": {
      "text/plain": [
       "array(['10.0', '21.0', '0.549', '4.75', '5.89'], dtype='<U32')"
      ]
     },
     "execution_count": 85,
     "metadata": {},
     "output_type": "execute_result"
    }
   ],
   "source": [
    "num_f1.astype('U')   # 유니코드"
   ]
  },
  {
   "cell_type": "code",
   "execution_count": 87,
   "id": "03d1d9e2",
   "metadata": {},
   "outputs": [
    {
     "data": {
      "text/plain": [
       "array([b'10.0', b'21.0', b'0.549', b'4.75', b'5.89'], dtype='|S32')"
      ]
     },
     "execution_count": 87,
     "metadata": {},
     "output_type": "execute_result"
    }
   ],
   "source": [
    "num_f1.astype('S') # 'S' 혹은 'a' 바이트코드 문자열"
   ]
  },
  {
   "cell_type": "markdown",
   "id": "ae8248df",
   "metadata": {},
   "source": [
    "## 난수 배열생성\n",
    "### random.rand() , random.randint()"
   ]
  },
  {
   "cell_type": "code",
   "execution_count": 89,
   "id": "51bfbf9e",
   "metadata": {},
   "outputs": [
    {
     "data": {
      "text/plain": [
       "array([0.84250209, 0.44576694, 0.92564852, 0.86587356, 0.92989609,\n",
       "       0.31308562, 0.92640276, 0.40430635, 0.95978265, 0.59893315])"
      ]
     },
     "execution_count": 89,
     "metadata": {},
     "output_type": "execute_result"
    }
   ],
   "source": [
    "np.random.rand(10)  # 0과 1사이에 실수값 10개   실수난수\n",
    "# np.random.rand(2,5)  # 2행 5열로만듬"
   ]
  },
  {
   "cell_type": "code",
   "execution_count": 90,
   "id": "6c87b516",
   "metadata": {},
   "outputs": [
    {
     "data": {
      "text/plain": [
       "0.6678201476625372"
      ]
     },
     "execution_count": 90,
     "metadata": {},
     "output_type": "execute_result"
    }
   ],
   "source": [
    "np.random.rand()  # 하나만 생성"
   ]
  },
  {
   "cell_type": "code",
   "execution_count": 91,
   "id": "c427d854",
   "metadata": {},
   "outputs": [
    {
     "data": {
      "text/plain": [
       "array([[[0.97291925, 0.06639545, 0.95126457, 0.88719055],\n",
       "        [0.12278218, 0.61412349, 0.02750863, 0.65267114],\n",
       "        [0.83696446, 0.78009692, 0.80976764, 0.70610222]],\n",
       "\n",
       "       [[0.60336953, 0.79904717, 0.53376266, 0.69886713],\n",
       "        [0.45622018, 0.56383518, 0.32405775, 0.5268533 ],\n",
       "        [0.69716546, 0.24736261, 0.19045126, 0.65765338]]])"
      ]
     },
     "execution_count": 91,
     "metadata": {},
     "output_type": "execute_result"
    }
   ],
   "source": [
    "np.random.rand(2,3,4)  # (개,행,열)"
   ]
  },
  {
   "cell_type": "code",
   "execution_count": 98,
   "id": "8b4a52bd",
   "metadata": {},
   "outputs": [
    {
     "data": {
      "text/plain": [
       "8"
      ]
     },
     "execution_count": 98,
     "metadata": {},
     "output_type": "execute_result"
    }
   ],
   "source": [
    "np.random.randint(10)   # 정수난수  1~10 사이에 하나"
   ]
  },
  {
   "cell_type": "code",
   "execution_count": 100,
   "id": "c30cf9f9",
   "metadata": {},
   "outputs": [
    {
     "data": {
      "text/plain": [
       "14"
      ]
     },
     "execution_count": 100,
     "metadata": {},
     "output_type": "execute_result"
    }
   ],
   "source": [
    "np.random.randint(10,20)"
   ]
  },
  {
   "cell_type": "code",
   "execution_count": 101,
   "id": "7a5faaad",
   "metadata": {},
   "outputs": [
    {
     "data": {
      "text/plain": [
       "array([[15, 11, 14, 17, 14],\n",
       "       [10, 15, 17, 14, 15],\n",
       "       [14, 16, 11, 16, 10]])"
      ]
     },
     "execution_count": 101,
     "metadata": {},
     "output_type": "execute_result"
    }
   ],
   "source": [
    "np.random.randint(10,20,size=(3,5))   # 10 에서 20사이에 3행5열"
   ]
  },
  {
   "cell_type": "markdown",
   "id": "97b4a0c8",
   "metadata": {},
   "source": [
    "# Array 연산\n",
    "## 기본연산 (합,차,곱,나눗셈 등)\n",
    "### 기본적으로  동일한 크기의 array간 연산 수행"
   ]
  },
  {
   "cell_type": "code",
   "execution_count": 107,
   "id": "9fcb951d",
   "metadata": {},
   "outputs": [
    {
     "data": {
      "text/plain": [
       "array([[1, 2, 3],\n",
       "       [4, 3, 6]])"
      ]
     },
     "execution_count": 107,
     "metadata": {},
     "output_type": "execute_result"
    }
   ],
   "source": [
    "arr1 = np.array([[1,2,3,],[4,3,6]])\n",
    "arr1"
   ]
  },
  {
   "cell_type": "code",
   "execution_count": 105,
   "id": "3ce0e896",
   "metadata": {},
   "outputs": [
    {
     "data": {
      "text/plain": [
       "array([[10, 11, 12],\n",
       "       [13, 14, 15]])"
      ]
     },
     "execution_count": 105,
     "metadata": {},
     "output_type": "execute_result"
    }
   ],
   "source": [
    "arr2 = np.array([[10, 11, 12], [13, 14, 15]])\n",
    "arr2"
   ]
  },
  {
   "cell_type": "code",
   "execution_count": 109,
   "id": "95cf7174",
   "metadata": {},
   "outputs": [
    {
     "data": {
      "text/plain": [
       "array([[10, 11, 12],\n",
       "       [13, 14, 15]])"
      ]
     },
     "execution_count": 109,
     "metadata": {},
     "output_type": "execute_result"
    }
   ],
   "source": [
    "arr1 = np.arange(1,7).reshape(2,3)\n",
    "arr2 = np.arange(10,16).reshape(2,3)\n",
    "arr2"
   ]
  },
  {
   "cell_type": "code",
   "execution_count": 111,
   "id": "ddfe1958",
   "metadata": {},
   "outputs": [
    {
     "name": "stdout",
     "output_type": "stream",
     "text": [
      "(2, 3) (2, 3)\n"
     ]
    }
   ],
   "source": [
    "print(arr1.shape,arr2.shape)"
   ]
  },
  {
   "cell_type": "markdown",
   "id": "56f26461",
   "metadata": {},
   "source": [
    "## 배열의 연산"
   ]
  },
  {
   "cell_type": "code",
   "execution_count": 112,
   "id": "f256f705",
   "metadata": {},
   "outputs": [
    {
     "data": {
      "text/plain": [
       "array([[11, 13, 15],\n",
       "       [17, 19, 21]])"
      ]
     },
     "execution_count": 112,
     "metadata": {},
     "output_type": "execute_result"
    }
   ],
   "source": [
    "arr1 + arr2"
   ]
  },
  {
   "cell_type": "code",
   "execution_count": 113,
   "id": "1b741195",
   "metadata": {},
   "outputs": [
    {
     "data": {
      "text/plain": [
       "array([[-9, -9, -9],\n",
       "       [-9, -9, -9]])"
      ]
     },
     "execution_count": 113,
     "metadata": {},
     "output_type": "execute_result"
    }
   ],
   "source": [
    "arr1 - arr2"
   ]
  },
  {
   "cell_type": "code",
   "execution_count": 114,
   "id": "eada4cb0",
   "metadata": {},
   "outputs": [
    {
     "data": {
      "text/plain": [
       "array([[10, 22, 36],\n",
       "       [52, 70, 90]])"
      ]
     },
     "execution_count": 114,
     "metadata": {},
     "output_type": "execute_result"
    }
   ],
   "source": [
    "arr1 * arr2"
   ]
  },
  {
   "cell_type": "code",
   "execution_count": 115,
   "id": "b47eba11",
   "metadata": {},
   "outputs": [
    {
     "data": {
      "text/plain": [
       "array([[0.1       , 0.18181818, 0.25      ],\n",
       "       [0.30769231, 0.35714286, 0.4       ]])"
      ]
     },
     "execution_count": 115,
     "metadata": {},
     "output_type": "execute_result"
    }
   ],
   "source": [
    "arr1 / arr2"
   ]
  },
  {
   "cell_type": "code",
   "execution_count": 116,
   "id": "286bd4f6",
   "metadata": {},
   "outputs": [
    {
     "data": {
      "text/plain": [
       "array([[20, 22, 24],\n",
       "       [26, 28, 30]])"
      ]
     },
     "execution_count": 116,
     "metadata": {},
     "output_type": "execute_result"
    }
   ],
   "source": [
    "arr2 * 2"
   ]
  },
  {
   "cell_type": "code",
   "execution_count": 118,
   "id": "e0e049d9",
   "metadata": {},
   "outputs": [
    {
     "data": {
      "text/plain": [
       "array([[False, False, False],\n",
       "       [ True,  True,  True]])"
      ]
     },
     "execution_count": 118,
     "metadata": {},
     "output_type": "execute_result"
    }
   ],
   "source": [
    "arr2 > 12"
   ]
  },
  {
   "cell_type": "markdown",
   "id": "1d0032c3",
   "metadata": {},
   "source": [
    "## bordcasting 크기가 다른 배열 연산"
   ]
  },
  {
   "cell_type": "code",
   "execution_count": 119,
   "id": "d0bd18a2",
   "metadata": {},
   "outputs": [
    {
     "data": {
      "text/plain": [
       "array([[1, 2, 3],\n",
       "       [4, 5, 6]])"
      ]
     },
     "execution_count": 119,
     "metadata": {},
     "output_type": "execute_result"
    }
   ],
   "source": [
    "arr1"
   ]
  },
  {
   "cell_type": "code",
   "execution_count": 120,
   "id": "9c81f944",
   "metadata": {},
   "outputs": [
    {
     "data": {
      "text/plain": [
       "array([10, 11, 12])"
      ]
     },
     "execution_count": 120,
     "metadata": {},
     "output_type": "execute_result"
    }
   ],
   "source": [
    "arr3 = np.array([10,11,12])\n",
    "arr3"
   ]
  },
  {
   "cell_type": "code",
   "execution_count": 121,
   "id": "33b3d19d",
   "metadata": {
    "scrolled": true
   },
   "outputs": [
    {
     "data": {
      "text/plain": [
       "((2, 3), (3,))"
      ]
     },
     "execution_count": 121,
     "metadata": {},
     "output_type": "execute_result"
    }
   ],
   "source": [
    "(arr1.shape,arr3.shape)"
   ]
  },
  {
   "cell_type": "code",
   "execution_count": 122,
   "id": "71aff53d",
   "metadata": {
    "scrolled": true
   },
   "outputs": [
    {
     "data": {
      "text/plain": [
       "array([[11, 13, 15],\n",
       "       [14, 16, 18]])"
      ]
     },
     "execution_count": 122,
     "metadata": {},
     "output_type": "execute_result"
    }
   ],
   "source": [
    "arr1 + arr3"
   ]
  },
  {
   "cell_type": "code",
   "execution_count": 123,
   "id": "fd423fcd",
   "metadata": {},
   "outputs": [
    {
     "data": {
      "text/plain": [
       "array([[ 1,  4,  9],\n",
       "       [16, 25, 36]], dtype=int32)"
      ]
     },
     "execution_count": 123,
     "metadata": {},
     "output_type": "execute_result"
    }
   ],
   "source": [
    "arr1 **2"
   ]
  },
  {
   "cell_type": "markdown",
   "id": "d5578b36",
   "metadata": {},
   "source": [
    "## 브로드 캐스트 조건 \n",
    "http://www.astroml.org/book_figures/appendix/fig_broadcast_visual.html\n"
   ]
  }
 ],
 "metadata": {
  "kernelspec": {
   "display_name": "Python 3",
   "language": "python",
   "name": "python3"
  },
  "language_info": {
   "codemirror_mode": {
    "name": "ipython",
    "version": 3
   },
   "file_extension": ".py",
   "mimetype": "text/x-python",
   "name": "python",
   "nbconvert_exporter": "python",
   "pygments_lexer": "ipython3",
   "version": "3.8.8"
  },
  "toc": {
   "base_numbering": 1,
   "nav_menu": {},
   "number_sections": true,
   "sideBar": true,
   "skip_h1_title": false,
   "title_cell": "Table of Contents",
   "title_sidebar": "Contents",
   "toc_cell": false,
   "toc_position": {
    "height": "calc(100% - 180px)",
    "left": "10px",
    "top": "150px",
    "width": "271.458px"
   },
   "toc_section_display": true,
   "toc_window_display": true
  }
 },
 "nbformat": 4,
 "nbformat_minor": 5
}
