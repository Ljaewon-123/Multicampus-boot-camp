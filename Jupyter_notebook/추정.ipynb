{
 "cells": [
  {
   "cell_type": "markdown",
   "id": "eab2a200",
   "metadata": {},
   "source": [
    "# 모평균의 구간추정\n"
   ]
  },
  {
   "cell_type": "markdown",
   "id": "5a69a260",
   "metadata": {},
   "source": [
    "**문제**\n",
    "\n",
    "\n",
    "표준정규분포로부터 뽑아 95% 신뢰구간을 구하는 것을 20번 반복했을때 몇개의 신뢰구간이 모평균을 포함할지 확인"
   ]
  },
  {
   "cell_type": "code",
   "execution_count": 1,
   "id": "c3d7f080",
   "metadata": {},
   "outputs": [],
   "source": [
    "import numpy as np\n",
    "import pandas as pd\n",
    "from scipy import stats\n",
    "import matplotlib.pyplot as plt\n",
    "\n",
    "%precision 3\n",
    "np.random.seed(1111)\n"
   ]
  },
  {
   "cell_type": "code",
   "execution_count": 2,
   "id": "89682b54",
   "metadata": {},
   "outputs": [],
   "source": [
    "df = pd.read_csv('./csv_File/ch4_scores400.csv')\n",
    "scores = np.array(df['score'])\n"
   ]
  },
  {
   "cell_type": "code",
   "execution_count": 3,
   "id": "a2fa2df3",
   "metadata": {},
   "outputs": [
    {
     "data": {
      "text/plain": [
       "(69.53, 206.6691)"
      ]
     },
     "execution_count": 3,
     "metadata": {},
     "output_type": "execute_result"
    }
   ],
   "source": [
    "# 성적데이터 모집단의 평균과 분산 계산 \n",
    "p_mean = np.mean(scores)\n",
    "p_var = np.var(scores)\n",
    "\n",
    "p_mean, p_var"
   ]
  },
  {
   "cell_type": "code",
   "execution_count": 4,
   "id": "8df0dc31",
   "metadata": {},
   "outputs": [
    {
     "data": {
      "image/png": "[encoded data removed]",
      "text/plain": [
       "<Figure size 432x288 with 1 Axes>"
      ]
     },
     "metadata": {
      "needs_background": "light"
     },
     "output_type": "display_data"
    }
   ],
   "source": [
    "# 모집단의 분포 \n",
    "xs = np.arange(101)\n",
    "rv = stats.norm(p_mean,np.sqrt(p_var))  # rv가 정규분포임\n",
    "plt.plot(xs,rv.pdf(xs),color = 'gray')   # 101개 데이터로 정규분포 그림 평균69.53,분산206.67 의 정규분포\n",
    "plt.hist(scores,bins=100,range=(0,100),density=True)\n",
    "plt.show()"
   ]
  },
  {
   "cell_type": "code",
   "execution_count": 5,
   "id": "aaba3f8f",
   "metadata": {},
   "outputs": [
    {
     "data": {
      "text/plain": [
       "array([[68, 75, 91, 60, 76, 70, 59, 56, 77, 54, 77, 60, 67, 86, 70, 54,\n",
       "        52, 72, 57, 59],\n",
       "       [97, 55, 61, 89, 80, 85, 70, 67, 77, 81, 48, 67, 56, 74, 94, 64,\n",
       "        83, 65, 73, 71],\n",
       "       [78, 67, 43, 63, 79, 46, 89, 79, 86, 85, 70, 57, 55, 63, 49, 83,\n",
       "        83, 76, 62, 71],\n",
       "       [74, 62, 48, 73, 45, 67, 58, 83, 49, 83, 67, 59, 66, 52, 54, 53,\n",
       "        78, 80, 81, 57],\n",
       "       [63, 83, 67, 75, 74, 73, 77, 78, 66, 86, 82, 67, 78, 54, 65, 92,\n",
       "        64, 91, 61, 57]], dtype=int64)"
      ]
     },
     "execution_count": 5,
     "metadata": {},
     "output_type": "execute_result"
    }
   ],
   "source": [
    "# sample 데이터 생성\n",
    "n_sam = 10000\n",
    "n = 20\n",
    "samples = np.random.choice(scores,(n_sam,n))\n",
    "samples[:5]\n"
   ]
  },
  {
   "cell_type": "code",
   "execution_count": 6,
   "id": "dee5ffbf",
   "metadata": {},
   "outputs": [
    {
     "data": {
      "text/plain": [
       "1.9599639845400545"
      ]
     },
     "execution_count": 6,
     "metadata": {},
     "output_type": "execute_result"
    }
   ],
   "source": [
    "rv = stats.norm()\n",
    "rv.isf(0.025)"
   ]
  },
  {
   "cell_type": "code",
   "execution_count": 7,
   "id": "25de64e2",
   "metadata": {},
   "outputs": [
    {
     "data": {
      "text/plain": [
       "-1.959963984540054"
      ]
     },
     "execution_count": 7,
     "metadata": {},
     "output_type": "execute_result"
    }
   ],
   "source": [
    "rv.isf(0.975)"
   ]
  },
  {
   "cell_type": "code",
   "execution_count": 8,
   "id": "2d798ef0",
   "metadata": {},
   "outputs": [
    {
     "data": {
      "image/png": "[encoded data removed]",
      "text/plain": [
       "<Figure size 432x288 with 1 Axes>"
      ]
     },
     "metadata": {
      "needs_background": "light"
     },
     "output_type": "display_data"
    }
   ],
   "source": [
    "# 모분산을 아는 경우 95% 신뢰구간 : 정규분포를 이용 \n",
    "rv = stats.norm()\n",
    "n_samples = 50 \n",
    "n=20\n",
    "plt.vlines(p_mean,0,21)\n",
    "for i in range(n_samples):\n",
    "    sample_ = samples[i]\n",
    "    s_mean = np.mean(sample_)\n",
    "    lcl = s_mean - rv.isf(0.025) *  np.sqrt(p_var/n)\n",
    "    ucl = s_mean + rv.isf(0.025) *  np.sqrt(p_var/n)\n",
    "#     ucl = s_mean - rv.isf(0.975) *  np.sqrt(n_var/20) # 바로 위와 같다 \n",
    "    if lcl <= p_mean <= ucl:\n",
    "        plt.scatter(s_mean,n_samples-i,color = 'gray')\n",
    "        plt.hlines(n_samples-i,lcl,ucl,color = 'gray')\n",
    "    else:\n",
    "        plt.scatter(s_mean,n_samples-i,color = 'b')\n",
    "        plt.hlines(n_samples-i,lcl,ucl,color = 'b')\n",
    "plt.xticks([p_mean])\n",
    "plt.xlabel('population mean')\n",
    "plt.show()"
   ]
  },
  {
   "cell_type": "code",
   "execution_count": 9,
   "id": "d05f9861",
   "metadata": {},
   "outputs": [
    {
     "data": {
      "text/plain": [
       "(61.94197882534913, 72.05802117465088)"
      ]
     },
     "execution_count": 9,
     "metadata": {},
     "output_type": "execute_result"
    }
   ],
   "source": [
    "# 모분산을 모르는경우 신뢰구간 95% t-분포를 사용 \n",
    "n= 20\n",
    "alpha = 0.025\n",
    "sample_ = samples[0]\n",
    "s_mean = np.mean(sample_)\n",
    "s_var = np.var(sample_)\n",
    "rv = stats.t(df=n-1)\n",
    "lcl = s_mean - rv.isf(alpha)  * np.sqrt(s_var/n)\n",
    "ucl = s_mean + rv.isf(alpha)  * np.sqrt(s_var/n)\n",
    "lcl,ucl"
   ]
  },
  {
   "cell_type": "code",
   "execution_count": 10,
   "id": "bbf588d5",
   "metadata": {},
   "outputs": [
    {
     "data": {
      "image/png": "[encoded data removed]",
      "text/plain": [
       "<Figure size 432x288 with 1 Axes>"
      ]
     },
     "metadata": {
      "needs_background": "light"
     },
     "output_type": "display_data"
    }
   ],
   "source": [
    "n_samples = 20\n",
    "n = 20\n",
    "rv = stats.t(df = n-1)\n",
    "alpha = 0.025\n",
    "plt.vlines(p_mean, 0, 21)\n",
    "for i in range(n_samples):\n",
    "    sample_ = samples[i]\n",
    "    s_mean = np.mean(sample_)\n",
    "    lcl = s_mean - rv.isf(alpha) * np.sqrt(s_var / n)\n",
    "    ucl = s_mean + rv.isf(alpha) * np.sqrt(s_var / n)\n",
    "#     ucl = s_mean - rv.isf(0.975) * np.sqrt(n_var / 20)\n",
    "    if lcl <= p_mean <= ucl:\n",
    "        plt.scatter(s_mean, n_samples-i, color = 'gray')\n",
    "        plt.hlines(n_samples - i, lcl, ucl, color = 'gray')\n",
    "    else:\n",
    "        plt.scatter(s_mean, n_samples-i, color = 'b')\n",
    "        plt.hlines(n_samples - i, lcl, ucl, color = 'b')\n",
    "\n",
    "plt.xticks([p_mean])\n",
    "plt.xlabel('population mean')\n",
    "plt.show()\n"
   ]
  },
  {
   "cell_type": "markdown",
   "id": "a4a80552",
   "metadata": {},
   "source": [
    "**문제 2**\n",
    "\n",
    "만 7세 어린이 중 부모의 동의를 얻은 학생 중 10명을 표본을 로 추출 머리 둘레를 측정한 결과를 기준으로 모평균을 95% 신뢰수준에서 신뢰구간을 추정하시오 "
   ]
  },
  {
   "cell_type": "code",
   "execution_count": 11,
   "id": "0ce3c09d",
   "metadata": {},
   "outputs": [
    {
     "name": "stdout",
     "output_type": "stream",
     "text": [
      "515.9 15.807909412695912\n",
      "10\n"
     ]
    },
    {
     "data": {
      "text/plain": [
       "(504.59170283295526, 527.2082971670446)"
      ]
     },
     "execution_count": 11,
     "metadata": {},
     "output_type": "execute_result"
    }
   ],
   "source": [
    "# 표본 데이터  t-분포\n",
    "data = [520,498,481,512,515,542,520,518,527,526]\n",
    "s_mean = np.mean(data)\n",
    "s_var = np.var(data)\n",
    "print(s_mean,np.sqrt(s_var))\n",
    "n= len(data)\n",
    "print(n)\n",
    "alpha = 0.025\n",
    "rv = stats.t(df=n-1)\n",
    "lcl = s_mean - rv.isf(alpha)  * np.sqrt(s_var/n)\n",
    "ucl = s_mean + rv.isf(alpha)  * np.sqrt(s_var/n)\n",
    "lcl,ucl\n"
   ]
  },
  {
   "cell_type": "code",
   "execution_count": 12,
   "id": "98d17328",
   "metadata": {},
   "outputs": [
    {
     "data": {
      "text/plain": [
       "(506.10233627489055, 525.6976637251095)"
      ]
     },
     "execution_count": 12,
     "metadata": {},
     "output_type": "execute_result"
    }
   ],
   "source": [
    "# 정규분포 \n",
    "rv = stats.norm()\n",
    "lcl = s_mean - rv.isf(alpha)  * np.sqrt(s_var/n)\n",
    "ucl = s_mean + rv.isf(alpha)  * np.sqrt(s_var/n)\n",
    "lcl,ucl"
   ]
  },
  {
   "cell_type": "code",
   "execution_count": 13,
   "id": "0ddcf48c",
   "metadata": {},
   "outputs": [
    {
     "data": {
      "text/plain": [
       "array([122.02, 131.73, 130.6 , 131.82, 132.05, 126.12, 124.43, 132.89,\n",
       "       122.79, 129.95, 126.14, 134.45, 127.64, 125.68])"
      ]
     },
     "execution_count": 13,
     "metadata": {},
     "output_type": "execute_result"
    }
   ],
   "source": [
    "# 감자 무게 데이터 측정\n",
    "df = pd.read_csv('./csv_File/ch11_potato.csv')\n",
    "sample = np.array(df['무게'])\n",
    "sample"
   ]
  },
  {
   "cell_type": "code",
   "execution_count": 14,
   "id": "e3b56068",
   "metadata": {},
   "outputs": [
    {
     "data": {
      "text/plain": [
       "128.4507142857143"
      ]
     },
     "execution_count": 14,
     "metadata": {},
     "output_type": "execute_result"
    }
   ],
   "source": [
    "# 표본 평균 확인\n",
    "s_mean = np.mean(sample)\n",
    "s_mean"
   ]
  },
  {
   "cell_type": "code",
   "execution_count": 15,
   "id": "0c6c5d39",
   "metadata": {},
   "outputs": [
    {
     "data": {
      "text/plain": [
       "14.735449489795883"
      ]
     },
     "execution_count": 15,
     "metadata": {},
     "output_type": "execute_result"
    }
   ],
   "source": [
    "# 표본 분산 확인\n",
    "s_var = np.var(sample)\n",
    "s_var"
   ]
  },
  {
   "cell_type": "code",
   "execution_count": 16,
   "id": "7ae990cc",
   "metadata": {},
   "outputs": [
    {
     "data": {
      "text/plain": [
       "128.68118313069039"
      ]
     },
     "execution_count": 16,
     "metadata": {},
     "output_type": "execute_result"
    }
   ],
   "source": [
    "# 모분산 = 9 \n",
    "rv = stats.norm(130,np.sqrt(9/14))\n",
    "rv.isf(0.95)"
   ]
  },
  {
   "cell_type": "code",
   "execution_count": 17,
   "id": "e7c6aff1",
   "metadata": {},
   "outputs": [
    {
     "data": {
      "text/plain": [
       "-1.932298779026813"
      ]
     },
     "execution_count": 17,
     "metadata": {},
     "output_type": "execute_result"
    }
   ],
   "source": [
    "# 검정 통계량 Z\n",
    "Z = (s_mean-130)/np.sqrt(9/14)\n",
    "Z"
   ]
  },
  {
   "cell_type": "code",
   "execution_count": 18,
   "id": "4c1b05ea",
   "metadata": {},
   "outputs": [
    {
     "data": {
      "text/plain": [
       "(-1.959963984540054, 1.959963984540054)"
      ]
     },
     "execution_count": 18,
     "metadata": {},
     "output_type": "execute_result"
    }
   ],
   "source": [
    "# 양측 검정 ,임계값 : 표준 정규분포의 95% 구간에 따라 구할 수 있음\n",
    "rv = stats.norm()\n",
    "rv.isf(0.95)\n",
    "rv.interval(0.95)\n"
   ]
  },
  {
   "cell_type": "code",
   "execution_count": 19,
   "id": "1be2f583",
   "metadata": {},
   "outputs": [
    {
     "data": {
      "text/plain": [
       "0.026661319523126635"
      ]
     },
     "execution_count": 19,
     "metadata": {},
     "output_type": "execute_result"
    }
   ],
   "source": [
    "# 양측검정의 p값\n",
    "rv.cdf(Z)"
   ]
  },
  {
   "cell_type": "code",
   "execution_count": 20,
   "id": "b7b36332",
   "metadata": {},
   "outputs": [],
   "source": [
    "# 모분산을 아는경우  평균 모평균에 대한 양측검정을 위한 함수 \n",
    "# 정규분포를 기반\n",
    "\n",
    "def pmean_test(sample, mean0, p_var, alpha=0.05):\n",
    "    s_mean = np.mean(sample)\n",
    "    n = len(sample)\n",
    "    rv = stats.norm()\n",
    "    interval = rv.interval(1-alpha)\n",
    "\n",
    "    z = (s_mean - mean0) / np.sqrt(p_var/n)\n",
    "    if interval[0] <= z <= interval[1]:\n",
    "        print('귀무가설을 채택')\n",
    "    else:\n",
    "        print('귀무가설을 기각')\n",
    "\n",
    "    if z < 0:\n",
    "        p = rv.cdf(z) * 2\n",
    "    else:\n",
    "        p = (1 - rv.cdf(z)) * 2\n",
    "    print(f'p값은 {p:.3f}')\n"
   ]
  },
  {
   "cell_type": "code",
   "execution_count": 21,
   "id": "9702a176",
   "metadata": {},
   "outputs": [
    {
     "name": "stdout",
     "output_type": "stream",
     "text": [
      "귀무가설을 채택\n",
      "p값은 0.053\n"
     ]
    }
   ],
   "source": [
    "pmean_test(sample,130,9)"
   ]
  },
  {
   "cell_type": "code",
   "execution_count": 22,
   "id": "c98b820e",
   "metadata": {},
   "outputs": [],
   "source": [
    "# 양측검정 t-분포를 이용 \n",
    "def pmean_test(sample, mean0, alpha=0.05):\n",
    "    s_mean = np.mean(sample)\n",
    "    u_var = np.var(sample, ddof=1)\n",
    "    n = len(sample)\n",
    "    rv = stats.t(df=n-1)\n",
    "    interval = rv.interval(1-alpha)  # 임계값 계산 \n",
    "\n",
    "    t = (s_mean - mean0) / np.sqrt(u_var/n)\n",
    "    if interval[0] <= t <= interval[1]:\n",
    "        print('귀무가설을 채택')\n",
    "    else:\n",
    "        print('귀무가설을 기각')\n",
    "\n",
    "    if t < 0:\n",
    "        p = rv.cdf(t) * 2\n",
    "    else:\n",
    "        p = (1 - rv.cdf(t)) * 2\n",
    "    print(f'p값은 {p:.3f}')\n"
   ]
  },
  {
   "cell_type": "code",
   "execution_count": 23,
   "id": "4c4ec467",
   "metadata": {},
   "outputs": [
    {
     "name": "stdout",
     "output_type": "stream",
     "text": [
      "귀무가설을 채택\n",
      "p값은 0.169\n"
     ]
    }
   ],
   "source": [
    "pmean_test(sample,130,)"
   ]
  },
  {
   "cell_type": "code",
   "execution_count": 24,
   "id": "ad9e4c4a",
   "metadata": {},
   "outputs": [
    {
     "data": {
      "text/plain": [
       "(-1.4551960206404198, 0.16933464230414275)"
      ]
     },
     "execution_count": 24,
     "metadata": {},
     "output_type": "execute_result"
    }
   ],
   "source": [
    "t, p = stats.ttest_1samp(sample,130)\n",
    "t,p # 통계량 ,p_value"
   ]
  },
  {
   "cell_type": "markdown",
   "id": "d34f50c3",
   "metadata": {},
   "source": [
    "# 대응 표본"
   ]
  },
  {
   "cell_type": "markdown",
   "id": "9cc8111d",
   "metadata": {},
   "source": [
    "- 근력운동 전후 집중력 비교\n",
    "- 귀무가설 : 전과 후에 차이가 없다\n",
    "- 대립가설 : 전과 후에 차이가 있다 \n"
   ]
  },
  {
   "cell_type": "code",
   "execution_count": 26,
   "id": "c8d20107",
   "metadata": {},
   "outputs": [
    {
     "name": "stdout",
     "output_type": "stream",
     "text": [
      "(20, 2)\n"
     ]
    },
    {
     "data": {
      "text/html": [
       "<div>\n",
       "<style scoped>\n",
       "    .dataframe tbody tr th:only-of-type {\n",
       "        vertical-align: middle;\n",
       "    }\n",
       "\n",
       "    .dataframe tbody tr th {\n",
       "        vertical-align: top;\n",
       "    }\n",
       "\n",
       "    .dataframe thead th {\n",
       "        text-align: right;\n",
       "    }\n",
       "</style>\n",
       "<table border=\"1\" class=\"dataframe\">\n",
       "  <thead>\n",
       "    <tr style=\"text-align: right;\">\n",
       "      <th></th>\n",
       "      <th>전</th>\n",
       "      <th>후</th>\n",
       "    </tr>\n",
       "  </thead>\n",
       "  <tbody>\n",
       "    <tr>\n",
       "      <th>0</th>\n",
       "      <td>59</td>\n",
       "      <td>41</td>\n",
       "    </tr>\n",
       "    <tr>\n",
       "      <th>1</th>\n",
       "      <td>52</td>\n",
       "      <td>63</td>\n",
       "    </tr>\n",
       "    <tr>\n",
       "      <th>2</th>\n",
       "      <td>55</td>\n",
       "      <td>68</td>\n",
       "    </tr>\n",
       "    <tr>\n",
       "      <th>3</th>\n",
       "      <td>61</td>\n",
       "      <td>59</td>\n",
       "    </tr>\n",
       "    <tr>\n",
       "      <th>4</th>\n",
       "      <td>59</td>\n",
       "      <td>84</td>\n",
       "    </tr>\n",
       "  </tbody>\n",
       "</table>\n",
       "</div>"
      ],
      "text/plain": [
       "    전   후\n",
       "0  59  41\n",
       "1  52  63\n",
       "2  55  68\n",
       "3  61  59\n",
       "4  59  84"
      ]
     },
     "execution_count": 26,
     "metadata": {},
     "output_type": "execute_result"
    }
   ],
   "source": [
    "# 대응 표본 샘플 데이터\n",
    "data = pd.read_csv('./csv_File/ch11_training_rel.csv')\n",
    "print(data.shape)\n",
    "data.head()"
   ]
  },
  {
   "cell_type": "code",
   "execution_count": 27,
   "id": "9d9f6c8f",
   "metadata": {},
   "outputs": [
    {
     "data": {
      "text/html": [
       "<div>\n",
       "<style scoped>\n",
       "    .dataframe tbody tr th:only-of-type {\n",
       "        vertical-align: middle;\n",
       "    }\n",
       "\n",
       "    .dataframe tbody tr th {\n",
       "        vertical-align: top;\n",
       "    }\n",
       "\n",
       "    .dataframe thead th {\n",
       "        text-align: right;\n",
       "    }\n",
       "</style>\n",
       "<table border=\"1\" class=\"dataframe\">\n",
       "  <thead>\n",
       "    <tr style=\"text-align: right;\">\n",
       "      <th></th>\n",
       "      <th>전</th>\n",
       "      <th>후</th>\n",
       "    </tr>\n",
       "  </thead>\n",
       "  <tbody>\n",
       "    <tr>\n",
       "      <th>count</th>\n",
       "      <td>20.000000</td>\n",
       "      <td>20.000000</td>\n",
       "    </tr>\n",
       "    <tr>\n",
       "      <th>mean</th>\n",
       "      <td>52.850000</td>\n",
       "      <td>58.250000</td>\n",
       "    </tr>\n",
       "    <tr>\n",
       "      <th>std</th>\n",
       "      <td>4.295346</td>\n",
       "      <td>11.964311</td>\n",
       "    </tr>\n",
       "    <tr>\n",
       "      <th>min</th>\n",
       "      <td>45.000000</td>\n",
       "      <td>37.000000</td>\n",
       "    </tr>\n",
       "    <tr>\n",
       "      <th>25%</th>\n",
       "      <td>50.500000</td>\n",
       "      <td>51.750000</td>\n",
       "    </tr>\n",
       "    <tr>\n",
       "      <th>50%</th>\n",
       "      <td>52.000000</td>\n",
       "      <td>58.500000</td>\n",
       "    </tr>\n",
       "    <tr>\n",
       "      <th>75%</th>\n",
       "      <td>55.500000</td>\n",
       "      <td>65.750000</td>\n",
       "    </tr>\n",
       "    <tr>\n",
       "      <th>max</th>\n",
       "      <td>61.000000</td>\n",
       "      <td>84.000000</td>\n",
       "    </tr>\n",
       "  </tbody>\n",
       "</table>\n",
       "</div>"
      ],
      "text/plain": [
       "               전          후\n",
       "count  20.000000  20.000000\n",
       "mean   52.850000  58.250000\n",
       "std     4.295346  11.964311\n",
       "min    45.000000  37.000000\n",
       "25%    50.500000  51.750000\n",
       "50%    52.000000  58.500000\n",
       "75%    55.500000  65.750000\n",
       "max    61.000000  84.000000"
      ]
     },
     "execution_count": 27,
     "metadata": {},
     "output_type": "execute_result"
    }
   ],
   "source": [
    "## 기술통계\n",
    "data.describe()"
   ]
  },
  {
   "cell_type": "code",
   "execution_count": 28,
   "id": "6856daf0",
   "metadata": {},
   "outputs": [
    {
     "data": {
      "image/png": "[encoded data removed]",
      "text/plain": [
       "<Figure size 432x288 with 1 Axes>"
      ]
     },
     "metadata": {
      "needs_background": "light"
     },
     "output_type": "display_data"
    }
   ],
   "source": [
    "import matplotlib.pyplot as plt\n",
    "\n",
    "plt.boxplot(data)\n",
    "plt.show()"
   ]
  },
  {
   "cell_type": "code",
   "execution_count": 29,
   "id": "e6a602a5",
   "metadata": {},
   "outputs": [
    {
     "data": {
      "text/plain": [
       "ShapiroResult(statistic=0.9670043587684631, pvalue=0.6907904148101807)"
      ]
     },
     "execution_count": 29,
     "metadata": {},
     "output_type": "execute_result"
    }
   ],
   "source": [
    "# 정규성 검정\n",
    "stats.shapiro(data.전)"
   ]
  },
  {
   "cell_type": "code",
   "execution_count": 30,
   "id": "a9574fa5",
   "metadata": {},
   "outputs": [
    {
     "data": {
      "text/plain": [
       "ShapiroResult(statistic=0.9786623120307922, pvalue=0.9156785011291504)"
      ]
     },
     "execution_count": 30,
     "metadata": {},
     "output_type": "execute_result"
    }
   ],
   "source": [
    "stats.shapiro(data.후)"
   ]
  },
  {
   "cell_type": "code",
   "execution_count": 31,
   "id": "98093e6f",
   "metadata": {},
   "outputs": [
    {
     "data": {
      "text/plain": [
       "0     18\n",
       "1    -11\n",
       "2    -13\n",
       "3      2\n",
       "4    -25\n",
       "5      8\n",
       "6     -5\n",
       "7     -3\n",
       "8    -19\n",
       "9    -18\n",
       "10    -6\n",
       "11    -8\n",
       "12     3\n",
       "13    13\n",
       "14    -2\n",
       "15    -6\n",
       "16   -16\n",
       "17   -16\n",
       "18    -2\n",
       "19    -2\n",
       "dtype: int64"
      ]
     },
     "execution_count": 31,
     "metadata": {},
     "output_type": "execute_result"
    }
   ],
   "source": [
    "diff = data.전 - data.후\n",
    "diff"
   ]
  },
  {
   "cell_type": "code",
   "execution_count": 32,
   "id": "c089c60e",
   "metadata": {},
   "outputs": [
    {
     "data": {
      "text/plain": [
       "ShapiroResult(statistic=0.9785391688346863, pvalue=0.9138697981834412)"
      ]
     },
     "execution_count": 32,
     "metadata": {},
     "output_type": "execute_result"
    }
   ],
   "source": [
    "stats.shapiro(diff)"
   ]
  },
  {
   "cell_type": "code",
   "execution_count": 33,
   "id": "4445156c",
   "metadata": {},
   "outputs": [
    {
     "data": {
      "image/png": "[encoded data removed]",
      "text/plain": [
       "<Figure size 432x288 with 1 Axes>"
      ]
     },
     "metadata": {
      "needs_background": "light"
     },
     "output_type": "display_data"
    }
   ],
   "source": [
    "plt.boxplot(diff)\n",
    "plt.show()"
   ]
  },
  {
   "cell_type": "code",
   "execution_count": 34,
   "id": "0b9400b9",
   "metadata": {},
   "outputs": [
    {
     "data": {
      "text/plain": [
       "Ttest_1sampResult(statistic=-2.204154108716127, pvalue=0.04004419061842953)"
      ]
     },
     "execution_count": 34,
     "metadata": {},
     "output_type": "execute_result"
    }
   ],
   "source": [
    "stats.ttest_1samp(data.전-data.후,0)"
   ]
  },
  {
   "cell_type": "markdown",
   "id": "dc250cef",
   "metadata": {},
   "source": [
    "=> 귀무가설을 기각하므로 , 근력운동이 집중력에 영향이 있다고 볼수있다"
   ]
  },
  {
   "cell_type": "markdown",
   "id": "b5956b71",
   "metadata": {},
   "source": [
    "**예제 데이터**\n",
    "- 두 학급(A,B)에 근력운동을 수행하여 집중력 테스트\n",
    "- 귀무가설 : 두 학급의 집중력 차이가 없다\n",
    "- 대립가설: 두 학급의 집중력 차이가 있다(양측검정)"
   ]
  },
  {
   "cell_type": "code",
   "execution_count": 36,
   "id": "b5a09f38",
   "metadata": {},
   "outputs": [
    {
     "name": "stdout",
     "output_type": "stream",
     "text": [
      "(20, 2)\n"
     ]
    },
    {
     "data": {
      "text/html": [
       "<div>\n",
       "<style scoped>\n",
       "    .dataframe tbody tr th:only-of-type {\n",
       "        vertical-align: middle;\n",
       "    }\n",
       "\n",
       "    .dataframe tbody tr th {\n",
       "        vertical-align: top;\n",
       "    }\n",
       "\n",
       "    .dataframe thead th {\n",
       "        text-align: right;\n",
       "    }\n",
       "</style>\n",
       "<table border=\"1\" class=\"dataframe\">\n",
       "  <thead>\n",
       "    <tr style=\"text-align: right;\">\n",
       "      <th></th>\n",
       "      <th>A</th>\n",
       "      <th>B</th>\n",
       "    </tr>\n",
       "  </thead>\n",
       "  <tbody>\n",
       "    <tr>\n",
       "      <th>0</th>\n",
       "      <td>47</td>\n",
       "      <td>49</td>\n",
       "    </tr>\n",
       "    <tr>\n",
       "      <th>1</th>\n",
       "      <td>50</td>\n",
       "      <td>52</td>\n",
       "    </tr>\n",
       "    <tr>\n",
       "      <th>2</th>\n",
       "      <td>37</td>\n",
       "      <td>54</td>\n",
       "    </tr>\n",
       "    <tr>\n",
       "      <th>3</th>\n",
       "      <td>60</td>\n",
       "      <td>48</td>\n",
       "    </tr>\n",
       "    <tr>\n",
       "      <th>4</th>\n",
       "      <td>39</td>\n",
       "      <td>51</td>\n",
       "    </tr>\n",
       "  </tbody>\n",
       "</table>\n",
       "</div>"
      ],
      "text/plain": [
       "    A   B\n",
       "0  47  49\n",
       "1  50  52\n",
       "2  37  54\n",
       "3  60  48\n",
       "4  39  51"
      ]
     },
     "execution_count": 36,
     "metadata": {},
     "output_type": "execute_result"
    }
   ],
   "source": [
    "data = pd.read_csv('./csv_File/ch11_training_ind.csv')\n",
    "print(data.shape)\n",
    "data.head()"
   ]
  },
  {
   "cell_type": "code",
   "execution_count": 37,
   "id": "fe79f7da",
   "metadata": {},
   "outputs": [
    {
     "data": {
      "text/html": [
       "<div>\n",
       "<style scoped>\n",
       "    .dataframe tbody tr th:only-of-type {\n",
       "        vertical-align: middle;\n",
       "    }\n",
       "\n",
       "    .dataframe tbody tr th {\n",
       "        vertical-align: top;\n",
       "    }\n",
       "\n",
       "    .dataframe thead th {\n",
       "        text-align: right;\n",
       "    }\n",
       "</style>\n",
       "<table border=\"1\" class=\"dataframe\">\n",
       "  <thead>\n",
       "    <tr style=\"text-align: right;\">\n",
       "      <th></th>\n",
       "      <th>A</th>\n",
       "      <th>B</th>\n",
       "    </tr>\n",
       "  </thead>\n",
       "  <tbody>\n",
       "    <tr>\n",
       "      <th>count</th>\n",
       "      <td>20.000000</td>\n",
       "      <td>20.000000</td>\n",
       "    </tr>\n",
       "    <tr>\n",
       "      <th>mean</th>\n",
       "      <td>48.750000</td>\n",
       "      <td>52.050000</td>\n",
       "    </tr>\n",
       "    <tr>\n",
       "      <th>std</th>\n",
       "      <td>6.711145</td>\n",
       "      <td>5.020746</td>\n",
       "    </tr>\n",
       "    <tr>\n",
       "      <th>min</th>\n",
       "      <td>37.000000</td>\n",
       "      <td>41.000000</td>\n",
       "    </tr>\n",
       "    <tr>\n",
       "      <th>25%</th>\n",
       "      <td>44.750000</td>\n",
       "      <td>49.000000</td>\n",
       "    </tr>\n",
       "    <tr>\n",
       "      <th>50%</th>\n",
       "      <td>48.500000</td>\n",
       "      <td>52.000000</td>\n",
       "    </tr>\n",
       "    <tr>\n",
       "      <th>75%</th>\n",
       "      <td>53.000000</td>\n",
       "      <td>54.250000</td>\n",
       "    </tr>\n",
       "    <tr>\n",
       "      <th>max</th>\n",
       "      <td>64.000000</td>\n",
       "      <td>64.000000</td>\n",
       "    </tr>\n",
       "  </tbody>\n",
       "</table>\n",
       "</div>"
      ],
      "text/plain": [
       "               A          B\n",
       "count  20.000000  20.000000\n",
       "mean   48.750000  52.050000\n",
       "std     6.711145   5.020746\n",
       "min    37.000000  41.000000\n",
       "25%    44.750000  49.000000\n",
       "50%    48.500000  52.000000\n",
       "75%    53.000000  54.250000\n",
       "max    64.000000  64.000000"
      ]
     },
     "execution_count": 37,
     "metadata": {},
     "output_type": "execute_result"
    }
   ],
   "source": [
    "data.describe()"
   ]
  },
  {
   "cell_type": "code",
   "execution_count": 38,
   "id": "df986f92",
   "metadata": {},
   "outputs": [
    {
     "data": {
      "image/png": "[encoded data removed]",
      "text/plain": [
       "<Figure size 432x288 with 1 Axes>"
      ]
     },
     "metadata": {
      "needs_background": "light"
     },
     "output_type": "display_data"
    }
   ],
   "source": [
    "plt.boxplot(data)\n",
    "plt.show()"
   ]
  },
  {
   "cell_type": "code",
   "execution_count": 40,
   "id": "d3f954c8",
   "metadata": {},
   "outputs": [
    {
     "data": {
      "text/plain": [
       "ShapiroResult(statistic=0.9685941338539124, pvalue=0.7249506711959839)"
      ]
     },
     "execution_count": 40,
     "metadata": {},
     "output_type": "execute_result"
    }
   ],
   "source": [
    "# 정규성 검정\n",
    "stats.shapiro(data.A)\n"
   ]
  },
  {
   "cell_type": "code",
   "execution_count": 41,
   "id": "288655d4",
   "metadata": {},
   "outputs": [
    {
     "data": {
      "text/plain": [
       "ShapiroResult(statistic=0.9730017781257629, pvalue=0.8165717720985413)"
      ]
     },
     "execution_count": 41,
     "metadata": {},
     "output_type": "execute_result"
    }
   ],
   "source": [
    "stats.shapiro(data.B)"
   ]
  },
  {
   "cell_type": "markdown",
   "id": "dfd6a668",
   "metadata": {},
   "source": [
    "=> 두학급의 데이터는 모두 정규성을 만족 \n",
    "- 귀무가설 : 두집단의 분산이 같다"
   ]
  },
  {
   "cell_type": "code",
   "execution_count": 42,
   "id": "d09fb091",
   "metadata": {},
   "outputs": [
    {
     "data": {
      "text/plain": [
       "LeveneResult(statistic=2.061573118077718, pvalue=0.15923550057222613)"
      ]
     },
     "execution_count": 42,
     "metadata": {},
     "output_type": "execute_result"
    }
   ],
   "source": [
    "stats.levene(data.A,data.B)"
   ]
  },
  {
   "cell_type": "markdown",
   "id": "9a1e5f09",
   "metadata": {},
   "source": [
    "=> p값이 0.05 보다 크므로 귀무가설을 기각하지 않음, 즉 두 집단의 분산은 같다 (등분산)"
   ]
  },
  {
   "cell_type": "code",
   "execution_count": 43,
   "id": "a620a2c1",
   "metadata": {},
   "outputs": [
    {
     "data": {
      "text/plain": [
       "Ttest_indResult(statistic=-1.7608157246524712, pvalue=0.08631600572195147)"
      ]
     },
     "execution_count": 43,
     "metadata": {},
     "output_type": "execute_result"
    }
   ],
   "source": [
    "stats.ttest_ind(data.A,data.B,equal_var = True)"
   ]
  },
  {
   "cell_type": "markdown",
   "id": "f43b9dfb",
   "metadata": {},
   "source": [
    "=> 귀무가설 채택 : 두 집단의 집중력 차이가 없다 "
   ]
  },
  {
   "cell_type": "code",
   "execution_count": 44,
   "id": "a2310b8e",
   "metadata": {},
   "outputs": [
    {
     "data": {
      "text/plain": [
       "Ttest_indResult(statistic=-1.760815724652471, pvalue=0.08695731107259361)"
      ]
     },
     "execution_count": 44,
     "metadata": {},
     "output_type": "execute_result"
    }
   ],
   "source": [
    "stats.ttest_ind(data.A,data.B,equal_var = False)"
   ]
  },
  {
   "cell_type": "markdown",
   "id": "51880e17",
   "metadata": {},
   "source": [
    "### 정규성을 만족하지 않는 경우\n",
    "    1. 대응 표본 t-test는 윌콕슨 부호순위검정을 적용\n",
    "        - stats.silcoxon(전, 후)\n",
    "\n",
    "    2. 독립표본 t-test는 맨휘트니 U검정 적용\n",
    "        - stats.mannwhitneyu(A,B ,alternative = 'two-sided')\n"
   ]
  },
  {
   "cell_type": "markdown",
   "id": "a8fb99bb",
   "metadata": {},
   "source": [
    "# 카이제곱 검정\n",
    "- 범주형 데이터에 대하여\n",
    "- 카이제곱 분포 근거\n",
    "\n",
    "\n",
    "    1. 적합도 검정: 한 표본데이터가 어떤 분포를 하는지? \n",
    "    2. 동질성 검정: 두 범주형 데이터가 동일한 분포를 하는지?\n",
    "    3. 독립성 검정: 두 범주형 데이터가 서로 관련성 있는지(독립)?"
   ]
  },
  {
   "cell_type": "code",
   "execution_count": 45,
   "id": "24e36b00",
   "metadata": {},
   "outputs": [],
   "source": [
    "np.random.seed(1111)\n"
   ]
  },
  {
   "cell_type": "code",
   "execution_count": 47,
   "id": "321273c7",
   "metadata": {},
   "outputs": [
    {
     "name": "stdout",
     "output_type": "stream",
     "text": [
      "(1000, 2)\n"
     ]
    },
    {
     "data": {
      "text/html": [
       "<div>\n",
       "<style scoped>\n",
       "    .dataframe tbody tr th:only-of-type {\n",
       "        vertical-align: middle;\n",
       "    }\n",
       "\n",
       "    .dataframe tbody tr th {\n",
       "        vertical-align: top;\n",
       "    }\n",
       "\n",
       "    .dataframe thead th {\n",
       "        text-align: right;\n",
       "    }\n",
       "</style>\n",
       "<table border=\"1\" class=\"dataframe\">\n",
       "  <thead>\n",
       "    <tr style=\"text-align: right;\">\n",
       "      <th></th>\n",
       "      <th>광고</th>\n",
       "      <th>구입</th>\n",
       "    </tr>\n",
       "  </thead>\n",
       "  <tbody>\n",
       "    <tr>\n",
       "      <th>0</th>\n",
       "      <td>B</td>\n",
       "      <td>하지 않았다</td>\n",
       "    </tr>\n",
       "    <tr>\n",
       "      <th>1</th>\n",
       "      <td>B</td>\n",
       "      <td>하지 않았다</td>\n",
       "    </tr>\n",
       "    <tr>\n",
       "      <th>2</th>\n",
       "      <td>A</td>\n",
       "      <td>했다</td>\n",
       "    </tr>\n",
       "    <tr>\n",
       "      <th>3</th>\n",
       "      <td>A</td>\n",
       "      <td>했다</td>\n",
       "    </tr>\n",
       "    <tr>\n",
       "      <th>4</th>\n",
       "      <td>B</td>\n",
       "      <td>하지 않았다</td>\n",
       "    </tr>\n",
       "  </tbody>\n",
       "</table>\n",
       "</div>"
      ],
      "text/plain": [
       "  광고      구입\n",
       "0  B  하지 않았다\n",
       "1  B  하지 않았다\n",
       "2  A      했다\n",
       "3  A      했다\n",
       "4  B  하지 않았다"
      ]
     },
     "execution_count": 47,
     "metadata": {},
     "output_type": "execute_result"
    }
   ],
   "source": [
    "# 예제 데이터 \n",
    "data = pd.read_csv('./csv_File/ch11_ad.csv')\n",
    "print(data.shape)\n",
    "data.head()"
   ]
  },
  {
   "cell_type": "code",
   "execution_count": 49,
   "id": "e3c5a570",
   "metadata": {},
   "outputs": [
    {
     "data": {
      "text/html": [
       "<div>\n",
       "<style scoped>\n",
       "    .dataframe tbody tr th:only-of-type {\n",
       "        vertical-align: middle;\n",
       "    }\n",
       "\n",
       "    .dataframe tbody tr th {\n",
       "        vertical-align: top;\n",
       "    }\n",
       "\n",
       "    .dataframe thead th {\n",
       "        text-align: right;\n",
       "    }\n",
       "</style>\n",
       "<table border=\"1\" class=\"dataframe\">\n",
       "  <thead>\n",
       "    <tr style=\"text-align: right;\">\n",
       "      <th>구입</th>\n",
       "      <th>하지 않았다</th>\n",
       "      <th>했다</th>\n",
       "    </tr>\n",
       "    <tr>\n",
       "      <th>광고</th>\n",
       "      <th></th>\n",
       "      <th></th>\n",
       "    </tr>\n",
       "  </thead>\n",
       "  <tbody>\n",
       "    <tr>\n",
       "      <th>A</th>\n",
       "      <td>351</td>\n",
       "      <td>49</td>\n",
       "    </tr>\n",
       "    <tr>\n",
       "      <th>B</th>\n",
       "      <td>549</td>\n",
       "      <td>51</td>\n",
       "    </tr>\n",
       "  </tbody>\n",
       "</table>\n",
       "</div>"
      ],
      "text/plain": [
       "구입  하지 않았다  했다\n",
       "광고            \n",
       "A      351  49\n",
       "B      549  51"
      ]
     },
     "execution_count": 49,
     "metadata": {},
     "output_type": "execute_result"
    }
   ],
   "source": [
    "# 교차표 생성\n",
    "cross = pd.crosstab(data.광고,data.구입)\n",
    "cross "
   ]
  },
  {
   "cell_type": "code",
   "execution_count": 52,
   "id": "4f469103",
   "metadata": {},
   "outputs": [
    {
     "data": {
      "text/plain": [
       "(3.75,\n",
       " 0.052807511416113395,\n",
       " 1,\n",
       " array([[360.,  40.],\n",
       "        [540.,  60.]]))"
      ]
     },
     "execution_count": 52,
     "metadata": {},
     "output_type": "execute_result"
    }
   ],
   "source": [
    "# 카이제곱 독립성 검정\n",
    "stats.chi2_contingency(cross, correction = False)\n"
   ]
  },
  {
   "cell_type": "code",
   "execution_count": 53,
   "id": "4c2460eb",
   "metadata": {},
   "outputs": [],
   "source": [
    "stat,p,df,exp_tab = stats.chi2_contingency(cross, correction = False)"
   ]
  },
  {
   "cell_type": "code",
   "execution_count": 54,
   "id": "05a92b33",
   "metadata": {},
   "outputs": [
    {
     "data": {
      "text/plain": [
       "3.75"
      ]
     },
     "execution_count": 54,
     "metadata": {},
     "output_type": "execute_result"
    }
   ],
   "source": [
    "stat"
   ]
  },
  {
   "cell_type": "code",
   "execution_count": 55,
   "id": "d1ee4e4a",
   "metadata": {},
   "outputs": [
    {
     "data": {
      "text/plain": [
       "0.052807511416113395"
      ]
     },
     "execution_count": 55,
     "metadata": {},
     "output_type": "execute_result"
    }
   ],
   "source": [
    "p"
   ]
  },
  {
   "cell_type": "code",
   "execution_count": 56,
   "id": "2746f104",
   "metadata": {},
   "outputs": [
    {
     "data": {
      "text/plain": [
       "1"
      ]
     },
     "execution_count": 56,
     "metadata": {},
     "output_type": "execute_result"
    }
   ],
   "source": [
    "df"
   ]
  },
  {
   "cell_type": "code",
   "execution_count": 57,
   "id": "573a0745",
   "metadata": {},
   "outputs": [
    {
     "data": {
      "text/plain": [
       "array([[360.,  40.],\n",
       "       [540.,  60.]])"
      ]
     },
     "execution_count": 57,
     "metadata": {},
     "output_type": "execute_result"
    }
   ],
   "source": [
    "exp_tab"
   ]
  },
  {
   "cell_type": "code",
   "execution_count": null,
   "id": "c5090f7d",
   "metadata": {},
   "outputs": [],
   "source": []
  }
 ],
 "metadata": {
  "kernelspec": {
   "display_name": "Python 3",
   "language": "python",
   "name": "python3"
  },
  "language_info": {
   "codemirror_mode": {
    "name": "ipython",
    "version": 3
   },
   "file_extension": ".py",
   "mimetype": "text/x-python",
   "name": "python",
   "nbconvert_exporter": "python",
   "pygments_lexer": "ipython3",
   "version": "3.8.8"
  },
  "toc": {
   "base_numbering": 1,
   "nav_menu": {},
   "number_sections": true,
   "sideBar": true,
   "skip_h1_title": false,
   "title_cell": "Table of Contents",
   "title_sidebar": "Contents",
   "toc_cell": false,
   "toc_position": {},
   "toc_section_display": true,
   "toc_window_display": false
  }
 },
 "nbformat": 4,
 "nbformat_minor": 5
}
